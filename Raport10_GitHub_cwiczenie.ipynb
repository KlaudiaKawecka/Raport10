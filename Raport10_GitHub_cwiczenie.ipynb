{
  "nbformat": 4,
  "nbformat_minor": 0,
  "metadata": {
    "colab": {
      "provenance": [],
      "toc_visible": true,
      "include_colab_link": true
    },
    "kernelspec": {
      "name": "python3",
      "display_name": "Python 3"
    },
    "language_info": {
      "name": "python"
    }
  },
  "cells": [
    {
      "cell_type": "markdown",
      "metadata": {
        "id": "view-in-github",
        "colab_type": "text"
      },
      "source": [
        "<a href=\"https://colab.research.google.com/github/KlaudiaKawecka/Raport10/blob/main/Raport10_GitHub_cwiczenie.ipynb\" target=\"_parent\"><img src=\"https://colab.research.google.com/assets/colab-badge.svg\" alt=\"Open In Colab\"/></a>"
      ]
    },
    {
      "cell_type": "markdown",
      "source": [
        "#Profil"
      ],
      "metadata": {
        "id": "Aabq0YlLHP7R"
      }
    },
    {
      "cell_type": "markdown",
      "source": [
        "#Raport 7"
      ],
      "metadata": {
        "id": "sNgFW6mP39fY"
      }
    },
    {
      "cell_type": "markdown",
      "source": [
        "##**Analiza danych aplikacji mobilnych**\n",
        "###W tym projekcie analizujemy dane dotyczące aplikacji mobilnych z Google Play i App Store, aby pomóc firmie tworzącej darmowe aplikacje zrozumieć, jakie typy aplikacji przyciągają najwięcej użytkowników. Ponieważ firma zarabia głównie na reklamach wyświetlanych w aplikacjach, kluczowe znaczenie ma zwiększanie liczby użytkowników.\n",
        "##Celem projektu jest zidentyfikowanie cech aplikacji, które zwiększają ich szanse na sukces rynkowy. Do przeprowadzenia analizy wykorzystamy Pythona oraz środowisko Jupyter Notebook, łącząc wiedzę z zakresu zmiennych, list, słowników, pętli, instrukcji warunkowych i funkcji."
      ],
      "metadata": {
        "id": "s4h-KvNu-0yx"
      }
    },
    {
      "cell_type": "markdown",
      "source": [
        "###Otwarcie danych:"
      ],
      "metadata": {
        "id": "-ba2PtudyjIw"
      }
    },
    {
      "cell_type": "code",
      "source": [
        "!wget https://dq-content.s3.amazonaws.com/350/googleplaystore.csv -O googleplaystore.csv\n",
        "!wget https://dq-content.s3.amazonaws.com/350/AppleStore.csv -O AppleStore.csv\n",
        "\n",
        "from csv import reader\n",
        "\n",
        "with open('AppleStore.csv', encoding=\"utf-8\") as file:\n",
        "    read_file = reader(file)\n",
        "    ios = list(read_file)\n",
        "\n",
        "ios_header = ios[0]\n",
        "ios = ios[1:]\n",
        "\n",
        "with open('googleplaystore.csv', encoding=\"utf-8\") as file:\n",
        "    read_file = reader(file)\n",
        "    android = list(read_file)\n",
        "\n",
        "android_header = android[0]\n",
        "android = android[1:]\n",
        "\n",
        "\n"
      ],
      "metadata": {
        "colab": {
          "base_uri": "https://localhost:8080/"
        },
        "id": "uT8fvF-i84rZ",
        "outputId": "28740ee3-7f9d-4d98-9ab8-258054c69f15"
      },
      "execution_count": null,
      "outputs": [
        {
          "output_type": "stream",
          "name": "stdout",
          "text": [
            "--2025-04-27 20:36:52--  https://dq-content.s3.amazonaws.com/350/googleplaystore.csv\n",
            "Resolving dq-content.s3.amazonaws.com (dq-content.s3.amazonaws.com)... 3.5.9.205, 16.15.217.231, 3.5.22.215, ...\n",
            "Connecting to dq-content.s3.amazonaws.com (dq-content.s3.amazonaws.com)|3.5.9.205|:443... connected.\n",
            "HTTP request sent, awaiting response... 200 OK\n",
            "Length: 1349314 (1.3M) [text/csv]\n",
            "Saving to: ‘googleplaystore.csv’\n",
            "\n",
            "googleplaystore.csv 100%[===================>]   1.29M  4.33MB/s    in 0.3s    \n",
            "\n",
            "2025-04-27 20:36:53 (4.33 MB/s) - ‘googleplaystore.csv’ saved [1349314/1349314]\n",
            "\n",
            "--2025-04-27 20:36:53--  https://dq-content.s3.amazonaws.com/350/AppleStore.csv\n",
            "Resolving dq-content.s3.amazonaws.com (dq-content.s3.amazonaws.com)... 3.5.9.205, 16.15.217.231, 3.5.22.215, ...\n",
            "Connecting to dq-content.s3.amazonaws.com (dq-content.s3.amazonaws.com)|3.5.9.205|:443... connected.\n",
            "HTTP request sent, awaiting response... 200 OK\n",
            "Length: 725761 (709K) [text/csv]\n",
            "Saving to: ‘AppleStore.csv’\n",
            "\n",
            "AppleStore.csv      100%[===================>] 708.75K  2.81MB/s    in 0.2s    \n",
            "\n",
            "2025-04-27 20:36:53 (2.81 MB/s) - ‘AppleStore.csv’ saved [725761/725761]\n",
            "\n"
          ]
        }
      ]
    },
    {
      "cell_type": "markdown",
      "source": [
        "### Funkcja badająca dane:"
      ],
      "metadata": {
        "id": "3fDtXlUSzq17"
      }
    },
    {
      "cell_type": "code",
      "source": [
        "def explore_data(dataset, start, end, rows_and_columns=False):\n",
        "    dataset_slice = dataset[start:end]\n",
        "    for row in dataset_slice:\n",
        "        print(row)\n",
        "        print('\\n')\n",
        "\n",
        "    if rows_and_columns:\n",
        "        print('Number of rows:', len(dataset))\n",
        "        print('Number of columns:', len(dataset[0]))\n",
        "\n",
        "print(android_header)\n",
        "print('\\n')\n",
        "explore_data(android, 0, 3, True)\n"
      ],
      "metadata": {
        "colab": {
          "base_uri": "https://localhost:8080/"
        },
        "id": "LZiDivyuz3r4",
        "outputId": "34397d67-5b59-426a-e098-fdaae9f3d3da"
      },
      "execution_count": null,
      "outputs": [
        {
          "output_type": "stream",
          "name": "stdout",
          "text": [
            "['App', 'Category', 'Rating', 'Reviews', 'Size', 'Installs', 'Type', 'Price', 'Content Rating', 'Genres', 'Last Updated', 'Current Ver', 'Android Ver']\n",
            "\n",
            "\n",
            "['Photo Editor & Candy Camera & Grid & ScrapBook', 'ART_AND_DESIGN', '4.1', '159', '19M', '10,000+', 'Free', '0', 'Everyone', 'Art & Design', 'January 7, 2018', '1.0.0', '4.0.3 and up']\n",
            "\n",
            "\n",
            "['Coloring book moana', 'ART_AND_DESIGN', '3.9', '967', '14M', '500,000+', 'Free', '0', 'Everyone', 'Art & Design;Pretend Play', 'January 15, 2018', '2.0.0', '4.0.3 and up']\n",
            "\n",
            "\n",
            "['U Launcher Lite – FREE Live Cool Themes, Hide Apps', 'ART_AND_DESIGN', '4.7', '87510', '8.7M', '5,000,000+', 'Free', '0', 'Everyone', 'Art & Design', 'August 1, 2018', '1.2.4', '4.0.3 and up']\n",
            "\n",
            "\n",
            "Number of rows: 10841\n",
            "Number of columns: 13\n"
          ]
        }
      ]
    },
    {
      "cell_type": "code",
      "source": [
        "print(ios_header)\n",
        "print('\\n')\n",
        "explore_data(ios, 0, 3, True)"
      ],
      "metadata": {
        "colab": {
          "base_uri": "https://localhost:8080/"
        },
        "id": "h75bhTcf0NZP",
        "outputId": "35f4d8bf-89a0-46f8-bbfe-25e760dc7659"
      },
      "execution_count": null,
      "outputs": [
        {
          "output_type": "stream",
          "name": "stdout",
          "text": [
            "['id', 'track_name', 'size_bytes', 'currency', 'price', 'rating_count_tot', 'rating_count_ver', 'user_rating', 'user_rating_ver', 'ver', 'cont_rating', 'prime_genre', 'sup_devices.num', 'ipadSc_urls.num', 'lang.num', 'vpp_lic']\n",
            "\n",
            "\n",
            "['284882215', 'Facebook', '389879808', 'USD', '0.0', '2974676', '212', '3.5', '3.5', '95.0', '4+', 'Social Networking', '37', '1', '29', '1']\n",
            "\n",
            "\n",
            "['389801252', 'Instagram', '113954816', 'USD', '0.0', '2161558', '1289', '4.5', '4.0', '10.23', '12+', 'Photo & Video', '37', '0', '29', '1']\n",
            "\n",
            "\n",
            "['529479190', 'Clash of Clans', '116476928', 'USD', '0.0', '2130805', '579', '4.5', '4.5', '9.24.12', '9+', 'Games', '38', '5', '18', '1']\n",
            "\n",
            "\n",
            "Number of rows: 7197\n",
            "Number of columns: 16\n"
          ]
        }
      ]
    },
    {
      "cell_type": "markdown",
      "source": [
        "###Usuwanie złych danych"
      ],
      "metadata": {
        "id": "zvZyGaQY0iC8"
      }
    },
    {
      "cell_type": "code",
      "source": [
        "print(android[10472])\n",
        "print('\\n')\n",
        "print(android_header)\n",
        "print('\\n')\n",
        "print(android[0])"
      ],
      "metadata": {
        "colab": {
          "base_uri": "https://localhost:8080/"
        },
        "id": "3i58Y3GG05WE",
        "outputId": "0226845f-ab87-4baf-ff07-b4de7346b747"
      },
      "execution_count": null,
      "outputs": [
        {
          "output_type": "stream",
          "name": "stdout",
          "text": [
            "['Life Made WI-Fi Touchscreen Photo Frame', '1.9', '19', '3.0M', '1,000+', 'Free', '0', 'Everyone', '', 'February 11, 2018', '1.0.19', '4.0 and up']\n",
            "\n",
            "\n",
            "['App', 'Category', 'Rating', 'Reviews', 'Size', 'Installs', 'Type', 'Price', 'Content Rating', 'Genres', 'Last Updated', 'Current Ver', 'Android Ver']\n",
            "\n",
            "\n",
            "['Photo Editor & Candy Camera & Grid & ScrapBook', 'ART_AND_DESIGN', '4.1', '159', '19M', '10,000+', 'Free', '0', 'Everyone', 'Art & Design', 'January 7, 2018', '1.0.0', '4.0.3 and up']\n"
          ]
        }
      ]
    },
    {
      "cell_type": "code",
      "source": [
        "print(len(android))\n",
        "del android[10472]\n",
        "print(len(android))"
      ],
      "metadata": {
        "colab": {
          "base_uri": "https://localhost:8080/"
        },
        "id": "tbwRZ1pb1APF",
        "outputId": "0cad355d-35bf-470f-b43f-7c6fed7a6a2b"
      },
      "execution_count": null,
      "outputs": [
        {
          "output_type": "stream",
          "name": "stdout",
          "text": [
            "10841\n",
            "10840\n"
          ]
        }
      ]
    },
    {
      "cell_type": "code",
      "source": [
        "for app in android:\n",
        "    name = app[0]\n",
        "    if name == 'Instagram':\n",
        "        print(app)"
      ],
      "metadata": {
        "colab": {
          "base_uri": "https://localhost:8080/"
        },
        "id": "xKT29QkL1BIB",
        "outputId": "ff290ab2-baa7-4c38-f6a3-e8e67f8cc9d4"
      },
      "execution_count": null,
      "outputs": [
        {
          "output_type": "stream",
          "name": "stdout",
          "text": [
            "['Instagram', 'SOCIAL', '4.5', '66577313', 'Varies with device', '1,000,000,000+', 'Free', '0', 'Teen', 'Social', 'July 31, 2018', 'Varies with device', 'Varies with device']\n",
            "['Instagram', 'SOCIAL', '4.5', '66577446', 'Varies with device', '1,000,000,000+', 'Free', '0', 'Teen', 'Social', 'July 31, 2018', 'Varies with device', 'Varies with device']\n",
            "['Instagram', 'SOCIAL', '4.5', '66577313', 'Varies with device', '1,000,000,000+', 'Free', '0', 'Teen', 'Social', 'July 31, 2018', 'Varies with device', 'Varies with device']\n",
            "['Instagram', 'SOCIAL', '4.5', '66509917', 'Varies with device', '1,000,000,000+', 'Free', '0', 'Teen', 'Social', 'July 31, 2018', 'Varies with device', 'Varies with device']\n"
          ]
        }
      ]
    },
    {
      "cell_type": "markdown",
      "source": [
        "###Wykrywanie zduplikowanych aplikacji w zbiorze danych Google Play\n",
        "Podczas analizy zbioru danych Google Play zauważyliśmy, że niektóre aplikacje pojawiają się więcej niż raz. Duplikaty mogą wpływać na wyniki analizy, dlatego musimy je odpowiednio zidentyfikować i usunąć.\n",
        "\n",
        "Poniższy kod znajduje zduplikowane nazwy aplikacji:"
      ],
      "metadata": {
        "id": "EXFZhVhF1Iuw"
      }
    },
    {
      "cell_type": "code",
      "source": [
        "duplicate_apps = []\n",
        "unique_apps = []\n",
        "\n",
        "for app in android:\n",
        "    name = app[0]\n",
        "    if name in unique_apps:\n",
        "        duplicate_apps.append(name)\n",
        "    else:\n",
        "        unique_apps.append(name)\n",
        "\n",
        "print('Number of duplicate apps:', len(duplicate_apps))\n",
        "print('\\n')\n",
        "print('Examples of duplicate apps:', duplicate_apps[:15])"
      ],
      "metadata": {
        "colab": {
          "base_uri": "https://localhost:8080/"
        },
        "id": "nfgyC6NY1OKI",
        "outputId": "770b0d83-904d-4929-f7ba-6baa47fe97d2"
      },
      "execution_count": null,
      "outputs": [
        {
          "output_type": "stream",
          "name": "stdout",
          "text": [
            "Number of duplicate apps: 1181\n",
            "\n",
            "\n",
            "Examples of duplicate apps: ['Quick PDF Scanner + OCR FREE', 'Box', 'Google My Business', 'ZOOM Cloud Meetings', 'join.me - Simple Meetings', 'Box', 'Zenefits', 'Google Ads', 'Google My Business', 'Slack', 'FreshBooks Classic', 'Insightly CRM', 'QuickBooks Accounting: Invoicing & Expenses', 'HipChat - Chat Built for Teams', 'Xero Accounting Software']\n"
          ]
        }
      ]
    },
    {
      "cell_type": "markdown",
      "source": [
        "###Z wyniku widzimy, że w zbiorze danych znajduje się wiele zduplikowanych aplikacji.\n",
        "Nie będziemy usuwać duplikatów losowo. Zamiast tego, zachowamy tylko to wystąpienie aplikacji, które ma największą liczbę recenzji.\n",
        "Liczba recenzji może być dobrym wskaźnikiem jakości danych — im więcej recenzji, tym większa popularność aplikacji i większe prawdopodobieństwo, że dane są aktualne. Dzięki temu zachowamy najbardziej wartościowe informacje do dalszej analizy."
      ],
      "metadata": {
        "id": "cNRXQD3t1V8g"
      }
    },
    {
      "cell_type": "markdown",
      "source": [
        "###Tworzymy słownik:"
      ],
      "metadata": {
        "id": "SJVQOFPT1afu"
      }
    },
    {
      "cell_type": "code",
      "source": [
        "reviews_max = {}\n",
        "\n",
        "for app in android:\n",
        "    name = app[0]\n",
        "    n_reviews = float(app[3])\n",
        "\n",
        "    if name in reviews_max and reviews_max[name] < n_reviews:\n",
        "        reviews_max[name] = n_reviews\n",
        "\n",
        "    elif name not in reviews_max:\n",
        "        reviews_max[name] = n_reviews"
      ],
      "metadata": {
        "id": "p18SWs1-1qsA"
      },
      "execution_count": null,
      "outputs": []
    },
    {
      "cell_type": "code",
      "source": [
        "print('Expected length:', len(android) - 1181)\n",
        "print('Actual length:', len(reviews_max))"
      ],
      "metadata": {
        "colab": {
          "base_uri": "https://localhost:8080/"
        },
        "id": "Hp6colTc1tUl",
        "outputId": "4d693f98-0df8-4057-c397-e85c0b192003"
      },
      "execution_count": null,
      "outputs": [
        {
          "output_type": "stream",
          "name": "stdout",
          "text": [
            "Expected length: 9659\n",
            "Actual length: 9659\n"
          ]
        }
      ]
    },
    {
      "cell_type": "markdown",
      "source": [
        "###Tworzymy dwie puste listy: android_clean i already_added.\n",
        "W pętli przechodzimy przez dane android i dla każdej iteracji: Izolujemy nazwę aplikacji oraz liczbę recenzji. Jeśli liczba recenzji aplikacji pasuje do wartości w słowniku reviews_max i aplikacja nie została jeszcze dodana (jest w already_added), dodajemy ją do listy android_clean oraz nazwę aplikacji do already_added."
      ],
      "metadata": {
        "id": "jRqlkZHv1zSF"
      }
    },
    {
      "cell_type": "code",
      "source": [
        "android_clean = []\n",
        "already_added = []\n",
        "\n",
        "for app in android:\n",
        "    name = app[0]\n",
        "    n_reviews = float(app[3])\n",
        "\n",
        "    if (reviews_max[name] == n_reviews) and (name not in already_added):\n",
        "        android_clean.append(app)\n",
        "        already_added.append(name)"
      ],
      "metadata": {
        "id": "XHEimQ8h13oc"
      },
      "execution_count": null,
      "outputs": []
    },
    {
      "cell_type": "markdown",
      "source": [
        "### Teraz zbadamy nowy zestaw danych:"
      ],
      "metadata": {
        "id": "XGOjU3Xb18mg"
      }
    },
    {
      "cell_type": "code",
      "source": [
        "explore_data(android_clean, 0, 3, True)"
      ],
      "metadata": {
        "colab": {
          "base_uri": "https://localhost:8080/"
        },
        "id": "RMrwhHJH1-SU",
        "outputId": "31e1936a-7e07-481b-9361-b51b94165c8b"
      },
      "execution_count": null,
      "outputs": [
        {
          "output_type": "stream",
          "name": "stdout",
          "text": [
            "['Photo Editor & Candy Camera & Grid & ScrapBook', 'ART_AND_DESIGN', '4.1', '159', '19M', '10,000+', 'Free', '0', 'Everyone', 'Art & Design', 'January 7, 2018', '1.0.0', '4.0.3 and up']\n",
            "\n",
            "\n",
            "['U Launcher Lite – FREE Live Cool Themes, Hide Apps', 'ART_AND_DESIGN', '4.7', '87510', '8.7M', '5,000,000+', 'Free', '0', 'Everyone', 'Art & Design', 'August 1, 2018', '1.2.4', '4.0.3 and up']\n",
            "\n",
            "\n",
            "['Sketch - Draw & Paint', 'ART_AND_DESIGN', '4.5', '215644', '25M', '50,000,000+', 'Free', '0', 'Teen', 'Art & Design', 'June 8, 2018', 'Varies with device', '4.2 and up']\n",
            "\n",
            "\n",
            "Number of rows: 9659\n",
            "Number of columns: 13\n"
          ]
        }
      ]
    },
    {
      "cell_type": "markdown",
      "source": [
        "###Usuwanie aplikacji, których nazwy sugerują, że nie są one skierowane do anglojęzycznych odbiorców:"
      ],
      "metadata": {
        "id": "c3H8eZO-2DWi"
      }
    },
    {
      "cell_type": "code",
      "source": [
        "print(ios[813][1])\n",
        "print(ios[6731][1])\n",
        "\n",
        "print(android_clean[4412][0])\n",
        "print(android_clean[7940][0])"
      ],
      "metadata": {
        "colab": {
          "base_uri": "https://localhost:8080/"
        },
        "id": "qm-u_pdL2ZiH",
        "outputId": "2fbc7eae-135f-45c4-8eb6-29a7ac0faa44"
      },
      "execution_count": null,
      "outputs": [
        {
          "output_type": "stream",
          "name": "stdout",
          "text": [
            "爱奇艺PPS -《欢乐颂2》电视剧热播\n",
            "【脱出ゲーム】絶対に最後までプレイしないで 〜謎解き＆ブロックパズル〜\n",
            "中国語 AQリスニング\n",
            "لعبة تقدر تربح DZ\n"
          ]
        }
      ]
    },
    {
      "cell_type": "markdown",
      "source": [
        "### Chcemy usunąć aplikacje, których nazwy zawierają nietypowe znaki (takie, które nie występują w standardowym angielskim tekście).\n",
        "\n",
        "Angielski tekst składa się głównie z liter alfabetu angielskiego, cyfr (0–9), znaków interpunkcyjnych (., !, ?, ; itd.) i kilku symboli (+, *, / itd.). Wszystkie te znaki są kodowane w standardzie ASCII (wartości od 0 do 127).\n",
        "\n",
        "Dlatego zbudowano funkcję, która sprawdza, czy nazwa aplikacji zawiera tylko znaki ASCII. Wykorzystuje się do tego funkcję ord(), która zwraca numer kodowania znaku."
      ],
      "metadata": {
        "id": "rBiLw3YJ2msn"
      }
    },
    {
      "cell_type": "code",
      "source": [
        "def is_english(string):\n",
        "\n",
        "    for character in string:\n",
        "        if ord(character) > 127:\n",
        "            return False\n",
        "\n",
        "    return True\n",
        "\n",
        "print(is_english('Instagram'))\n",
        "print(is_english('爱奇艺PPS -《欢乐颂2》电视剧热播'))"
      ],
      "metadata": {
        "colab": {
          "base_uri": "https://localhost:8080/"
        },
        "id": "xhFTxu8n2pWC",
        "outputId": "4a0bfcd2-632b-46c2-dd7a-8417ca34fcce"
      },
      "execution_count": null,
      "outputs": [
        {
          "output_type": "stream",
          "name": "stdout",
          "text": [
            "True\n",
            "False\n"
          ]
        }
      ]
    },
    {
      "cell_type": "code",
      "source": [
        "print(is_english('Docs To Go™ Free Office Suite'))\n",
        "print(is_english('Instachat 😜'))\n",
        "\n",
        "print(ord('™'))\n",
        "print(ord('😜'))"
      ],
      "metadata": {
        "colab": {
          "base_uri": "https://localhost:8080/"
        },
        "id": "PRkjuXzM2t16",
        "outputId": "6ca98925-a484-43b8-82a8-5f04d8bc3056"
      },
      "execution_count": null,
      "outputs": [
        {
          "output_type": "stream",
          "name": "stdout",
          "text": [
            "False\n",
            "False\n",
            "8482\n",
            "128540\n"
          ]
        }
      ]
    },
    {
      "cell_type": "markdown",
      "source": [
        "###Aby zminimalizować utratę danych, usuniemy aplikację tylko wtedy, gdy jej nazwa zawiera więcej niż trzy znaki spoza standardu ASCII."
      ],
      "metadata": {
        "id": "d-AjIxmc2-pi"
      }
    },
    {
      "cell_type": "code",
      "source": [
        "def is_english(string):\n",
        "    non_ascii = 0\n",
        "\n",
        "    for character in string:\n",
        "        if ord(character) > 127:\n",
        "            non_ascii += 1\n",
        "\n",
        "    if non_ascii > 3:\n",
        "        return False\n",
        "    else:\n",
        "        return True\n",
        "\n",
        "print(is_english('Docs To Go™ Free Office Suite'))\n",
        "print(is_english('Instachat 😜'))"
      ],
      "metadata": {
        "colab": {
          "base_uri": "https://localhost:8080/"
        },
        "id": "XJcSalli3FsH",
        "outputId": "601c60a0-54ee-4bd3-c9b6-890b7d346494"
      },
      "execution_count": null,
      "outputs": [
        {
          "output_type": "stream",
          "name": "stdout",
          "text": [
            "True\n",
            "True\n"
          ]
        }
      ]
    },
    {
      "cell_type": "markdown",
      "source": [
        "###funkcja is_english(), do odfiltrowania aplikacji nieangielskich w obu zbiorach danych."
      ],
      "metadata": {
        "id": "I1_sHu0i3RC8"
      }
    },
    {
      "cell_type": "code",
      "source": [
        "android_english = []\n",
        "ios_english = []\n",
        "\n",
        "for app in android_clean:\n",
        "    name = app[0]\n",
        "    if is_english(name):\n",
        "        android_english.append(app)\n",
        "\n",
        "for app in ios:\n",
        "    name = app[1]\n",
        "    if is_english(name):\n",
        "        ios_english.append(app)\n",
        "\n",
        "explore_data(android_english, 0, 3, True)\n",
        "print('\\n')\n",
        "explore_data(ios_english, 0, 3, True)"
      ],
      "metadata": {
        "colab": {
          "base_uri": "https://localhost:8080/"
        },
        "id": "idbI33Z_3XII",
        "outputId": "19150490-42b6-4168-dc65-5672747cdde1"
      },
      "execution_count": null,
      "outputs": [
        {
          "output_type": "stream",
          "name": "stdout",
          "text": [
            "['Photo Editor & Candy Camera & Grid & ScrapBook', 'ART_AND_DESIGN', '4.1', '159', '19M', '10,000+', 'Free', '0', 'Everyone', 'Art & Design', 'January 7, 2018', '1.0.0', '4.0.3 and up']\n",
            "\n",
            "\n",
            "['U Launcher Lite – FREE Live Cool Themes, Hide Apps', 'ART_AND_DESIGN', '4.7', '87510', '8.7M', '5,000,000+', 'Free', '0', 'Everyone', 'Art & Design', 'August 1, 2018', '1.2.4', '4.0.3 and up']\n",
            "\n",
            "\n",
            "['Sketch - Draw & Paint', 'ART_AND_DESIGN', '4.5', '215644', '25M', '50,000,000+', 'Free', '0', 'Teen', 'Art & Design', 'June 8, 2018', 'Varies with device', '4.2 and up']\n",
            "\n",
            "\n",
            "Number of rows: 9614\n",
            "Number of columns: 13\n",
            "\n",
            "\n",
            "['284882215', 'Facebook', '389879808', 'USD', '0.0', '2974676', '212', '3.5', '3.5', '95.0', '4+', 'Social Networking', '37', '1', '29', '1']\n",
            "\n",
            "\n",
            "['389801252', 'Instagram', '113954816', 'USD', '0.0', '2161558', '1289', '4.5', '4.0', '10.23', '12+', 'Photo & Video', '37', '0', '29', '1']\n",
            "\n",
            "\n",
            "['529479190', 'Clash of Clans', '116476928', 'USD', '0.0', '2130805', '579', '4.5', '4.5', '9.24.12', '9+', 'Games', '38', '5', '18', '1']\n",
            "\n",
            "\n",
            "Number of rows: 6183\n",
            "Number of columns: 16\n"
          ]
        }
      ]
    },
    {
      "cell_type": "markdown",
      "source": [
        "###Wyodrębnianie darmowych aplikacji\n",
        "Tworzymy tylko aplikacje, które można pobrać i zainstalować za darmo, a nasze główne źródło przychodu to reklamy w aplikacjach. Nasze zbiory danych zawierają zarówno aplikacje darmowe, jak i płatne, dlatego musimy wyodrębnić tylko darmowe aplikacje do analizy."
      ],
      "metadata": {
        "id": "36-a4FC53miF"
      }
    },
    {
      "cell_type": "code",
      "source": [
        "android_final = []\n",
        "ios_final = []\n",
        "\n",
        "for app in android_english:\n",
        "    price = app[7]\n",
        "    if price == '0':\n",
        "        android_final.append(app)\n",
        "\n",
        "for app in ios_english:\n",
        "    price = app[4]\n",
        "    if price == '0.0':\n",
        "        ios_final.append(app)\n",
        "\n",
        "print(len(android_final))\n",
        "print(len(ios_final))"
      ],
      "metadata": {
        "colab": {
          "base_uri": "https://localhost:8080/"
        },
        "id": "txHjeaGk3ypA",
        "outputId": "1bba6e2c-5a73-4129-f4fe-e56a23c74486"
      },
      "execution_count": null,
      "outputs": [
        {
          "output_type": "stream",
          "name": "stdout",
          "text": [
            "8864\n",
            "3222\n"
          ]
        }
      ]
    },
    {
      "cell_type": "markdown",
      "source": [
        "### Najpopularniejsze aplikacje według gatunku: część pierwsza\n",
        "naszym celem jest określenie, jakie typy aplikacji przyciągają najwięcej użytkowników, ponieważ nasz przychód zależy od liczby osób korzystających z naszych aplikacji.\n",
        "\n",
        "Aby ograniczyć ryzyko i koszty, nasza strategia walidacji pomysłów obejmuje trzy kroki:\n",
        "\n",
        "Tworzymy minimalną wersję aplikacji na Androida i publikujemy ją w Google Play.\n",
        "Jeśli aplikacja spotka się z dobrym odbiorem, rozwijamy ją dalej.\n",
        "Jeśli po sześciu miesiącach aplikacja przynosi zysk, tworzymy także wersję na iOS i dodajemy ją do App Store.\n",
        "Ponieważ naszym celem jest obecność na obu rynkach, musimy znaleźć profile aplikacji, które odnoszą sukces zarówno w Google Play, jak i App Store (np. aplikacja produktywnościowa z elementami grywalizacji).\n",
        "\n",
        "Pierwszy krok analizy: stworzymy tabelę częstości dla kolumn:\n",
        "\n",
        "-prime_genre w danych App Store\n",
        "-Genres i Category w danych Google Play"
      ],
      "metadata": {
        "id": "C7pRdsaF4Dlz"
      }
    },
    {
      "cell_type": "markdown",
      "source": [
        "###Najpopularniejsze aplikacje według gatunku: część druga\n",
        "Budujemy dwie funkcje do analizy tabel częstości:\n",
        "\n",
        "Pierwsza funkcja stworzy tabelę częstości, która pokazuje procentowe udziały (jaki procent stanowi każda kategoria).\n",
        "Druga funkcja wyświetli te procenty w kolejności malejącej, od najczęstszej kategorii do najrzadszej."
      ],
      "metadata": {
        "id": "xGRFln5p4baU"
      }
    },
    {
      "cell_type": "code",
      "source": [
        "def freq_table(dataset, index):\n",
        "    table = {}\n",
        "    total = 0\n",
        "\n",
        "    for row in dataset:\n",
        "        total += 1\n",
        "        value = row[index]\n",
        "        if value in table:\n",
        "            table[value] += 1\n",
        "        else:\n",
        "            table[value] = 1\n",
        "\n",
        "    table_percentages = {}\n",
        "    for key in table:\n",
        "        percentage = (table[key] / total) * 100\n",
        "        table_percentages[key] = percentage\n",
        "\n",
        "    return table_percentages\n",
        "\n",
        "\n",
        "def display_table(dataset, index):\n",
        "    table = freq_table(dataset, index)\n",
        "    table_display = []\n",
        "    for key in table:\n",
        "        key_val_as_tuple = (table[key], key)\n",
        "        table_display.append(key_val_as_tuple)\n",
        "\n",
        "    table_sorted = sorted(table_display, reverse = True)\n",
        "    for entry in table_sorted:\n",
        "        print(entry[1], ':', entry[0])"
      ],
      "metadata": {
        "id": "w4KqLGAz4dTh"
      },
      "execution_count": null,
      "outputs": []
    },
    {
      "cell_type": "markdown",
      "source": [
        "###Najpopularniejsze aplikacje według gatunku: część trzecia\n",
        "Zaczynamy od analizy tabeli częstości dla kolumny prime_genre w zbiorze danych App Store."
      ],
      "metadata": {
        "id": "t6pHzuS64ga1"
      }
    },
    {
      "cell_type": "code",
      "source": [
        "display_table(ios_final, -5)"
      ],
      "metadata": {
        "colab": {
          "base_uri": "https://localhost:8080/"
        },
        "id": "FPWAfz1x416Z",
        "outputId": "285d09a3-b619-4fa6-b596-0f1808753d88"
      },
      "execution_count": null,
      "outputs": [
        {
          "output_type": "stream",
          "name": "stdout",
          "text": [
            "Games : 58.16263190564867\n",
            "Entertainment : 7.883302296710118\n",
            "Photo & Video : 4.9658597144630665\n",
            "Education : 3.662321539416512\n",
            "Social Networking : 3.2898820608317814\n",
            "Shopping : 2.60707635009311\n",
            "Utilities : 2.5139664804469275\n",
            "Sports : 2.1415270018621975\n",
            "Music : 2.0484171322160147\n",
            "Health & Fitness : 2.0173805090006205\n",
            "Productivity : 1.7380509000620732\n",
            "Lifestyle : 1.5828677839851024\n",
            "News : 1.3345747982619491\n",
            "Travel : 1.2414649286157666\n",
            "Finance : 1.1173184357541899\n",
            "Weather : 0.8690254500310366\n",
            "Food & Drink : 0.8069522036002483\n",
            "Reference : 0.5586592178770949\n",
            "Business : 0.5276225946617008\n",
            "Book : 0.4345127250155183\n",
            "Navigation : 0.186219739292365\n",
            "Medical : 0.186219739292365\n",
            "Catalogs : 0.12414649286157665\n"
          ]
        }
      ]
    },
    {
      "cell_type": "markdown",
      "source": [
        "### App Store\n",
        "Wśród darmowych aplikacji w języku angielskim ponad połowę (58,16%) stanowią gry. Aplikacje rozrywkowe to około 8%, a aplikacje związane ze zdjęciami i wideo — około 5%. Tylko 3,66% aplikacji dotyczy edukacji, a aplikacje społecznościowe to 3,29% całego zbioru.\n",
        "\n",
        "Ogólnie można zauważyć, że App Store (przynajmniej jego darmowa, anglojęzyczna część) jest zdominowany przez aplikacje nastawione na rozrywkę (gry, rozrywka, zdjęcia i wideo, sieci społecznościowe, sport, muzyka itd.). Z kolei aplikacje o praktycznym zastosowaniu (edukacja, zakupy, narzędzia, produktywność, styl życia) są mniej liczne.\n",
        "Ważne jednak: to, że aplikacji rozrywkowych jest najwięcej, nie oznacza jeszcze, że mają one najwięcej użytkowników — podaż i popyt mogą się różnić.\n",
        "\n",
        "Teraz przejdźmy do analizy kolumn Genres i Category w zbiorze danych Google Play — wydaje się, że te dwie kolumny są ze sobą powiązane."
      ],
      "metadata": {
        "id": "n5dgWLxw5KwU"
      }
    },
    {
      "cell_type": "code",
      "source": [
        "display_table(android_final, 1)"
      ],
      "metadata": {
        "colab": {
          "base_uri": "https://localhost:8080/"
        },
        "id": "x7hQpitQ5Wce",
        "outputId": "6ecf24a8-25c4-4603-ee12-9970fb18da8b"
      },
      "execution_count": null,
      "outputs": [
        {
          "output_type": "stream",
          "name": "stdout",
          "text": [
            "FAMILY : 18.907942238267147\n",
            "GAME : 9.724729241877256\n",
            "TOOLS : 8.461191335740072\n",
            "BUSINESS : 4.591606498194946\n",
            "LIFESTYLE : 3.9034296028880866\n",
            "PRODUCTIVITY : 3.892148014440433\n",
            "FINANCE : 3.7003610108303246\n",
            "MEDICAL : 3.531137184115524\n",
            "SPORTS : 3.395758122743682\n",
            "PERSONALIZATION : 3.3167870036101084\n",
            "COMMUNICATION : 3.2378158844765346\n",
            "HEALTH_AND_FITNESS : 3.0798736462093865\n",
            "PHOTOGRAPHY : 2.944494584837545\n",
            "NEWS_AND_MAGAZINES : 2.7978339350180503\n",
            "SOCIAL : 2.6624548736462095\n",
            "TRAVEL_AND_LOCAL : 2.33528880866426\n",
            "SHOPPING : 2.2450361010830324\n",
            "BOOKS_AND_REFERENCE : 2.1435018050541514\n",
            "DATING : 1.861462093862816\n",
            "VIDEO_PLAYERS : 1.7937725631768955\n",
            "MAPS_AND_NAVIGATION : 1.3989169675090252\n",
            "FOOD_AND_DRINK : 1.2409747292418771\n",
            "EDUCATION : 1.1620036101083033\n",
            "ENTERTAINMENT : 0.9589350180505415\n",
            "LIBRARIES_AND_DEMO : 0.9363718411552346\n",
            "AUTO_AND_VEHICLES : 0.9250902527075812\n",
            "HOUSE_AND_HOME : 0.8235559566787004\n",
            "WEATHER : 0.8009927797833934\n",
            "EVENTS : 0.7107400722021661\n",
            "PARENTING : 0.6543321299638989\n",
            "ART_AND_DESIGN : 0.6430505415162455\n",
            "COMICS : 0.6204873646209386\n",
            "BEAUTY : 0.5979241877256317\n"
          ]
        }
      ]
    },
    {
      "cell_type": "markdown",
      "source": [
        "###Na Google Play sytuacja wygląda inaczej\n",
        "Nie ma aż tylu aplikacji nastawionych wyłącznie na rozrywkę — widać też sporo aplikacji o praktycznym zastosowaniu (rodzina, narzędzia, biznes, styl życia, produktywność itd.).\n",
        "\n",
        "Jednak gdy przyjrzymy się bliżej, zauważymy, że kategoria Family (która obejmuje prawie 19% aplikacji) w większości składa się z gier dla dzieci.\n",
        "\n"
      ],
      "metadata": {
        "id": "pAQ66DsP5Zku"
      }
    },
    {
      "cell_type": "markdown",
      "source": [
        "###Mimo wszystko aplikacje praktyczne są lepiej reprezentowane na Google Play niż w App Store.\n",
        "Potwierdza to również tabela częstości dla kolumny Genres, którą możemy zobaczyć."
      ],
      "metadata": {
        "id": "saB0eVsQ51wk"
      }
    },
    {
      "cell_type": "code",
      "source": [
        "display_table(android_final, -4)"
      ],
      "metadata": {
        "colab": {
          "base_uri": "https://localhost:8080/"
        },
        "id": "ytXi40_H585n",
        "outputId": "96197ef4-387e-42d7-876e-29720a6d9cbe"
      },
      "execution_count": null,
      "outputs": [
        {
          "output_type": "stream",
          "name": "stdout",
          "text": [
            "Tools : 8.449909747292418\n",
            "Entertainment : 6.069494584837545\n",
            "Education : 5.347472924187725\n",
            "Business : 4.591606498194946\n",
            "Productivity : 3.892148014440433\n",
            "Lifestyle : 3.892148014440433\n",
            "Finance : 3.7003610108303246\n",
            "Medical : 3.531137184115524\n",
            "Sports : 3.463447653429603\n",
            "Personalization : 3.3167870036101084\n",
            "Communication : 3.2378158844765346\n",
            "Action : 3.1024368231046933\n",
            "Health & Fitness : 3.0798736462093865\n",
            "Photography : 2.944494584837545\n",
            "News & Magazines : 2.7978339350180503\n",
            "Social : 2.6624548736462095\n",
            "Travel & Local : 2.3240072202166067\n",
            "Shopping : 2.2450361010830324\n",
            "Books & Reference : 2.1435018050541514\n",
            "Simulation : 2.0419675090252705\n",
            "Dating : 1.861462093862816\n",
            "Arcade : 1.8501805054151623\n",
            "Video Players & Editors : 1.7712093862815883\n",
            "Casual : 1.7599277978339352\n",
            "Maps & Navigation : 1.3989169675090252\n",
            "Food & Drink : 1.2409747292418771\n",
            "Puzzle : 1.128158844765343\n",
            "Racing : 0.9927797833935018\n",
            "Role Playing : 0.9363718411552346\n",
            "Libraries & Demo : 0.9363718411552346\n",
            "Auto & Vehicles : 0.9250902527075812\n",
            "Strategy : 0.9138086642599278\n",
            "House & Home : 0.8235559566787004\n",
            "Weather : 0.8009927797833934\n",
            "Events : 0.7107400722021661\n",
            "Adventure : 0.6768953068592057\n",
            "Comics : 0.6092057761732852\n",
            "Beauty : 0.5979241877256317\n",
            "Art & Design : 0.5979241877256317\n",
            "Parenting : 0.4963898916967509\n",
            "Card : 0.45126353790613716\n",
            "Casino : 0.42870036101083037\n",
            "Trivia : 0.41741877256317694\n",
            "Educational;Education : 0.39485559566787\n",
            "Board : 0.3835740072202166\n",
            "Educational : 0.3722924187725632\n",
            "Education;Education : 0.33844765342960287\n",
            "Word : 0.2594765342960289\n",
            "Casual;Pretend Play : 0.236913357400722\n",
            "Music : 0.2030685920577617\n",
            "Racing;Action & Adventure : 0.16922382671480143\n",
            "Puzzle;Brain Games : 0.16922382671480143\n",
            "Entertainment;Music & Video : 0.16922382671480143\n",
            "Casual;Brain Games : 0.13537906137184114\n",
            "Casual;Action & Adventure : 0.13537906137184114\n",
            "Arcade;Action & Adventure : 0.12409747292418773\n",
            "Action;Action & Adventure : 0.10153429602888085\n",
            "Educational;Pretend Play : 0.09025270758122744\n",
            "Simulation;Action & Adventure : 0.078971119133574\n",
            "Parenting;Education : 0.078971119133574\n",
            "Entertainment;Brain Games : 0.078971119133574\n",
            "Board;Brain Games : 0.078971119133574\n",
            "Parenting;Music & Video : 0.06768953068592057\n",
            "Educational;Brain Games : 0.06768953068592057\n",
            "Casual;Creativity : 0.06768953068592057\n",
            "Art & Design;Creativity : 0.06768953068592057\n",
            "Education;Pretend Play : 0.056407942238267145\n",
            "Role Playing;Pretend Play : 0.04512635379061372\n",
            "Education;Creativity : 0.04512635379061372\n",
            "Role Playing;Action & Adventure : 0.033844765342960284\n",
            "Puzzle;Action & Adventure : 0.033844765342960284\n",
            "Entertainment;Creativity : 0.033844765342960284\n",
            "Entertainment;Action & Adventure : 0.033844765342960284\n",
            "Educational;Creativity : 0.033844765342960284\n",
            "Educational;Action & Adventure : 0.033844765342960284\n",
            "Education;Music & Video : 0.033844765342960284\n",
            "Education;Brain Games : 0.033844765342960284\n",
            "Education;Action & Adventure : 0.033844765342960284\n",
            "Adventure;Action & Adventure : 0.033844765342960284\n",
            "Video Players & Editors;Music & Video : 0.02256317689530686\n",
            "Sports;Action & Adventure : 0.02256317689530686\n",
            "Simulation;Pretend Play : 0.02256317689530686\n",
            "Puzzle;Creativity : 0.02256317689530686\n",
            "Music;Music & Video : 0.02256317689530686\n",
            "Entertainment;Pretend Play : 0.02256317689530686\n",
            "Casual;Education : 0.02256317689530686\n",
            "Board;Action & Adventure : 0.02256317689530686\n",
            "Video Players & Editors;Creativity : 0.01128158844765343\n",
            "Trivia;Education : 0.01128158844765343\n",
            "Travel & Local;Action & Adventure : 0.01128158844765343\n",
            "Tools;Education : 0.01128158844765343\n",
            "Strategy;Education : 0.01128158844765343\n",
            "Strategy;Creativity : 0.01128158844765343\n",
            "Strategy;Action & Adventure : 0.01128158844765343\n",
            "Simulation;Education : 0.01128158844765343\n",
            "Role Playing;Brain Games : 0.01128158844765343\n",
            "Racing;Pretend Play : 0.01128158844765343\n",
            "Puzzle;Education : 0.01128158844765343\n",
            "Parenting;Brain Games : 0.01128158844765343\n",
            "Music & Audio;Music & Video : 0.01128158844765343\n",
            "Lifestyle;Pretend Play : 0.01128158844765343\n",
            "Lifestyle;Education : 0.01128158844765343\n",
            "Health & Fitness;Education : 0.01128158844765343\n",
            "Health & Fitness;Action & Adventure : 0.01128158844765343\n",
            "Entertainment;Education : 0.01128158844765343\n",
            "Communication;Creativity : 0.01128158844765343\n",
            "Comics;Creativity : 0.01128158844765343\n",
            "Casual;Music & Video : 0.01128158844765343\n",
            "Card;Action & Adventure : 0.01128158844765343\n",
            "Books & Reference;Education : 0.01128158844765343\n",
            "Art & Design;Pretend Play : 0.01128158844765343\n",
            "Art & Design;Action & Adventure : 0.01128158844765343\n",
            "Arcade;Pretend Play : 0.01128158844765343\n",
            "Adventure;Education : 0.01128158844765343\n"
          ]
        }
      ]
    },
    {
      "cell_type": "markdown",
      "source": [
        "###Najpopularniejsze aplikacje według gatunku w App Store"
      ],
      "metadata": {
        "id": "a6tFyPER6Hmb"
      }
    },
    {
      "cell_type": "markdown",
      "source": [
        "###średnia liczba ocen użytkowników dla każdego gatunku aplikacji w App Store:"
      ],
      "metadata": {
        "id": "rHKSUk6-6VbD"
      }
    },
    {
      "cell_type": "code",
      "source": [
        "genres_ios = freq_table(ios_final, -5)\n",
        "\n",
        "for genre in genres_ios:\n",
        "    total = 0\n",
        "    len_genre = 0\n",
        "    for app in ios_final:\n",
        "        genre_app = app[-5]\n",
        "        if genre_app == genre:\n",
        "            n_ratings = float(app[5])\n",
        "            total += n_ratings\n",
        "            len_genre += 1\n",
        "    avg_n_ratings = total / len_genre\n",
        "    print(genre, ':', avg_n_ratings)"
      ],
      "metadata": {
        "colab": {
          "base_uri": "https://localhost:8080/"
        },
        "id": "9ar-lHSl6Xn9",
        "outputId": "49d1dfdc-1bc5-4422-a598-9d0c9a3d63fd"
      },
      "execution_count": null,
      "outputs": [
        {
          "output_type": "stream",
          "name": "stdout",
          "text": [
            "Social Networking : 71548.34905660378\n",
            "Photo & Video : 28441.54375\n",
            "Games : 22788.6696905016\n",
            "Music : 57326.530303030304\n",
            "Reference : 74942.11111111111\n",
            "Health & Fitness : 23298.015384615384\n",
            "Weather : 52279.892857142855\n",
            "Utilities : 18684.456790123455\n",
            "Travel : 28243.8\n",
            "Shopping : 26919.690476190477\n",
            "News : 21248.023255813954\n",
            "Navigation : 86090.33333333333\n",
            "Lifestyle : 16485.764705882353\n",
            "Entertainment : 14029.830708661417\n",
            "Food & Drink : 33333.92307692308\n",
            "Sports : 23008.898550724636\n",
            "Book : 39758.5\n",
            "Finance : 31467.944444444445\n",
            "Education : 7003.983050847458\n",
            "Productivity : 21028.410714285714\n",
            "Business : 7491.117647058823\n",
            "Catalogs : 4004.0\n",
            "Medical : 612.0\n"
          ]
        }
      ]
    },
    {
      "cell_type": "code",
      "source": [
        "for app in ios_final:\n",
        "    if app[-5] == 'Navigation':\n",
        "        print(app[1], ':', app[5])"
      ],
      "metadata": {
        "colab": {
          "base_uri": "https://localhost:8080/"
        },
        "id": "ujdOoSXZ6hHW",
        "outputId": "9ef36b94-aa1e-490b-d60a-c0a52a0dcb7d"
      },
      "execution_count": null,
      "outputs": [
        {
          "output_type": "stream",
          "name": "stdout",
          "text": [
            "Waze - GPS Navigation, Maps & Real-time Traffic : 345046\n",
            "Google Maps - Navigation & Transit : 154911\n",
            "Geocaching® : 12811\n",
            "CoPilot GPS – Car Navigation & Offline Maps : 3582\n",
            "ImmobilienScout24: Real Estate Search in Germany : 187\n",
            "Railway Route Search : 5\n"
          ]
        }
      ]
    },
    {
      "cell_type": "markdown",
      "source": [
        "###Naszym celem jest znalezienie popularnych gatunków, ale aplikacje nawigacyjne, społecznościowe czy muzyczne mogą wydawać się bardziej popularne, niż są w rzeczywistości.\n",
        "Średnie liczby ocen są zaburzone przez kilka aplikacji z setkami tysięcy ocen, podczas gdy reszta ledwo przekracza próg 10 000 ocen.\n",
        "Lepszy obraz sytuacji uzyskalibyśmy, gdybyśmy usunęli te najbardziej popularne aplikacje i wtedy przeliczyli średnie — ale tym zajmiemy się później.\n",
        "\n",
        "W przypadku aplikacji typu \"reference\" średnia liczba ocen wynosi 74 942, ale to głównie dzięki The Bible i Dictionary.com, które mocno zawyżają wyniki."
      ],
      "metadata": {
        "id": "e4qgiwKd6zk6"
      }
    },
    {
      "cell_type": "code",
      "source": [
        "for app in ios_final:\n",
        "    if app[-5] == 'Reference':\n",
        "        print(app[1], ':', app[5])"
      ],
      "metadata": {
        "colab": {
          "base_uri": "https://localhost:8080/"
        },
        "id": "1xSnywF-655k",
        "outputId": "e7a221a3-dd66-468f-96d3-ad8b5ceafabe"
      },
      "execution_count": null,
      "outputs": [
        {
          "output_type": "stream",
          "name": "stdout",
          "text": [
            "Bible : 985920\n",
            "Dictionary.com Dictionary & Thesaurus : 200047\n",
            "Dictionary.com Dictionary & Thesaurus for iPad : 54175\n",
            "Google Translate : 26786\n",
            "Muslim Pro: Ramadan 2017 Prayer Times, Azan, Quran : 18418\n",
            "New Furniture Mods - Pocket Wiki & Game Tools for Minecraft PC Edition : 17588\n",
            "Merriam-Webster Dictionary : 16849\n",
            "Night Sky : 12122\n",
            "City Maps for Minecraft PE - The Best Maps for Minecraft Pocket Edition (MCPE) : 8535\n",
            "LUCKY BLOCK MOD ™ for Minecraft PC Edition - The Best Pocket Wiki & Mods Installer Tools : 4693\n",
            "GUNS MODS for Minecraft PC Edition - Mods Tools : 1497\n",
            "Guides for Pokémon GO - Pokemon GO News and Cheats : 826\n",
            "WWDC : 762\n",
            "Horror Maps for Minecraft PE - Download The Scariest Maps for Minecraft Pocket Edition (MCPE) Free : 718\n",
            "VPN Express : 14\n",
            "Real Bike Traffic Rider Virtual Reality Glasses : 8\n",
            "教えて!goo : 0\n",
            "Jishokun-Japanese English Dictionary & Translator : 0\n"
          ]
        }
      ]
    },
    {
      "cell_type": "markdown",
      "source": [
        "###Chociaż aplikacje referencyjne wydają się mieć pewien potencjał, możemy rozważyć stworzenie aplikacji opartej na popularnej książce, wzbogaconej o dodatkowe funkcje — takie jak codzienne cytaty, wersja audio, quizy czy inne interaktywne opcje. Dodatkowo, w aplikacji można by dodać słownik, by użytkownicy nie musieli opuszczać jej w celu sprawdzenia definicji słów.\n",
        "\n",
        "Taki pomysł mógłby zyskać zainteresowanie w App Store, który w dużej mierze jest zdominowany przez aplikacje rozrywkowe. W takim przypadku aplikacja praktyczna mogłaby się wyróżniać na tle licznych aplikacji rozrywkowych.\n",
        "\n",
        "Inne popularne kategorie to pogoda, książki, jedzenie i napoje oraz finanse, jednak nie wydają się one dla nas interesujące:\n",
        "\n",
        "Aplikacje pogodowe — użytkownicy rzadko spędzają czas w takich aplikacjach, a zarabianie na reklamach w takich przypadkach jest trudne.\n",
        "Jedzenie i napoje — wymagałoby to stworzenia usługi dostawy, co wykracza poza naszą działalność.\n",
        "Finanse — aplikacje tego typu wymagają specjalistycznej wiedzy, której musielibyśmy się nauczyć lub zatrudnić eksperta.\n",
        "Teraz przyjrzyjmy się rynkowi Google Play.\n",
        "\n"
      ],
      "metadata": {
        "id": "8hFPfXmY7cZ2"
      }
    },
    {
      "cell_type": "markdown",
      "source": [
        "###Najpopularniejsze aplikacje według gatunku w Google Play"
      ],
      "metadata": {
        "id": "t1KfRQUA7mnl"
      }
    },
    {
      "cell_type": "code",
      "source": [
        "display_table(android_final, 5)"
      ],
      "metadata": {
        "colab": {
          "base_uri": "https://localhost:8080/"
        },
        "id": "oRMLph1G7ohJ",
        "outputId": "0c74eb21-b350-471e-fd90-09a77d5f23ee"
      },
      "execution_count": null,
      "outputs": [
        {
          "output_type": "stream",
          "name": "stdout",
          "text": [
            "1,000,000+ : 15.726534296028879\n",
            "100,000+ : 11.552346570397113\n",
            "10,000,000+ : 10.548285198555957\n",
            "10,000+ : 10.198555956678701\n",
            "1,000+ : 8.393501805054152\n",
            "100+ : 6.915613718411552\n",
            "5,000,000+ : 6.825361010830325\n",
            "500,000+ : 5.561823104693141\n",
            "50,000+ : 4.7721119133574\n",
            "5,000+ : 4.512635379061372\n",
            "10+ : 3.5424187725631766\n",
            "500+ : 3.2490974729241873\n",
            "50,000,000+ : 2.3014440433213\n",
            "100,000,000+ : 2.1322202166064983\n",
            "50+ : 1.917870036101083\n",
            "5+ : 0.78971119133574\n",
            "1+ : 0.5076714801444043\n",
            "500,000,000+ : 0.2707581227436823\n",
            "1,000,000,000+ : 0.22563176895306858\n",
            "0+ : 0.04512635379061372\n",
            "0 : 0.01128158844765343\n"
          ]
        }
      ]
    },
    {
      "cell_type": "markdown",
      "source": [
        "###Dane o instalacjach są nieprecyzyjne\n",
        "ale wystarczą do analizy, więc traktujemy aplikację z 100,000+ instalacji jako 100,000, a z 1,000,000+ jako 1,000,000. Przed obliczeniami usuwamy przecinki i znak plus, aby przekonwertować te wartości na liczby zmiennoprzecinkowe."
      ],
      "metadata": {
        "id": "iftkbv0H8NFI"
      }
    },
    {
      "cell_type": "code",
      "source": [
        "categories_android = freq_table(android_final, 1)\n",
        "\n",
        "for category in categories_android:\n",
        "    total = 0\n",
        "    len_category = 0\n",
        "    for app in android_final:\n",
        "        category_app = app[1]\n",
        "        if category_app == category:\n",
        "            n_installs = app[5]\n",
        "            n_installs = n_installs.replace(',', '')\n",
        "            n_installs = n_installs.replace('+', '')\n",
        "            total += float(n_installs)\n",
        "            len_category += 1\n",
        "    avg_n_installs = total / len_category\n",
        "    print(category, ':', avg_n_installs)"
      ],
      "metadata": {
        "colab": {
          "base_uri": "https://localhost:8080/"
        },
        "id": "w6BhXy7c8DPf",
        "outputId": "c7d00edc-c8b6-4084-cd99-aa95a929cd49"
      },
      "execution_count": null,
      "outputs": [
        {
          "output_type": "stream",
          "name": "stdout",
          "text": [
            "ART_AND_DESIGN : 1986335.0877192982\n",
            "AUTO_AND_VEHICLES : 647317.8170731707\n",
            "BEAUTY : 513151.88679245283\n",
            "BOOKS_AND_REFERENCE : 8767811.894736841\n",
            "BUSINESS : 1712290.1474201474\n",
            "COMICS : 817657.2727272727\n",
            "COMMUNICATION : 38456119.167247385\n",
            "DATING : 854028.8303030303\n",
            "EDUCATION : 1833495.145631068\n",
            "ENTERTAINMENT : 11640705.88235294\n",
            "EVENTS : 253542.22222222222\n",
            "FINANCE : 1387692.475609756\n",
            "FOOD_AND_DRINK : 1924897.7363636363\n",
            "HEALTH_AND_FITNESS : 4188821.9853479853\n",
            "HOUSE_AND_HOME : 1331540.5616438356\n",
            "LIBRARIES_AND_DEMO : 638503.734939759\n",
            "LIFESTYLE : 1437816.2687861272\n",
            "GAME : 15588015.603248259\n",
            "FAMILY : 3695641.8198090694\n",
            "MEDICAL : 120550.61980830671\n",
            "SOCIAL : 23253652.127118643\n",
            "SHOPPING : 7036877.311557789\n",
            "PHOTOGRAPHY : 17840110.40229885\n",
            "SPORTS : 3638640.1428571427\n",
            "TRAVEL_AND_LOCAL : 13984077.710144928\n",
            "TOOLS : 10801391.298666667\n",
            "PERSONALIZATION : 5201482.6122448975\n",
            "PRODUCTIVITY : 16787331.344927534\n",
            "PARENTING : 542603.6206896552\n",
            "WEATHER : 5074486.197183099\n",
            "VIDEO_PLAYERS : 24727872.452830188\n",
            "NEWS_AND_MAGAZINES : 9549178.467741935\n",
            "MAPS_AND_NAVIGATION : 4056941.7741935486\n"
          ]
        }
      ]
    },
    {
      "cell_type": "markdown",
      "source": [
        "###Średnia liczba instalacji aplikacji komunikacyjnych wynosi 38,456,119. Jednak ta liczba jest mocno zawyżona przez kilka aplikacji, które osiągnęły ponad miliard instalacji (WhatsApp, Facebook Messenger, Skype, Google Chrome, Gmail i Hangouts), a także przez inne, które mają ponad 100 lub 500 milionów instalacji."
      ],
      "metadata": {
        "id": "xd2lA88W78Ac"
      }
    },
    {
      "cell_type": "code",
      "source": [
        "for app in android_final:\n",
        "    if app[1] == 'COMMUNICATION' and (app[5] == '1,000,000,000+'\n",
        "                                      or app[5] == '500,000,000+'\n",
        "                                      or app[5] == '100,000,000+'):\n",
        "        print(app[0], ':', app[5])"
      ],
      "metadata": {
        "colab": {
          "base_uri": "https://localhost:8080/"
        },
        "id": "50SuC8cC8T4s",
        "outputId": "d4e6a1c0-6366-4f14-eba4-4b6786b65bbd"
      },
      "execution_count": null,
      "outputs": [
        {
          "output_type": "stream",
          "name": "stdout",
          "text": [
            "WhatsApp Messenger : 1,000,000,000+\n",
            "imo beta free calls and text : 100,000,000+\n",
            "Android Messages : 100,000,000+\n",
            "Google Duo - High Quality Video Calls : 500,000,000+\n",
            "Messenger – Text and Video Chat for Free : 1,000,000,000+\n",
            "imo free video calls and chat : 500,000,000+\n",
            "Skype - free IM & video calls : 1,000,000,000+\n",
            "Who : 100,000,000+\n",
            "GO SMS Pro - Messenger, Free Themes, Emoji : 100,000,000+\n",
            "LINE: Free Calls & Messages : 500,000,000+\n",
            "Google Chrome: Fast & Secure : 1,000,000,000+\n",
            "Firefox Browser fast & private : 100,000,000+\n",
            "UC Browser - Fast Download Private & Secure : 500,000,000+\n",
            "Gmail : 1,000,000,000+\n",
            "Hangouts : 1,000,000,000+\n",
            "Messenger Lite: Free Calls & Messages : 100,000,000+\n",
            "Kik : 100,000,000+\n",
            "KakaoTalk: Free Calls & Text : 100,000,000+\n",
            "Opera Mini - fast web browser : 100,000,000+\n",
            "Opera Browser: Fast and Secure : 100,000,000+\n",
            "Telegram : 100,000,000+\n",
            "Truecaller: Caller ID, SMS spam blocking & Dialer : 100,000,000+\n",
            "UC Browser Mini -Tiny Fast Private & Secure : 100,000,000+\n",
            "Viber Messenger : 500,000,000+\n",
            "WeChat : 100,000,000+\n",
            "Yahoo Mail – Stay Organized : 100,000,000+\n",
            "BBM - Free Calls & Messages : 100,000,000+\n"
          ]
        }
      ]
    },
    {
      "cell_type": "markdown",
      "source": [
        "###Gdybyśmy usunęli wszystkie aplikacje komunikacyjne, które zostały zainstalowane ponad 100 milionów razy, średnia zmniejszyłaby się mniej więcej dziesięciokrotnie:"
      ],
      "metadata": {
        "id": "1Jwl4N608cAZ"
      }
    },
    {
      "cell_type": "code",
      "source": [
        "under_100_m = []\n",
        "\n",
        "for app in android_final:\n",
        "    n_installs = app[5]\n",
        "    n_installs = n_installs.replace(',', '')\n",
        "    n_installs = n_installs.replace('+', '')\n",
        "    if (app[1] == 'COMMUNICATION') and (float(n_installs) < 100000000):\n",
        "        under_100_m.append(float(n_installs))\n",
        "\n",
        "sum(under_100_m) / len(under_100_m)"
      ],
      "metadata": {
        "colab": {
          "base_uri": "https://localhost:8080/"
        },
        "id": "YWClbkuP8dMM",
        "outputId": "2421db6d-6456-466f-8293-5b2e2465b05d"
      },
      "execution_count": null,
      "outputs": [
        {
          "output_type": "execute_result",
          "data": {
            "text/plain": [
              "3603485.3884615386"
            ]
          },
          "metadata": {},
          "execution_count": 28
        }
      ]
    },
    {
      "cell_type": "markdown",
      "source": [
        "###Podobny wzór\n",
        "występuje w kategorii odtwarzaczy wideo (zdominowana przez aplikacje takie jak YouTube i Google Play Movies & TV) oraz w kategoriach społecznościowych, fotograficznych i produktywnościowych (gdzie dominują giganci jak Facebook, Instagram, Google Drive, Microsoft Word). Choć te kategorie wydają się popularne, są zdominowane przez duże aplikacje, z którymi trudno konkurować.\n",
        "\n",
        "Kategoria gier jest popularna, ale rynek jest nasycony. Kategoria książek i odniesień, z średnią liczbą instalacji wynoszącą 8,767,811, wydaje się mieć potencjał na obu rynkach, więc warto ją rozważyć."
      ],
      "metadata": {
        "id": "D3DWBZ-F8sL0"
      }
    },
    {
      "cell_type": "code",
      "source": [
        "for app in android_final:\n",
        "    if app[1] == 'BOOKS_AND_REFERENCE':\n",
        "        print(app[0], ':', app[5])"
      ],
      "metadata": {
        "colab": {
          "base_uri": "https://localhost:8080/"
        },
        "id": "4Z98hM6D8wFc",
        "outputId": "1c3c5835-8e98-4aed-d00e-5cbc14a2f8e3"
      },
      "execution_count": null,
      "outputs": [
        {
          "output_type": "stream",
          "name": "stdout",
          "text": [
            "E-Book Read - Read Book for free : 50,000+\n",
            "Download free book with green book : 100,000+\n",
            "Wikipedia : 10,000,000+\n",
            "Cool Reader : 10,000,000+\n",
            "Free Panda Radio Music : 100,000+\n",
            "Book store : 1,000,000+\n",
            "FBReader: Favorite Book Reader : 10,000,000+\n",
            "English Grammar Complete Handbook : 500,000+\n",
            "Free Books - Spirit Fanfiction and Stories : 1,000,000+\n",
            "Google Play Books : 1,000,000,000+\n",
            "AlReader -any text book reader : 5,000,000+\n",
            "Offline English Dictionary : 100,000+\n",
            "Offline: English to Tagalog Dictionary : 500,000+\n",
            "FamilySearch Tree : 1,000,000+\n",
            "Cloud of Books : 1,000,000+\n",
            "Recipes of Prophetic Medicine for free : 500,000+\n",
            "ReadEra – free ebook reader : 1,000,000+\n",
            "Anonymous caller detection : 10,000+\n",
            "Ebook Reader : 5,000,000+\n",
            "Litnet - E-books : 100,000+\n",
            "Read books online : 5,000,000+\n",
            "English to Urdu Dictionary : 500,000+\n",
            "eBoox: book reader fb2 epub zip : 1,000,000+\n",
            "English Persian Dictionary : 500,000+\n",
            "Flybook : 500,000+\n",
            "All Maths Formulas : 1,000,000+\n",
            "Ancestry : 5,000,000+\n",
            "HTC Help : 10,000,000+\n",
            "English translation from Bengali : 100,000+\n",
            "Pdf Book Download - Read Pdf Book : 100,000+\n",
            "Free Book Reader : 100,000+\n",
            "eBoox new: Reader for fb2 epub zip books : 50,000+\n",
            "Only 30 days in English, the guideline is guaranteed : 500,000+\n",
            "Moon+ Reader : 10,000,000+\n",
            "SH-02J Owner's Manual (Android 8.0) : 50,000+\n",
            "English-Myanmar Dictionary : 1,000,000+\n",
            "Golden Dictionary (EN-AR) : 1,000,000+\n",
            "All Language Translator Free : 1,000,000+\n",
            "Azpen eReader : 500,000+\n",
            "URBANO V 02 instruction manual : 100,000+\n",
            "Bible : 100,000,000+\n",
            "C Programs and Reference : 50,000+\n",
            "C Offline Tutorial : 1,000+\n",
            "C Programs Handbook : 50,000+\n",
            "Amazon Kindle : 100,000,000+\n",
            "Aab e Hayat Full Novel : 100,000+\n",
            "Aldiko Book Reader : 10,000,000+\n",
            "Google I/O 2018 : 500,000+\n",
            "R Language Reference Guide : 10,000+\n",
            "Learn R Programming Full : 5,000+\n",
            "R Programing Offline Tutorial : 1,000+\n",
            "Guide for R Programming : 5+\n",
            "Learn R Programming : 10+\n",
            "R Quick Reference Big Data : 1,000+\n",
            "V Made : 100,000+\n",
            "Wattpad 📖 Free Books : 100,000,000+\n",
            "Dictionary - WordWeb : 5,000,000+\n",
            "Guide (for X-MEN) : 100,000+\n",
            "AC Air condition Troubleshoot,Repair,Maintenance : 5,000+\n",
            "AE Bulletins : 1,000+\n",
            "Ae Allah na Dai (Rasa) : 10,000+\n",
            "50000 Free eBooks & Free AudioBooks : 5,000,000+\n",
            "Ag PhD Field Guide : 10,000+\n",
            "Ag PhD Deficiencies : 10,000+\n",
            "Ag PhD Planting Population Calculator : 1,000+\n",
            "Ag PhD Soybean Diseases : 1,000+\n",
            "Fertilizer Removal By Crop : 50,000+\n",
            "A-J Media Vault : 50+\n",
            "Al-Quran (Free) : 10,000,000+\n",
            "Al Quran (Tafsir & by Word) : 500,000+\n",
            "Al Quran Indonesia : 10,000,000+\n",
            "Al'Quran Bahasa Indonesia : 10,000,000+\n",
            "Al Quran Al karim : 1,000,000+\n",
            "Al-Muhaffiz : 50,000+\n",
            "Al Quran : EAlim - Translations & MP3 Offline : 5,000,000+\n",
            "Al-Quran 30 Juz free copies : 500,000+\n",
            "Koran Read &MP3 30 Juz Offline : 1,000,000+\n",
            "Hafizi Quran 15 lines per page : 1,000,000+\n",
            "Quran for Android : 10,000,000+\n",
            "Surah Al-Waqiah : 100,000+\n",
            "Hisnul Al Muslim - Hisn Invocations & Adhkaar : 100,000+\n",
            "Satellite AR : 1,000,000+\n",
            "Audiobooks from Audible : 100,000,000+\n",
            "Kinot & Eichah for Tisha B'Av : 10,000+\n",
            "AW Tozer Devotionals - Daily : 5,000+\n",
            "Tozer Devotional -Series 1 : 1,000+\n",
            "The Pursuit of God : 1,000+\n",
            "AY Sing : 5,000+\n",
            "Ay Hasnain k Nana Milad Naat : 10,000+\n",
            "Ay Mohabbat Teri Khatir Novel : 10,000+\n",
            "Arizona Statutes, ARS (AZ Law) : 1,000+\n",
            "Oxford A-Z of English Usage : 1,000,000+\n",
            "BD Fishpedia : 1,000+\n",
            "BD All Sim Offer : 10,000+\n",
            "Youboox - Livres, BD et magazines : 500,000+\n",
            "B&H Kids AR : 10,000+\n",
            "B y H Niños ES : 5,000+\n",
            "Dictionary.com: Find Definitions for English Words : 10,000,000+\n",
            "English Dictionary - Offline : 10,000,000+\n",
            "Bible KJV : 5,000,000+\n",
            "Borneo Bible, BM Bible : 10,000+\n",
            "MOD Black for BM : 100+\n",
            "BM Box : 1,000+\n",
            "Anime Mod for BM : 100+\n",
            "NOOK: Read eBooks & Magazines : 10,000,000+\n",
            "NOOK Audiobooks : 500,000+\n",
            "NOOK App for NOOK Devices : 500,000+\n",
            "Browsery by Barnes & Noble : 5,000+\n",
            "bp e-store : 1,000+\n",
            "Brilliant Quotes: Life, Love, Family & Motivation : 1,000,000+\n",
            "BR Ambedkar Biography & Quotes : 10,000+\n",
            "BU Alsace : 100+\n",
            "Catholic La Bu Zo Kam : 500+\n",
            "Khrifa Hla Bu (Solfa) : 10+\n",
            "Kristian Hla Bu : 10,000+\n",
            "SA HLA BU : 1,000+\n",
            "Learn SAP BW : 500+\n",
            "Learn SAP BW on HANA : 500+\n",
            "CA Laws 2018 (California Laws and Codes) : 5,000+\n",
            "Bootable Methods(USB-CD-DVD) : 10,000+\n",
            "cloudLibrary : 100,000+\n",
            "SDA Collegiate Quarterly : 500+\n",
            "Sabbath School : 100,000+\n",
            "Cypress College Library : 100+\n",
            "Stats Royale for Clash Royale : 1,000,000+\n",
            "GATE 21 years CS Papers(2011-2018 Solved) : 50+\n",
            "Learn CT Scan Of Head : 5,000+\n",
            "Easy Cv maker 2018 : 10,000+\n",
            "How to Write CV : 100,000+\n",
            "CW Nuclear : 1,000+\n",
            "CY Spray nozzle : 10+\n",
            "BibleRead En Cy Zh Yue : 5+\n",
            "CZ-Help : 5+\n",
            "Modlitební knížka CZ : 500+\n",
            "Guide for DB Xenoverse : 10,000+\n",
            "Guide for DB Xenoverse 2 : 10,000+\n",
            "Guide for IMS DB : 10+\n",
            "DC HSEMA : 5,000+\n",
            "DC Public Library : 1,000+\n",
            "Painting Lulu DC Super Friends : 1,000+\n",
            "Dictionary : 10,000,000+\n",
            "Fix Error Google Playstore : 1,000+\n",
            "D. H. Lawrence Poems FREE : 1,000+\n",
            "Bilingual Dictionary Audio App : 5,000+\n",
            "DM Screen : 10,000+\n",
            "wikiHow: how to do anything : 1,000,000+\n",
            "Dr. Doug's Tips : 1,000+\n",
            "Bible du Semeur-BDS (French) : 50,000+\n",
            "La citadelle du musulman : 50,000+\n",
            "DV 2019 Entry Guide : 10,000+\n",
            "DV 2019 - EDV Photo & Form : 50,000+\n",
            "DV 2018 Winners Guide : 1,000+\n",
            "EB Annual Meetings : 1,000+\n",
            "EC - AP & Telangana : 5,000+\n",
            "TN Patta Citta & EC : 10,000+\n",
            "AP Stamps and Registration : 10,000+\n",
            "CompactiMa EC pH Calibration : 100+\n",
            "EGW Writings 2 : 100,000+\n",
            "EGW Writings : 1,000,000+\n",
            "Bible with EGW Comments : 100,000+\n",
            "My Little Pony AR Guide : 1,000,000+\n",
            "SDA Sabbath School Quarterly : 500,000+\n",
            "Duaa Ek Ibaadat : 5,000+\n",
            "Spanish English Translator : 10,000,000+\n",
            "Dictionary - Merriam-Webster : 10,000,000+\n",
            "JW Library : 10,000,000+\n",
            "Oxford Dictionary of English : Free : 10,000,000+\n",
            "English Hindi Dictionary : 10,000,000+\n",
            "English to Hindi Dictionary : 5,000,000+\n",
            "EP Research Service : 1,000+\n",
            "Hymnes et Louanges : 100,000+\n",
            "EU Charter : 1,000+\n",
            "EU Data Protection : 1,000+\n",
            "EU IP Codes : 100+\n",
            "EW PDF : 5+\n",
            "BakaReader EX : 100,000+\n",
            "EZ Quran : 50,000+\n",
            "FA Part 1 & 2 Past Papers Solved Free – Offline : 5,000+\n",
            "La Fe de Jesus : 1,000+\n",
            "La Fe de Jesús : 500+\n",
            "Le Fe de Jesus : 500+\n",
            "Florida - Pocket Brainbook : 1,000+\n",
            "Florida Statutes (FL Code) : 1,000+\n",
            "English To Shona Dictionary : 10,000+\n",
            "Greek Bible FP (Audio) : 1,000+\n",
            "Golden Dictionary (FR-AR) : 500,000+\n",
            "Fanfic-FR : 5,000+\n",
            "Bulgarian French Dictionary Fr : 10,000+\n",
            "Chemin (fr) : 1,000+\n",
            "The SCP Foundation DB fr nn5n : 1,000+\n"
          ]
        }
      ]
    },
    {
      "cell_type": "markdown",
      "source": [
        "###Gatunek książek i materiałów informacyjnych obejmuje różnorodne aplikacje:\n",
        "oprogramowanie do przetwarzania i czytania e-booków, różnorodne zbiory bibliotek, słowniki, samouczki dotyczące programowania lub języków itp. Wydaje się, że nadal istnieje niewielka liczba niezwykle popularnych aplikacji, które zaburzają średnią:"
      ],
      "metadata": {
        "id": "p-x0O3Uw8zEh"
      }
    },
    {
      "cell_type": "code",
      "source": [
        "for app in android_final:\n",
        "    if app[1] == 'BOOKS_AND_REFERENCE' and (app[5] == '1,000,000,000+'\n",
        "                                            or app[5] == '500,000,000+'\n",
        "                                            or app[5] == '100,000,000+'):\n",
        "        print(app[0], ':', app[5])"
      ],
      "metadata": {
        "colab": {
          "base_uri": "https://localhost:8080/"
        },
        "id": "IOiJb2M986Wx",
        "outputId": "7d90814a-fb0e-4ce0-f306-af8b4308cd6c"
      },
      "execution_count": null,
      "outputs": [
        {
          "output_type": "stream",
          "name": "stdout",
          "text": [
            "Google Play Books : 1,000,000,000+\n",
            "Bible : 100,000,000+\n",
            "Amazon Kindle : 100,000,000+\n",
            "Wattpad 📖 Free Books : 100,000,000+\n",
            "Audiobooks from Audible : 100,000,000+\n"
          ]
        }
      ]
    },
    {
      "cell_type": "markdown",
      "source": [
        "Wygląda jednak na to, że jest tylko kilka bardzo popularnych aplikacji, więc ten rynek nadal ma potencjał. Spróbujmy znaleźć kilka pomysłów na aplikacje w oparciu o rodzaj aplikacji, które są gdzieś pośrodku pod względem popularności:"
      ],
      "metadata": {
        "id": "FpKcGn--89Fc"
      }
    },
    {
      "cell_type": "code",
      "source": [
        "for app in android_final:\n",
        "    if app[1] == 'BOOKS_AND_REFERENCE' and (app[5] == '1,000,000+'\n",
        "                                            or app[5] == '5,000,000+'\n",
        "                                            or app[5] == '10,000,000+'\n",
        "                                            or app[5] == '50,000,000+'):\n",
        "        print(app[0], ':', app[5])"
      ],
      "metadata": {
        "colab": {
          "base_uri": "https://localhost:8080/"
        },
        "id": "xacl7XlK9EMY",
        "outputId": "47395374-73ec-4b95-8f05-19ad78179276"
      },
      "execution_count": null,
      "outputs": [
        {
          "output_type": "stream",
          "name": "stdout",
          "text": [
            "Wikipedia : 10,000,000+\n",
            "Cool Reader : 10,000,000+\n",
            "Book store : 1,000,000+\n",
            "FBReader: Favorite Book Reader : 10,000,000+\n",
            "Free Books - Spirit Fanfiction and Stories : 1,000,000+\n",
            "AlReader -any text book reader : 5,000,000+\n",
            "FamilySearch Tree : 1,000,000+\n",
            "Cloud of Books : 1,000,000+\n",
            "ReadEra – free ebook reader : 1,000,000+\n",
            "Ebook Reader : 5,000,000+\n",
            "Read books online : 5,000,000+\n",
            "eBoox: book reader fb2 epub zip : 1,000,000+\n",
            "All Maths Formulas : 1,000,000+\n",
            "Ancestry : 5,000,000+\n",
            "HTC Help : 10,000,000+\n",
            "Moon+ Reader : 10,000,000+\n",
            "English-Myanmar Dictionary : 1,000,000+\n",
            "Golden Dictionary (EN-AR) : 1,000,000+\n",
            "All Language Translator Free : 1,000,000+\n",
            "Aldiko Book Reader : 10,000,000+\n",
            "Dictionary - WordWeb : 5,000,000+\n",
            "50000 Free eBooks & Free AudioBooks : 5,000,000+\n",
            "Al-Quran (Free) : 10,000,000+\n",
            "Al Quran Indonesia : 10,000,000+\n",
            "Al'Quran Bahasa Indonesia : 10,000,000+\n",
            "Al Quran Al karim : 1,000,000+\n",
            "Al Quran : EAlim - Translations & MP3 Offline : 5,000,000+\n",
            "Koran Read &MP3 30 Juz Offline : 1,000,000+\n",
            "Hafizi Quran 15 lines per page : 1,000,000+\n",
            "Quran for Android : 10,000,000+\n",
            "Satellite AR : 1,000,000+\n",
            "Oxford A-Z of English Usage : 1,000,000+\n",
            "Dictionary.com: Find Definitions for English Words : 10,000,000+\n",
            "English Dictionary - Offline : 10,000,000+\n",
            "Bible KJV : 5,000,000+\n",
            "NOOK: Read eBooks & Magazines : 10,000,000+\n",
            "Brilliant Quotes: Life, Love, Family & Motivation : 1,000,000+\n",
            "Stats Royale for Clash Royale : 1,000,000+\n",
            "Dictionary : 10,000,000+\n",
            "wikiHow: how to do anything : 1,000,000+\n",
            "EGW Writings : 1,000,000+\n",
            "My Little Pony AR Guide : 1,000,000+\n",
            "Spanish English Translator : 10,000,000+\n",
            "Dictionary - Merriam-Webster : 10,000,000+\n",
            "JW Library : 10,000,000+\n",
            "Oxford Dictionary of English : Free : 10,000,000+\n",
            "English Hindi Dictionary : 10,000,000+\n",
            "English to Hindi Dictionary : 5,000,000+\n"
          ]
        }
      ]
    },
    {
      "cell_type": "markdown",
      "source": [
        "###Ta nisza wydaje się być zdominowana przez oprogramowanie do przetwarzania i czytania ebooków oraz różne kolekcje bibliotek i słowników, więc tworzenie podobnych aplikacji może nie być dobrym pomysłem z powodu dużej konkurencji.\n",
        "\n",
        "Zauważamy także, że istnieje sporo aplikacji związanych z Koranem, co sugeruje, że stworzenie aplikacji opartych na popularnych książkach może być dochodowe. Może warto wziąć popularną książkę (np. nowszą) i przerobić ją na aplikację, co może przynieść zysk na obu rynkach.\n",
        "\n",
        "Jednak rynek jest już pełen bibliotek, więc warto dodać unikalne funkcje, takie jak codzienne cytaty, wersja audio książki, quizy, forum do dyskusji o książce, itd."
      ],
      "metadata": {
        "id": "hOLQnzmP9GxB"
      }
    },
    {
      "cell_type": "markdown",
      "source": [
        "### Podsumowanie\n",
        "W ramach tego projektu przeanalizowaliśmy dane o aplikacjach mobilnych z App Store i Google Play, mając na celu polecenie profilu aplikacji, który może być dochodowy na obu rynkach.\n",
        "\n",
        "Doszliśmy do wniosku, że przekształcenie popularnej książki  w aplikację może być dochodowe na obu rynkach – Google Play i App Store. Rynki są już pełne bibliotek, więc konieczne jest dodanie specjalnych funkcji oprócz samej wersji książki. Mogą to być na przykład codzienne cytaty, wersja audio książki, quizy, forum do dyskusji o książce itp."
      ],
      "metadata": {
        "id": "QVO7Y6lX9fJi"
      }
    },
    {
      "cell_type": "markdown",
      "source": [
        "##https://app.dataquest.io/view_cert/Q86PY9TVJ9KAI28KPZYH"
      ],
      "metadata": {
        "id": "8SqfTHso-Nzm"
      }
    },
    {
      "cell_type": "markdown",
      "source": [
        "![Zrzut ekranu 2025-04-27 o 22.42.38.png](data:image/png;base64,iVBORw0KGgoAAAANSUhEUgAAA+sAAALeCAYAAADSwIDjAAAYTWlDQ1BJQ0MgUHJvZmlsZQAAWIWVeQk4lV3X/77PfI75HPM8z2Se53meZxKO6ZjiGEOJJFOJCiFJMlYqhUpEGpQy9JAkkQyVQkWF6rsN9Tzv8/6v/3d9+7r2vX9n7bXXWnutPdzr3ABwVflGRoYhGAEIj4ihOpga8Lu5e/Bj3wIUoAcMgBYw+JKjI/Xt7KwAXH63/1lWhgG00T6V2ZD13/3/38LkHxBNBgCyg7GffzQ5HMZXAUCVkSOpMQBgNuhC8TGRGxiugJkKGwjjzA0ctIXLNrDfFr60yePkYAjjbgBwtL6+1CAA6PthOn8cOQiWQb8I9xEj/CkRALCgYKwTHr7bHwAuI5hHHOaJhPHGPNT8/iEn6D9k+v2R6esb9AdvzWWz4Iwo0ZFhvnv+j+7430t4WOxvHaJwpQ2mmjlszBn220jobssNTAvj+Qg/G1sYE2H8jeK/yQ9jBCE41sx5ix/BTY42hH0GWGEs5+9rZAljbhibRITZWG3T/QIpJuYwhlcIIoESY+4EY3YYZwZEGztu81RQdzts60I0B1IN9bfpD3ypm3o3dI3Hhjrrb8v/FBxgvi0fSZ8Y7OQKYwKMheMoLjYwpoexbHSoo+U2j1ZisKHNbx5qrMOG/cIwdgiIMDXYko+MC6SaOGzzZ4dH/54vsiKYYm6zja/EBDuZbfkH2U323bQfnguyPyBC3/m3nIBoN6vfc/EPMDLemjtyLiDC2XFbzrfIGAOHrbEoQmSY3TY/SjAgzHSDLghjpeg4x+2xKJcYeEFuyUcFRsbYOW3ZiUoM8bWw27IHdRRYAUNgBPhBLFz9wG4QAihP5lvm4V9bPSbAF1BBEAgAMtuU3yNcN3si4KcjSAQfYBQAov+MM9jsDQBxMP3HH+rWUwYEbvbGbY4IBTMwDgeWIAz+Hbs5KuKPNhfwBqZQ/ku7L1zJsL1hcN3o/3/Tf1P/pujDFKttSuxvjfwMvzkxxhgjjBnGBCOB4kTpoDRRVvBTD64KKDWU+u95/M2PnkEPoF+jh9AT6Oe7KGnUf1lpDSZg+SbbvvD7py9QorBMZZQBShuWDktGsaI4gQxKCdajj9KFNSvDVMNtuze8wv8v2f8xg39EY5sPL4dH4Nnwenjxf4+kl6RX/iNlw9f/9M+WrX5//G34p+ff+g3/4X1/uLX8NycyE9mEvI/sRPYg25AtgB/ZgWxF9iJvbeA/q+vN5ur6rc1h055QWA7lv/T9juyGJ6PlGuTeyq1v9cUEJGyc0cBwd+QeKiUoOIZfH74RAvjNI8iy0vwKcgrKAGzcL1vH12eHzXsDYu37m0Y+CIAqfD7jV/+mhX8G4BK89/mt/6aJeMPbDwNA7Qw5lhq3RUNtPNDwKcEA7zQOwAuEgDg8HwWgAjSBHjAGFsAWOAF34A1bHwyvcyqIB8kgFWSAHHAUnAAl4DQ4C2rBBXAFtIA20AnugUegHwyBF/DqmQbvwSJYAWsQBGEhOogEcUB8kAgkBSlAapAOZAxZQQ6QO+QDBUERUCyUDB2AcqACqAQ6A9VBl6HrUCfUAw1Az6FJ6C30CVpFIBG0CGYED0IUsQOhhtBHWCKcEDsRQYgoRCIiHXEEUYyoRJxHNCM6EY8QQ4gJxHvEMhIgaZCsSAGkDFINaYi0RXogA5FU5D5kNrIQWYm8iLwBx/kpcgI5j/yOwqBIKH6UDLyCzVDOKDIqCrUPlYsqQdWimlHdqKeoSdQi6ieaDs2NlkJroM3RbuggdDw6A12IrkZfQ9+F99I0egWDwbBixDCq8F50x4RgkjC5mFOYRsxtzABmCrOMxWI5sFJYbawt1hcbg83AnsSex3ZgB7HT2G84GhwfTgFngvPAReDScIW4elw7bhA3i1vDM+JF8Bp4W7w/fg8+D1+Fv4Hvw0/j1whMBDGCNsGJEEJIJRQTLhLuEsYIn2loaARp1GnsaSg0+2mKaS7RPKCZpPlOS6SVpDWk9aKNpT1CW0N7m/Y57Wc6OjpROj06D7oYuiN0dXR36MbpvtGT6GXpzen96VPoS+mb6QfpPzLgGUQY9Bm8GRIZChmaGPoY5hnxjKKMhoy+jPsYSxmvMz5jXGYiMckz2TKFM+Uy1TP1MM0RsURRojHRn5hOPEu8Q5wiIUlCJEMSmXSAVEW6S5pmxjCLMZszhzDnMF9gfsK8yEJkUWJxYUlgKWW5xTLBimQVZTVnDWPNY73COsy6ysbDps8WwJbFdpFtkO0rOxe7HnsAezZ7I/sQ+yoHP4cxRyhHPkcLx0tOFKckpz1nPGc5513OeS5mLk0uMlc21xWuUW4EtyS3A3cS91nuXu5lHl4eU55InpM8d3jmeVl59XhDeI/ztvO+5SPx6fBR+I7zdfC942fh1+cP4y/m7+ZfFOAWMBOIFTgj8ERgTVBM0FkwTbBR8KUQQUhNKFDouFCX0KIwn7C1cLJwg/CoCF5ETSRYpEjkvshXUTFRV9FDoi2ic2LsYuZiiWINYmPidOK64lHileJ/SWAk1CRCJU5J9EsiJJUlgyVLJfukEFIqUhSpU1ID0mhpdekI6UrpZzK0MvoycTINMpOyrLJWsmmyLbIfdwjv8NiRv+P+jp9yynJhclVyL+SJ8hbyafI35D8pSCqQFUoV/lKkUzRRTFFsVVxSklIKUCpXGlEmKVsrH1LuUv6hoqpCVbmo8lZVWNVHtUz1mRqzmp1artoDdbS6gXqKepv6dw0VjRiNKxoLmjKaoZr1mnNaYloBWlVaU9qC2r7aZ7QndPh1fHQqdCZ0BXR9dSt1X+sJ6fnrVevN6kvoh+if1/9oIGdANbhm8NVQw3Cv4W0jpJGpUbbRE2OisbNxifG4iaBJkEmDyaKpsmmS6W0ztJmlWb7ZM3Mec7J5nfmiharFXotuS1pLR8sSy9dWklZUqxvWCGsL62PWYzYiNhE2LbbA1tz2mO1LOzG7KLub9hh7O/tS+xkHeYdkh/uOJMddjvWOK04GTnlOL5zFnWOdu1wYXLxc6ly+uhq5FrhOuO1w2+v2yJ3TneLe6oH1cPGo9lj2NPY84TntpeyV4TW8U2xnws4eb07vMO9buxh2+e5q8kH7uPrU+6z72vpW+i77mfuV+S2SDclF5Pf+ev7H/d8GaAcUBMwGagcWBM4FaQcdC3obrBtcGDxPMaSUUJZCzEJOh3wNtQ2tCf0V5hrWGI4L9wm/HkGMCI3o3s27O2H3QKRUZEbkRJRG1ImoRaoltToait4Z3RrDDL/I98aKxx6MnYzTiSuN+xbvEt+UwJQQkdC7R3JP1p7ZRJPEc0moJHJSV7JAcmry5F79vWf2Qfv89nWlCKWkp0zvN91fm0pIDU19nCaXVpD25YDrgRvpPOn706cOmh5syKDPoGY8O6R56HQmKpOS+SRLMetk1s9s/+yHOXI5hTnrueTch4flDxcf/nUk8MiTPJW88qOYoxFHh/N182sLmAoSC6aOWR9rPs5/PPv4lxO7TvQUKhWeLiIUxRZNFFsVt54UPnn05HpJcMlQqUFpYxl3WVbZ11P+pwbL9covnuY5nXN6tYJSMXLG9ExzpWhl4VnM2bizM1UuVffPqZ2rq+aszqn+URNRM1HrUNtdp1pXV89dn9eAaIhteHve63z/BaMLrRdlLp5pZG3MuQQuxV56d9nn8vAVyytdTWpNF6+KXC27RrqW3Qw172lebAlumWh1bx24bnG964bmjWs3ZW/WtAm0ld5iuZXXTmhPb//VkdixfDvy9nxnUOdU166uF3fc7vzVbd/95K7l3Qf3TO7dua9/v+OB9oO2Ho2e6w/VHrY8UnnU3Kvce+2x8uNrT1SeNPep9rX2q/ffGNAaaB/UHex8avT03l/mfz0ashkaGHYeHnnm9WxixH9k7nnY86XRuNG1F/vH0GPZLxlfFo5zj1e+knjVOKEycWvSaLL3tePrF1Pkqfdvot+sT6fP0M0UzvLN1s0pzLW9NXnb/87z3fT7yPdr8xkfmD6UfRT/eHVBb6F30W1xeom69OtT7meOzzVflL50Ldstj6+Er6x9zf7G8a32u9r3+6uuq7Nr8evY9eIfEj9u/LT8OfYr/NevSF+q7+arABKuiMBAAD7VAEDnDgAJzs8Inlv533ZBwi8fCLh1gWSh94h0+EbtQ2WgTTBIzCNsMS4Cb0WQoMHSzNMO0rXQ1zBUMzYytRK7SI+Y+1lGWF+xzbG/51jiXOX6wYPgxfIR+OkEiIJEIVZhdhE2UXYxbnEeCX5JfilBaWEZUVmxHdJycvKKCiqKGkq6ysYq5qrmaibqJhommoZa+tpaOhq6Snqy+qIGPIbMRgSjX8afTWZMn5v1mrdZ1Foes0qxDrFxszW2U7YXc+ByZHTCOSNdIFeEG8od78HoyeElvFPGW2KXsA+fL6cfC5nkTwwgBbIGcQULUqRDVENNwlzCKRHJuwsiq6IqqMXR+TG5sVlx2fFHEor31Ca2J73YC/ZJp+zafzL1xQHB9N0HOw9hMoWyFLINchxzAw8nHsnPqz16O3+0YPk40wmZQouiwOIDJ8tLrpcOlr05tXwaW8FxRrJS66xtld+5mOqDNYW1tXXX6x82jJ5/d+F7I+4S22XxK7pN7lejrmU1n2ppbO243nOj72Z/26NbXe2XO0pvp3Tu6tK4Q7wz0339bv29svs5DxJ6/B6aP5Ltpe+df3z3SVlfZL/BAGlgavDK09S/7IdEhlHDb5/1jjQ+LxiNeeEypvaS8+X6+Pirzolzk1mvd085v9GaFoZX2crsX3NX3xa9S3kfNk/+QP4YuZCzeG1p4bPelzMrpK/F36VWn6yn/NT49esf8VdAzqEK0JYYFsxLbBMuFx9EMKKRpGWgXaebpR9hGGF8xfSG+IH0mXmF5QfrGtsP9p8cPzhXuD5zL/DM8I7xDfLfFbguWC2UIxwmYiUqKYYXeyfeI1EnmS1FkbaUkZGlk13YMSB3Vb5IIVmRrGSvbKCioCqgRlT7pf5RY0yzR6tZu1InVzdez0ffwkDBkNMIYfTW+InJJdN8s2hzJwsVSzbLNatX1nds6m3z7ZLsAx0cHfWd5J0FXEiuWNdVt/fuYx69nre8GndWeB/bdcgn2ZfqRyH7+nsEOAXaB9kEW1IsQ8xCNcNkwwUiWHbTRCIi16O+Ub9H/4hFxxHjhRI09jglRicVJrftnUmh2c+XKpOmfcAm3e9gfMbhQ9WZHVmj2V9zmQ8rHLHPizh6OL+h4MGxN8d/FXIWKRfbnQwtOVh6uqz1VH/53OmfZ5grJc5qV9mdI1fH1hyqLYbPud6GhQvEi4qNjpeiLuddaWjqvjp27VMLppXjuuQNjZsWbW63AttjOlJup3Ye6Dp4J6P70N3Me9n3cx8c7jn88PCjw725j3OeZPUd6k8fSB3c+zTur6ih3cORz2JGkp4fHD32onKs6eW98eevPkyC18QpwTfy0zoz5rN+cxVvP7xXnk/60P7x56LmUtyni5/fLLOvWH5N+db0fXaNe93hR/bP7u34GyP0kTuQH1Gd6EMYR6w4dgl3HZ9BcKDhphmnPUsXTq/OgGDoZExnsiAyEPtJR5ltWRhYHrNms5mwQ+ytHBGcQpwjXDncOtwfeEp5zXi/8JXzm/F/FDguqCE4JrRXmF+4XcRbZF20WExJrFc8QHxd4piklGSHlKPUjHSqjIjMiGzuDoMdX+Rq5D0V6BQ6FCOVBJQGldNUFFQmVfPUtNU+qJdqmGssa57Vstf6qd2g466L1b2mR9Yn6t82iDTkN+w3SjNWMp41KTG1hd87bppHWUhZvLEst/KwZrV+alNg62BHshu2P+ng7Sjs+M7psnOii7Erg+uoW7V7tIeBJ63nsNfpncHeCt5ru+765Pt6+Un4rZC7/Y8F+AYqBqGChoPrKSkhTqHSYeiwV+E3Iop3x0e6RmlQeaNR0fMxQ7GdcY3x5Ql5e1IT45NCk/337tznluK03yHVPs3+gEO600H3jJ2HAjJDs6KzU3IycwsOlx+py2s+eid/oGD82McTqEKJIq/ioyfvlqyVyZ7yKz9x+mHFeqXC2YCqknN9Naharbr4+saG9xckL4Y01l9auKLStP9qbzNHS1hr9w2+myltr9utOto65bvOd0vdvXzf4MHow4Revsf9fYcHnJ6KDoHh9yNvRt+9BK9EJndN1c+g5xLfgw9Vi+TPuitq353Xizfiv/U/4EbBqABw4hAAG//zONQBkHseALE9ALDBuacdHQBO6gAhYAqg5S4AWWj/uT8gOPEkABLgAZJADZjB+WUYnFMWgUbQA6bAD4gdUoYcoWjoBNQKvYRzPmmECyIV0YgYRzIgDZDxyAvIGThL80KVol7AmZgP+hz6A0YFk4p5guXBhmM7cCQcBdeJ58TH4gcJioQiwjoNmeYxrTptLR07XS49gj6J/itDLMMKYyITxJRNZCVWkdRI/cwhLFiWc6zGrDNsmexS7P0cMZwcnO1c/tw03Fd4PHiRvBf4POGMYEAgT9BWiEnoqXCRiKeogOiM2HnxaAkNSUiyRypf2hNenYuygzva5KrlCxT2KVKUHJU1VPhUIdUJtTb14xohmtpa9Fpj2nU6Mbq6eji9Af0mg6uGLUY3jNtN7pj2mPWZD1uMW85aLVmv2eLsWO1FHdQcrZzIzskuxa7tbnMeJE99r8idld5DPgRffb8kcqv/10C1oKTgzhBCqHNYVfjybrPI8qiFaK2YnNjxeKWEo3uWklyT7+3TTmlPtUybSs/K0M4EWQM5lw6X5RXkmx1DHr9bmF8cUGJYJl0uWCFSqVRlUx1VW1r/6AJoVL1s0+R+Lbgl+fqJm1duDXasdPF2m92LeVDx8Envjz6ZgZ1PjwzdHiGNkscujM9Pck+pTevNyr+lf/ds/sjHHQudS2afur8oLJesrH6z/35udWld40fKz9ub58dW/Ilw/CWAKjABriAE7APHQQPoBuPgG0SC5CAbKAI6CjVBzxEAIQFn+WmIy4jXcB5vhUxHdiDXUNqoA6heNDs6EN2MwWO8Mc1YRmwY9hFOGpeHW8Z74e8RZAlFNEiaKJpJWmfah3SGdO30WvS34Cz2AaM94zicp/4iHifJkh4zR8CZZyurLxsNWyt7IAcrx33OPVzSXJPcRTy2vDjeLr79/AYCGIHHgoVCvsKywusivaLlYlHixhJcEp8kH0qdlU6R8ZTV3CEhxy6Pl19XWFCcUnqm/FDlpup5tRL1QxpUTU8tQ21JHUadZd1RvXb9RoPLhk1GLcY3TTpMu80emvdbPLN8ZTVrvWSzZoezZ3UQc1R3snb2d9nrWuJ23X3U44eX4E4L75hdFT59fhBZxT8ioC5wJliUEhJyOXQ13DSicPdclBZ1b3RHLCrOKr4oYSZRPelI8uw+45TaVPq0PQdm4fOkP9Mi636OWW7vEYe8ifyUY7zHbxcGFtOfbC31P0Uqv1ext1Ll7Kdzl2ti67QaMOeHLp67lHzF66pKM33L1PWrNw/csulgvz3ZVddNvaf1ANsz/Kju8f4+rwGdpyJDTMMPRpyfT79IfMk8fmXCaXJ9qnbafZZhrudd5rzlR8aFZ0sVn0OWVb4ivvWtlq4H/VTcjj8SYADt5gkgDlTgFeAGwsFBcBrcBKPw/heELKBYqAoaRtAgjOCd34XEIe2Rp5GfUBaoGjQeTUW/wjjBu90GO4Qj477jCwnqhGmak7R6tGN0SfT89D0M8YySjFNMp4l+JAnSV+b7LOWsSWye7HocUpzsXDTcCO51nlXedX4ggIXfQHmEZUW0RR3EgsT3S5yUvAbn3YuyjDsU5Fzl9ylUKfYpralIqLqrFagPajJruWtX6SzoaesfNnhlpGicYzJppmVeaPHJys76gi2tXZj9Q0dJpxznd64WbvUeeE+K131v0V0Hfab9DMnVAchA/6A7FNGQjNC5cKuIxkiWqATqRIxR7MV49oR9e94nucH7VCWlJpUj7Ug66mByxqdMj6zL2b9ynQ7XHFk96ph/8RjhOOXEvSKp4tyTC6WuZbfKRU/nw2e//9nec5rVNbVMdYn1M+cdL7Q1il7Ku7zS5H31XrNMy9HWxRv2Ny/eIrQHdrR3ErsC7jTfRd2zu1/6YOqhxCNKb/XjyT7OfvuBg4NXn74eIgzLPXMYoT4/Mlr34s7Y0MuZ8aVX65PQa+wU5g1mGkyvznyYHZ97/Lb1XeX7zPmID9YfpRawC68WW5eyPnl8lvj86UvbctqK0VfM1+5vKd81vy+tnlvzWCesN/8g/6T7eeWX+0b8t74dbd4fjABUcG2ggUurFf/+brP1Xekfucm/W7B5u2yUjdtls4VvGvA/rvnQdtEQ8NMAAABWZVhJZk1NACoAAAAIAAGHaQAEAAAAAQAAABoAAAAAAAOShgAHAAAAEgAAAESgAgAEAAAAAQAAA+ugAwAEAAAAAQAAAt4AAAAAQVNDSUkAAABTY3JlZW5zaG90Dr6RKwAAAddpVFh0WE1MOmNvbS5hZG9iZS54bXAAAAAAADx4OnhtcG1ldGEgeG1sbnM6eD0iYWRvYmU6bnM6bWV0YS8iIHg6eG1wdGs9IlhNUCBDb3JlIDYuMC4wIj4KICAgPHJkZjpSREYgeG1sbnM6cmRmPSJodHRwOi8vd3d3LnczLm9yZy8xOTk5LzAyLzIyLXJkZi1zeW50YXgtbnMjIj4KICAgICAgPHJkZjpEZXNjcmlwdGlvbiByZGY6YWJvdXQ9IiIKICAgICAgICAgICAgeG1sbnM6ZXhpZj0iaHR0cDovL25zLmFkb2JlLmNvbS9leGlmLzEuMC8iPgogICAgICAgICA8ZXhpZjpQaXhlbFlEaW1lbnNpb24+NzM0PC9leGlmOlBpeGVsWURpbWVuc2lvbj4KICAgICAgICAgPGV4aWY6UGl4ZWxYRGltZW5zaW9uPjEwMDM8L2V4aWY6UGl4ZWxYRGltZW5zaW9uPgogICAgICAgICA8ZXhpZjpVc2VyQ29tbWVudD5TY3JlZW5zaG90PC9leGlmOlVzZXJDb21tZW50PgogICAgICA8L3JkZjpEZXNjcmlwdGlvbj4KICAgPC9yZGY6UkRGPgo8L3g6eG1wbWV0YT4KbRlSXQAAQABJREFUeAHs3QecE0UbwOGX3hGRXgQUpSMqIF1RUWygIlKsKCiIIkWED6woIFYERUCaBVRQiqKASFNAEKRXFem99w7fvAs5c7lkk71L9pK7//jDS3ZnZ2afTfbu3Z2dSXPeJCEhgAACCCCAAAIIIIAAAggggEBUCKxdv13SRkVLaAQCCCCAAAIIIIAAAggggAACCMQJEKzHUfACAQQQQAABBBBAAAEEEEAAgegQSB8dzaAVCCCAAAIIIIAAAggggEDKFdBuzaTUK1CqREHHO8+ddcdkbIAAAggggAACCCCAAAIIIIBAZAUI1iPrS+kIIIAAAggggAACCCCAAAIIOBYgWHdMxgYIIIAAAggggAACCCCAAAIIRFaAYD2yvpSOAAIIIIAAAggggAACCCCAgGMBgnXHZGyAAAIIIIAAAggggAACCCCAQGQFCNYj60vpCCCAAAIIIIAAAggggAACCDgWIFh3TMYGCCCAAAIIIIAAAggggAACCERWgGA9sr6UjgACCCCAAAIIIIAAAggggIBjAYJ1x2RsgAACCCCAAAIIIIAAAggggEBkBQjWI+tL6QgggAACCCCAAAIIIIAAAgg4FiBYd0zGBggggAACCCCAAAIIIIAAAghEVoBgPbK+lI4AAggggAACCCCAAAIIIICAYwGCdcdkbIAAAggggAACCCCAAAIIIIBAZAUI1iPrS+kIIIAAAggggAACCCCAAAIIOBZI73gLNkAAAQQQQAABBBBAAAEEEIgagS1btslvv80z/36Xs2fPyQ03XG/9K1PmKkmblvuzUXOgHDYkzXmTHG5DdgQQQAABBBBAAAEEEEAAAQcCa9dvd5A79KwTJ/4sn3wy3O8G9957p7Rq9YjfdbG48OjRY/LFF6PlllvqyFVXXRGxXfjjj0WydOnKsNqVKlHQUXv188KddUdkZEYAAQQQQAABBBBAAAEEokNg3boNMmjQZwEbM378T1KlSiWpVKlCwDz+Vuh2K1essVZlyZpFihYtJNdeW1FKlizhL7try44dOy4//DBFrriieESD9TVr/pYJEyaFNVhPDBJ9IhKjxjYIIIAAAggggAACCCCAQDIJLFq0TF555S15/vlucu7cOdtWjBnzg+16fyvXrl0nS5aukFyXXiKHDx+R8eMnSfv23WXo0JH+srMsQgLcWY8QLMUigAACCCCAAAIIIIAAAuEWmDv3D+nVq6+E+jTzypVrZOTIb6V27Wpy+eVFQm7OJZfklLZtn7TyHz9+Qt5/b4CMHTtRypcvbT0PH3JBMZkxTVS0mmA9Kg4DjUAAAQRSj8DGTVtl7rw/ZdHilbJu3UbR96dOnbYAMmRILzkvySFVK18jZUpdKTVrVJarShaXNGmi45dm6jlK7CkCCCCAQLQKjBjxdcBAvUKFslazly9fFdf806dPy6hR38lXX42V//2vvdSsWTVuXagvsmTJLB06tpHlT6yW0aMnxAvWx479UWbM+E22bt0h5cqVlgcfbCDaDr2Y8MILr0rVqtdKkyb3WVXNmfOHfP31WGnTpoWULVvKWjZ06Jdy8OBh6WjKf89cELjyyuJy8uRJ+eWXX2Xv3v1SvXpl6dChtaRPHzh0DdQGrWD//gPmIsOP8uefS00bt0m+fHmlZctHzD5cZ9Wv/1u0aKm1X2vX/iPFihWVbNmyxa1Lzhd0g09OfepGAAEEUonAzp17ZPDQr+SOBo/LLfUfkpdfe1/GTZgiy8zzcAcPHZbjJ05Y/w6ZrnZbtmyXseMnS88+H8udDVvIrXc8LB998rm1PJVwsZsIIIAAAggEFNi2bUfAdRUqlDGBchm/6zV4/vTTz/2uC2VhVvPserVqlWXDhk1x2T//fLQMGzbSeiZeg+1z587Kq6++LatWrbUutGfNmlVmzZobl197Bfz770aZP//PuGUzZsyRHDmyW+9134YNGyVz5iyQhg3vMM/JV5CZM+fI6tV/xeX3fWHXBs37xx+LZcGCxXL77XWlU6dnRC88fPzx0LhitK1vvPGenDhx0upJoPu4Zk3g+uI2dOFF4MsTLlROFQgggAACKVvg8OGj0m/ACPli5Dg5c+ZMonZW77z37T9M+n08Qu5veLu80PEpyXPZpYkqi40QQAABBBCIdQEd5O3vv/9N1G7o8+dJSfny5bGC2gMHDokG799994MJ4K+XJ598yCpWB7Nr2rSVjDN3svXOeWXTU27w4M+tu9u5cl0iixcvt+66//nnMmnRorls2rTFWnfddRXjmqVd9d9993XJmDGD1K1by9yVb2lGZl9lbReX6eIL7ZkXrA233XaT6D9PL70cOXLISy/1MhcdNkvx4kXN8/g/mQA+i/To0VVy5sxhlXzq1CnrTrtvfW6/58662+LUhwACCKQSgRmz5snt9zwmwz8bk+hA3ZtKB9D5dtwkqX/3Y/L9xF+8V/EaAQQQQACBVCPQqtWjpkt4ukTtr055lpR05MhRK+jNnj2ruWCwzvr9XrXqf93JM2XKZAXVq1avtaq5/vprrJ86DZreUdftmzS5V9av32gF6bo8Q4YM1nPwnnblzp3LCtT1fbZsWSVPnstk167dntXxfobSBg3S9eLGgAHD5Nlnu8jLL/e2yvD0EFi9+m+rfk+gHq+CZH7DnfVkPgBUjwACCKQ0gbNnz8pb7w60gvRI7NuBg4ek44tvypzfF0qPVzpKpkwZI1ENZSKAAAIIIBCVAuXKlTKjsvcT7VKuz4BrN267EeH1DrhO3aaBc926NZO0Tzqlmd5d1+fH9blyTZkzZ45Xpt6l1jve2u2+SJFCkj9/XnNnfIXs2bNXSpUqKRUrlrWCcB3RfpkJ1nV/NMgPlNKmDXx/OZQ2aDd6fRa+evUq8vjjzay/G7p2fSOuOr2AkDBFx1g5BOsJjwxLEEAAAQQSKaC/nJ/r8JpMM8+fRTp9N26ybNq8XT4d0EuyZ4+OgWAivc+UjwACCCCAgArkyZNbGjSob/3T9wfNhWxNEyf+bP0cNWqQ9VNHdA9X0mfPdQC25s0bWUWWLn21dZd94cIlUqdOdWuZXrBfvHiZeNbpQr1IsGzZKhOs7zMXDcpLunTp5JqK5WTJkhWyyjyLft99d1rbJuZ/nnrs2qAj4V9xRTHp1q291d7Nm7fGq6pAgXxW+/TigqervO5HNKTAlymioXW0AQEEEEAgZgT0qn6nLj0dB+qFC+WXEUPeldEjP5Irr7jc0f4uWLhUnmrbLW40eUcbkxkBBBBAAIEUIvDbb/Oke/ee1pzo+ly6vtZlSUk6XZve/Z46dab07TtI3nnnIylR4nJp3LiBVazesdcgXevRPPoM+MCBI+TYsePWYG6euitXrmQGid1mAuKV1h1+XV7JDBw3e/Y8OXDgoBlE7r/n1T3bBPqZOfOFO/C7d++x7tyH0oaCBfOb7vfHTPs2mTv8K6398C6/Xr0bLbc333xfVqxYLT/8MEW+/36Sd5Zke82d9WSjp2IEEEAgZQl8+NFwmTRlpqOdqm6mTenf9zXJaUaBNRe0ZfyYwdK5W2+ZPGVWyOX8sWCpvPpGX+n9RueQtyEjAggggAACKUng7rtvswLfr78eZ+1W06b3iS5LbEqXLq1Vnj7fraOnFy1a2Awcd7/5d2+8KdQ6dnxG+vUbbJ4HH24unJ8Sfd78uedaSa1aN8RVXdHcRddu8zo9q3aD16QDymlvPL3zr3e9PUnvbKdNG7gLuo4aX7r0VdZUdDr4XKFCBcyUb/ZteOCBBvLBBwPN8+pdrUHxGjduKBs3bo6rR3so6N32qVNnybx5CyVv3svk5pvryJQp0z3NSrafacztfvPnEQkBBBBAAIHEC8z6bb60bN3Vusodaik331RdPv6wh5my7aS0ee4lOXr0mAwb9LbkypVTur70tjV9W6hlab63e3WV+++t72QT8iKAAAIIIOCawNr12yNel3b51vTQQw9EvC7vCnQud+3mrnexI500fN26dbsUKJA/3kB7dm3QbXbu3G09bx/oGXjtEXD48GHzjH2+iOxCqRIFHZWrnxeCdUdkZEYAAQQQ8BXQedLvuOdx2bV7r++qgO+vKllcxo4eKOfOnpNHn+gkS5evtvKWLnWljPysr2QzXesebP6sNQ97wEJ8Vuhz65O+Hy4FzbNnJAQQQAABBKJNwI1gPdr2mfb8J5CYYJ1n1v/z4xUCCCCAQCIE3v9wqKNAXat47aX2ktmM/NrxxZ7y1z/r5bZba8sjD90ne/ful+c79TBd09LKqy8/HzfQSyjN0tFce/b5OJSs5EEAAQQQQAABBKJegGA96g8RDUQAAQSiV2DT5m3y9egfHDWwbJmr5IaqlWTMdz/JvD8Wm+fUB8mAfm/Iq92fl2mTR8q2bTtk5FcT5JoKZaRa1Wsdla3Pui9bscbRNmRGAAEEEEAAAQSiUYBgPRqPCm1CAAEEYkRg2GdjxOn0Jvffe7ucOXNGPvx4uNx7Tz0zAnwx6/n0d94fbA1i07xpQ+k3YIR5lv2EPHD/HY4lhgz7xvE2bBBf4IQZRyCWh7TR9uvnh4QAAggggEAsCzAafCwfPdqOAAIIJKOAjuL6/Q9THbfgxto3mDvqS8xAL3usEVe1gCHDv5G//l5vjRSrd9737z8o02fMldo1q1hd4Z0EjlOnzZYDZr7ZXA7mlh1uLjqMN/uiFx7OnLkwt2qWLJnkkpw5pEb16+XWm2vJFSWKOtrXFSv/khe69pI3XusoVa4PPC3NP+s2SMs2/4sr2zPHa9wC88IzLu7Un74089MGvs4++tsfZcCgL2T0qI8lnxnNNtSk+/3bnAUyZ+5C83OhaJt0DIBKFctIZdP2Zk3ukctyX2pb3MMtOsiqVX9LyyeayDNPP5Ig75zf/5TnO74uGTNllLkzLwyA5JtJvRYtXuG7OO79XXfcLJ3at4x77/1Cx0z4fuIv1oUf/SxpKl6siGX/2CONRMdD8E2r1/wjrZ75z953ved9GnMEfps+2vOWnwgggAACCLgiQLDuCjOVIIAAAilP4A8zx/khM5erk5QtW1YrgPpl+hxrsxMnT1o/i11eWNKZ59TbtX1cps/83Vq2eMkq0eCsQP68sn3HrpCr0dFgdXT6hnfXC3mbbdt3yspVf/nNP9sEsG+/N0iaNL7b6qqfMWMGv/l8F3740TAr6H2/7xD56ot+vqvj3p8+fcbMP5v0EYL14klfM33erl175LMvvpPOHZ+Kq8PuhR7D59q/KhpMeycdA0D3Xf+N+Pxb6dOri9xSt6Z3lnivNb+WdfLkqXjLPW+0N4VeRMlkgvVASduuj1YESnv37fe7avXaddLkoWetuX01w4ULGmlkw8Yt1r+Jk6bL4AG9RKcK9E7a1h07dnsv4jUCCCCAAAJRI0CwHjWHgoYggAACsSVgdwc00J5o4K13jjWw0zRp8kxp98zj0v+D16z5VnVguZFfj7fW6SjzmvQOsZNgXbdZtGiFo2Bdt9GkwVyPVztYQd/hw0dFg/ivzDP5i5eslG/GTBTtXv1en+4XMtv8f40JHmf+Ot/KseDPZdbd4uuuLe93Cx0Zf/b0MXLe/Kd3cKfNmGPNG6+Zf/7xC8lq5rf1JLu76uMmTLECdc076psJ0rrVQ5IjRzbPpn5/alfxFq06y9Jlq60A97prK5iAvIbUqVXV6ka+YsVaGTpitBVAt372JRky8C3RnhGRTk0fvEc6tnsyQTWBAv3/vdTHOmaXFy0kr7/cQSpXriAZzJy+av/RJ5/LfNOTo525q//rL99Yj1p4CtZeHLPMMu25ofP6/jhphvR5d6C1Wu+kZ8gQ2oUZT3n8RAABBBBAIJwCBOvh1KQsBBBAIBUJrP3rX8d7myHDhV87Ore6po2btkqDRq3kqSebmrlS08sE0xX9t9kLrHXp06Wzfibmf6tM92YnycRqVtKu7yWKx+/urnO3azf5Xm8PsNp3x+03mW7xge8wa0GDh35lBYDalVwvTAwa8pUM+rjnhUp8/q/7XaBA3rilFSqUjntdIH8eyWqmsQuWzpop8D4d9rWVTQN0vdAw8msN2JvbbvreB0MuBurppN/7r8rt9erEy6+D/N1/X31p0bKzLFy0XHr07CdTJn5mHat4Gc2b5555TJ5uG/hCRo1q8e9q+27v/V5nCsidO5f3ooCvtfu7PnKgSQP12rWqxOXViy+lrrpCHjR33c+eO2d93ry7w2svicKF/psT2PtxBe32H2ovirgKeYEAAggggEAYBQI/+BbGSigKAQQQQCDlCeTKldPxTh06dKHbfA4TxHqSPh/9Yre3zDRub1rd1z3L06W/EKyfMt3anaY1a9bJOROchSu1eKyx9fy8lqd3mu3SZtONW+/Qag+Cj0yPAb07O33mXKtLvN12SVk3Zeosq7t33jy5pVePzlZRn33xbcAu6Zrh+PETptfA91be5k0bJAjUrRXmf1kyZ5aepsx05uKJXlz5Zfpcz6p4P/sP+Czee983c+ct8l0Ulvf6GIEnnTyVsAu+Bv2/TPpSZkwZ5fe5dc+2+tPJ2Aje2/EaAQQQQACBSAgQrEdClTIRQACBVCAwdvwUx3uZL9+FQc/Klb066LYlzOBgmooVKxw0r28G7d69a9de38VJet/I3GHWpN3/9bn4QEkHy9MB22rWqCy1zAB5d9a/yQoCBw+9cOc70Hae5YkJGPXOvaaHmt1rBd3aHXz3nn3y3fjJnmIT/NT57T3Plwd7vv/KKy43jwhcmEZPLzxEOuljDxrc+/47cOBQgqoLml4Jla4pay3vYi76aLd3ff5+z17/z7cnKIAFCCCAAAIIRKkAwXqUHhiahQACCES7gF3AGqjt+hy1Ju0SrSOt26W6N9WwVrdu+ZB1l9our791+w8c9Lc40cs8Fxg0EA80KJkGiN+Om2TV0eLRB6yfjz9y4aeOVO702ftQGjvbjOKug+NlzpxJmjdpYJ69TiuPPny/tekQ0zVeu8j7SzoavycVKVLQ8zLgT322XtP6DZutn5H835Spv8qjT3RM8G+5eYbeN+n+6iMG2uVdxzno23+YPPZkJ6lW+z6pXud+ebb9KzJpykzfzXiPAAIIIIBA1AsQrEf9IaKBCCCAQMoQ0O7IdW+sbgVUGlg+8tB9AXfs5puqW1Ol6Qjn5ctdLRXKlQqYN9AKzxRsgdY7Xa5BerA04vMx1t1qnTteB2nTVKF8Kal8XQVrbvlhQbrQByvf3/qBQ0ZZixvcfWvcc96N77/TGlxOR1af/PNMf5tZQb1nRVrTZT9Y8jzXn5g7/8HK9l2v3fmvMdPG+f4LNGCePl8+Ysi7MuqzD61n52uZXg35zfP+2rtg8s+/ynMdXpNOXXpagxj61uX93o19866P1wgggAACCNgJEKzb6bAOAQQQQCCgQKCRuQNtoHN262jmH/Yfbs2j/nTL5lLUdNf2TVnM6Ofduz5rBVZ6l1RT5cqB5yn33d7zXqeJC2davHSVVZxeaChYMF+Coj2DuumKxx9tFK83wOOPNrbyf2PmQffXlTteYRcHu4u3LMAbHcV93vzFVl0tLtahWXXfGze6y9pKu8j7C0KLez1eEMoUfJ476jp3uV3yN0+8XX5/63TKvu++/iTBP093d3/b6GerapVr5PlnW1iB+5wZ38rC37+3gnd93l4HLxz46Uh/m7IMAQQQQACBqBQgWI/Kw0KjEEAAgegXCBa0+e7BpZdeYi3Su73v9v3UmkKr77svxxtxWwO9nq+/IDrvugZWnunhcue6sK1vmYHeazk6knqoyV8w672trv9y1Dhrkd4x1xHcfZOOvq4Bu6Z+H42Q2jc/GPevR69+1vJjx47LFxfLsRYk8X+e4FP3V7uNa7dvz7/vxl7ojr9q9d8ye87CBDXp3X/PxZLx3/+cYL33gn/Xb46bh73ujdW8V8W99ly82RlgrAANmDWFezo0HShv67adcdPWxTXIvMh1SU4reL+xzoXp5pavWOO9mtcIIIAAAghEtQDBelQfHhqHAAIIRK+A5xnmUFt45MgxK6t2cR5t7jDrc8Q6Ndj7b79k3XHXlV1faC3anXvBwqUyYNCX4hlxfu/+A6FWY+UrXLhASFOehVqoDlrmmR6sZYsmCTbTgdq0C7wnafdrfT7d82/Xrv+eD/985FhrDnNPXt+f3lOL+a7zfq+j6E+bcWGwNx35Xuv0/ueZp163GTgk4R1lK8B/6MKz7Z8M/lKGf/6td/Fxr7Xszv/rZXXjL2Jcb7u1dtw67xdlSl9lvZ36y29y4GD8geC0jC9GXrjYUabUld6bJfm1zqV+461NpO7tzWXb9p1+y9u//8L4BVmy2E+DF6q930pYiAACCCCAQJgFEt4aCHMFFIcAAgggkDIFrr6qhKMdW2nu8GqqU7uqjBn7kzVdmw7aVv+2G+Wrz/vJMXOHVJ811oDzmedfsYLD2mY0dU1/LFhq/Qz1f/qMeGLS3n0HZPbchdbFgzOnz8rfZsT08ab7tN6d1tTswQZy3bXlExStg8rp4HLaFVv3pUzpklYezx17DYx1Xvqmj7SzHgHQixWPPdwoQTm6YM3adX6X+y7U7u0aBOfLl0dGf9lfcl6SQ9Lof+bxc61Pk44Gr3Ojz/9jiTWfuj4D7p0ebtZQfjaDuWnA2/Otj2SO2XcdUV4vxGzdusNM0zZbpk6fI1u2bLc2014Fge6Ma1lfffO9Fag3atLGGuzuzjvqig5k1+e9QdYFGC3k8YsD73m3w/e1zp2+eMlK38WS0wxKqCPTe6eqla+RQgXzW4F64+Zt5ZmnHpbbzWcqi3lcQXsEfPnVuLiy7jLtsUurzZR/JAQQQCBSAqVKBB/MM1J1U25sCqQxf0g4eDouNneSViOAAAIIhF/g9/mL5JEWHR0V/LUJKvXZ9Td69Zcmje+WsmUu3I31LUQDVr0D/ZJ5dv3vfzZIo6ZtfLPYvu/3/qtmyjT7wMy7AG3PZ19+570o3msdcfypls2kw3NPmID8QnduTwYdeO7WOx8RnV9d69S6A6Uu3d+S78ZNlsKF8su0ySP9dqfX59A9+7ts4SS/PQS02/ct9R+yLmj8r3MbedLP3X5tg44EX/+ex6wR3OvdUks+6f9mgqYdOXJU/vfyO7Yjpusz8EePHrN6Ovw88fO4gex8C9Pu9F1fettql+86fa/P0fd+o7O/VdYy7cpvNx/7TXWqyZCBbyXYfuny1dZnUR8zCJSeerKZvNjp6UCrreV/LlohTR5+1nq9asnUeI9o2G7ISgQQQAABBMIssHb9duHOephRKQ4BBBBILQJ691qnX/Pubh1s33v3GSCjR30kr7/SwRpAbsx3P8o8c9d3xcq1cur0GSlv7rRXvr6CPHDfHdKrR2cr2Hyjd/9gxcZbryOG1zWjyTtJl12WS0oUL2oNxKZ3qzUgT58+nZS8srjcYAYtq1G9sjU6vb8yFyxcJufNNvoMf9vWj/jLEresjbnrqwGhzgOv3fzbtX08bp3nhT77rfVqSpP2wh1y643X/36aPEPy5LlU8lx2qTQz07UFSnqnv+PzT0rPPh9bd9anzZgjt9StGS979uzZpP8Hr1k9Cn4z08D9buY314slOn+5Bsc3mRH8q91QSTZs3Cr3PvCUvPPBpwED7nsb3CbXVionn3851rpbv2PnbslqBgzUO/IN77nN9EooF69u3zeFCxWI23ffdfq+kJ+B/XS5Pk4x4+dRMm36XJk67Tcr4NfeBTog3Q1VKkl1M1VgKL0tsmTJFFd/2gD2Wh8JAQQQQAABNwS4s+6GMnUggAACKVTgtTc/jBt4LdRdfNQ8J62jfXd9qU/cnN36rLAGqXpXWZN27X7ztU6yaMkKGTg44fPWdnW1eKyxdO/S1i4L64IInD59OmB39yCbRs1qveiiPSJICCCAAAIIxKKA3lknWI/FI0ebEUAAgSgR0JHd65ku4KHMQe7dZA2iNJjypPmzx5mRuy+RspVute6me5br3VEnT2vptGrTJo205tj2lMFPBBBAAAEEEEAg1gQ0WOeSc6wdNdqLAAIIRJHA5Wae9KYP3uO4RTqQ3ENNG8bd+dRu59ple8K3n1rLdPC1+rff6ChQ10bo4GX5HUzZ5rjhbIAAAggggAACCLgkwJ11l6CpBgEEEEipAvrM+h33PC46gneoaebUr0WnAatW+z5rFPXXX25vDVrWruPrkjNHdvlz3g+i82dXuL5+qEVKkSIFZdKE4db87SFvREYEEEAAAQQQQCAKBRhgLgoPCk1CAAEEYk1AB5nr07OrPNm6S7yu7Xb7oQOyaTp3cUISffbd0+X97MV1R8zo46Em7Vbf580uBOqhgpEPAQQQQAABBKJegG7wUX+IaCACCCAQ/QK1a1WR5555LOSGrlu/KV7eXmY6r4/6vh43P7iuzJA+9AlLdBT2G6pWilcmbxBAAAEEEEAAgVgWCP0voVjeS9qOAAIIIBBxgWfbPCobN20VnWs7WJo0ZaboXOEHDhyysupc6jrFlyad93vYiNGy0QxeF0q62UzT5uRCQShlkgcBBBBAAAEEEEhuAZ5ZT+4jQP0IIIBAChI4c+aMtH+hh0z++VdX9krvpg/55C26v7uiTSUIIIAAAggg4JYAo8G7JU09CCCAQCoRSG+6rn/43mvSulXzeF3aI7H7je6rL8MGvU2gHglcykQAAQQQQACBZBfgznqyHwIagAACCKRMgdlzF0r3V96xuruHcw8vvfQSeaVbO7nnrlvCWSxlIYAAAggggAACUSOgd9YJ1qPmcNAQBBBAIOUJ6PRrAz8dKUOGfyMnT55K0g7qXOzNmzaQ59u2kFy5ciapLDZGAAEEEEAAAQSiWYBgPZqPDm1DAAEEUpDAvn0HZOKk6TJuwhRZvmKtoz0rUbyo3NfwNrm3wW1SqGB+R9uSGQEEEEAAAQQQiEUBgvVYPGq0GQEEEIhxge07dsn8P5bIosUrrNHjN2/ZLnv27pfzZs713KaLe5EiBaV8uVJyTYXSUrF8aet9jO8yzUcAAQQQQAABBBwJEKw74iIzAggggAACCCCAAAIIIIAAApEX0GA9beSroQYEEEAAAQQQQAABBBBAAAEEEHAiQLDuRIu8CCCAAAIIIIAAAggggAACCLggQLDuAjJVIIAAAggggAACCCCAAAIIIOBEgGDdiRZ5EUAAAQQQQAABBBBAAAEEEHBBgGDdBWSqQAABBBBAAAEEEEAAAQQQQMCJAMG6Ey3yIoAAAggggAACCCCAAAIIIOCCAMG6C8hUgQACCCCAAAIIIIAAAggggIATAYJ1J1rkRQABBBBAAAEEEEAAAQQQQMAFAYJ1F5CpAgEEEEAAAQQQQAABBBBAAAEnAgTrTrTIiwACCCCAAAIIIIAAAggggIALAgTrLiBTBQIIIIAAAggggAACCCCAAAJOBAjWnWiRFwEEEEAAAQQQQAABBBBAAAEXBAjWXUCmCgQQQAABBBBAAAEEEEAAAQScCBCsO9EiLwIIIIAAAggggAACCCCAAAIuCBCsu4BMFQgggAACCCCAAAIIIIAAAgg4ESBYd6JFXgQQQAABBBBAAAEEEEAAAQRcECBYdwGZKhBAAAEEEEAAAQQQQAABBBBwIkCw7kSLvAgggAACCCCAAAIIIIAAAgi4IECw7gIyVSCAAAIIIIAAAggggAACCCDgRIBg3YkWeRFAAAEEEEAAAQQQQAABBBBwQYBg3QVkqkAAAQQQQAABBBBAAAEEEEDAiQDBuhMt8iKAAAIIIIAAAggggAACCCDgggDBugvIVIEAAggggAACCCCAAAIIIICAEwGCdSda5EUAAQQQQAABBBBAAAEEEEDABQGCdReQqQIBBBBAAAEEEEAAAQQQQAABJwIE6060yIsAAggggAACCCCAAAIIIICACwIE6y4gUwUCCCCAAAIIIIAAAggggAACTgQI1p1okRcBBBBAAAEEEEAAAQQQQAABFwQI1l1ApgoEEEAAAQQQQAABBBBAAAEEnAgQrDvRIi8CCCCAAAIIIIAAAggggAACLggQrLuATBUIIIAAAggggAACCCCAAAIIOBEgWHeiRV4EEEAAAQQQQAABBBBAAAEEXBAgWHcBmSoQQAABBBBAAAEEEEAAAQQQcCJAsO5Ei7wIIIAAAggggAACCCCAAAIIuCBAsO4CMlUggAACCCCAAAIIIIAAAggg4ESAYN2JFnkRQAABBBBAAAEEEEAAAQQQcEGAYN0FZKpAAAEEEEAAAQQQQAABBBBAwIkAwboTLfIigAACCCCAAAIIIIAAAggg4IIAwboLyFSBAAIIIIAAAggggAACCCCAgBMBgnUnWuRFAAEEEEAAAQQQQAABBBBAwAUBgnUXkKkCAQQQQAABBBBAAAEEEEAAAScCBOtOtMiLAAIIIIAAAggggAACCCCAgAsCBOsuIFMFAggggAACCCCAAAIIIIAAAk4ECNadaJEXAQQQQAABBBBAAAEEEEAAARcECNZdQKYKBBBAAAEEEEAAAQQQQAABBJwIEKw70SIvAggggAACCCCAAAIIIIAAAi4IEKy7gEwVCCCAAAIIIIAAAggggAACCDgRIFh3okVeBBBAAAEEEEAAAQQQQAABBFwQIFh3AZkqEEAAAQQQQAABBBBAAAEEEHAiQLDuRIu8CCCAAAIIIIAAAggggAACCLggQLDuAjJVIIAAAggggAACCCCAAAIIIOBEgGDdiRZ5EUAAAQQQQAABBBBAAAEEEHBBgGDdBWSqQAABBBBAAAEEEEAAAQQQQMCJAMG6Ey3yIoAAAggggAACCCCAAAIIIOCCAMG6C8hUgQACCCCAAAIIIIAAAggggIATAYJ1J1rkRQABBBBAAAEEEEAAAQQQQMAFAYJ1F5CpAgEEEEAAAQQQQAABBBBAAAEnAgTrTrTIiwACCCCAAAIIIIAAAggggIALAgTrLiBTBQIIIIAAAggggAACCCCAAAJOBAjWnWiRFwEEEEAAAQQQQAABBBBAAAEXBAjWXUCmCgQQQAABBBBAAAEEEEAAAQScCBCsO9EiLwIIIIAAAggggAACCCCAAAIuCBCsu4BMFQgggAACCCCAAAIIIIAAAgg4ESBYd6JFXgQQQAABBBBAAAEEEEAAAQRcECBYdwGZKhBAAAEEEEAAAQQQQAABBBBwIkCw7kSLvAgggAACCCCAAAIIIIAAAgi4IECw7gIyVSCAAAIIIIAAAggggAACCCDgRIBg3YkWeRFAAAEEEEAAAQQQQAABBBBwQYBg3QVkqkAAAQQQQAABBBBAAAEEEEDAiQDBuhMt8iKAAAIIIIAAAggggAACCCDgggDBugvIVIEAAggggAACCCCAAAIIIICAEwGCdSda5EUAAQQQQAABBBBAAAEEEEDABQGCdReQqQIBBBBAAAEEEEAAAQQQQAABJwIE6060yIsAAggggAACCCCAAAIIIICACwIE6y4gUwUCCCCAAAIIIIAAAggggAACTgQI1p1okRcBBBBAAAEEEEAAAQQQQAABFwTSu1AHVSCAQAoXOHLkqGTIkEEyZcoYtj3ds3e//PPPBvnb/Ptn3QbZu2+/XJorl+TNm1sKFsgrla+vKCWKF7WtLxLtsq2QlQi4JBCO74dLTaUaBBCIsAC/6yIMTPEIJKMAwXoy4lM1ArEscPjwUfmg31D5afIM0cAhbdq0UrRIQWn5RBNp8sDd1vvE7N/av/6V9i/0sIL0YNtfeUUxGf/tIMmSOXNc1ki1K64CXiCQjAJJ/X4kY9OpGgFHArVvflAOHDjkd5vXXm4vje6r73ddalnI77rUcqTZz9QuQLCe2j8B7D8CiRA4e/acPPH0i7J4ycq4rc+dOycbN22Vl197X3bv3ift2j4ety7UF1+N/l7e7P2RnDx5KqRN9A8570A9Uu0KqTFkQiDCAkn9fkS4eRSPQFgFTpw8KcdPnPBb5vKVa1N1sM7vOr8fCxYikCIFCNZT5GFNOTt14sRJ2bpth2zesl22mH/btu+StOnSSoF8eSR//rxSuFB+KVO6pKRJkybl7HQM7MnUabPjBeq+Tf544Bfy+KMPSM4c2X1XBXzft/8w+eiTzwOu97fihqqV4i2ORLviVcAbBJJJIBzfD7eaznnbLWnqSa0C/K5LrUee/U6NAgTrqfGoR/k+nzp1Wn6cNF0+HzlWlq9YG7S1BQvkk4YN6sl9DW4T7RZNirzA8hVrbCs5e/asaHfdKua58lCSdqMfOnx0KFnj5ale7dp478PdrniF8waBZBII1/cjks3nvB1JXcpGIL4Av+vie/AOgZQsQLCeko9ujO3brl175ItR4+WbbyfKvn0HQm799h27ZODgkTLo01HywH13SJcXWkuuXDlD3j41ZDxw8JDoH9O+Se98Z86cyXdx0PdnTDAeLIXalV3LGTRkVMDujnb1VKsaP1gPd7vs6k6J68L9OUmJRsmxT+H6fkSi7Zy3I6FKmSlNINznVn7XpbRPCPuDQGABgvXANqxxUWD23IXSvlMP0V9oiU3nz5+XMWN/kqnTZ0uPVzrInfXrJraoFLdd67bdZeGi5Qn2q+mD98ibr3VKsDzYgpJXXB4si5QMsZfD/v0H5atvvrctL1/ey6T+bTdaFxZWmGcVly5fI9mzZ00wGnw422XboBS6MtyfkxTK5OpuhfP7Ee6Gc94OtyjlpVSBcJ9b+V2XUj8p7BcCCQUI1hOasMRlgWEjRkuf9waKDpgSjqSDjrXr+Lo12Fmbpx4OR5ExX8YO02vBXzp06Ii/xUGX1bultrzXd4g1Cry/zDffVF0KmOnVQkmr164TfcY1ULr6qhLy2dD3JG+e3HFZdDC7Q4cTtj2c7YqrLBW9CPfnJBXRRWxXw/n9CGcjOW+HU5OyUrpAuM+t/K5L6Z8Y9g+B/wTS/veSVwi4K3D69Gl5oWsv6fX2gLAF6t57oMHkl6PGeS9Kta+1q2o4kz5mMPCjngnubGsddW+sJr3ffDHk6jZv3mabt/1zT8QL1DWzThOX65KEjzqEs122jUqhK8P9OUmhTK7uVji/H+FoOOftcChSRmoTCPe5ld91qe0TxP6mZgHurKfmo5/M+/7OB5/K+O9/jlgrsmbNIlWrxB8tPGKVRXHB2tPA3/PqSW1ypWvKyk8Thone+duwYYtkypRRSl5Z3AzyF7yLvHfdm2yC9QwZMsitN9f0zh70dbjaFbSiFJYhUp+TFMbk+u6E+/uR1B3gvJ1UQbZPbQKROrfyuy61fZLY39QqQLCeWo98Mu/37/MXyfDPxoTUCu3+3Oi++lYgWOzywtZzy7t275X5fyyR73/8RXbs2J2gHL3z+sE7L4l2oU7tacfOhD7hMtFgumL50ta/xJZpF4zkz3eZdRfdadnhaJfTOmM9fyQ/J7Fuk5ztj8T3I7H7w3k7sXJsl5oFInlu5Xddav5kse+pRYBgPbUc6Sjaz4OHDkvn//UWHRDOLumgYs88/bA0bnSXddfWO6/OrX5j7RukU/tW8vHAz635ufU5Zk/q+HxLuaWuszuynm1T2k+9sBHN6cjRowGbd1nuSwOuY0V4BaL9cxLevY2d0qLl+8F5O3Y+M7Q0ugQ4t0bX8aA1CMSaAM+sx9oRSwHtfbXHB37vhnvvmnalHvvNQHm4+X0JAnXvfOnSpZV2bR83A5C9G/dcc8O760nrVs29s6Xq1zsjeGc90rBp0qaJdBWUf1Eglj8nqfUguvn94LydWj9l7HdSBTi3JlWQ7RFI3QLcWU/dx9/1vf93/WaZ+NN023rLlrlKPhvyrlx66SW2+bxXVr/hOvlh3FAZbeZof/LxJt6rEv1aB1Ka9dsf8s+6jdbI8pu3bBO9e1+wQD4pXKiAFCqYT2pWv16KFi2U6DqOHDlqehgk3DxLlkySPn38r+dZM7f5pCmzzLRlq02bNsiRI8ckR/Zsos+t1a5ZRa6tVC5BQdp7YcvWHQmWexacOXNGDh8OfGc7W7YsAbuhB2q7lp0xYwbbiyye+tXznM0sALrP/tpnV3442uVpX6Cfe/bulzlmukG13bpth2zbtlOOHT8huc1nNo95bOOqksWl3i21zGckf6AiQl6un8M/F62wpt7bbXpJ7N233/w7KOeN3SVmkL3cuXNJmdJXSq0aVeSKEkVDLtc7YyQ/J971eL924/vlXV+4XqvVvD8Wy5q1/8qWLdtl89btotOr6eM6hQsXkKJFCoqewypfVyHJVUbi+5GYRsXSedvN4xPoXOPv/K3uc+ctknnzF5vzxnbrnKHjfBQyv0sKF8pv9RSrUL5U0MNz8uQp83tgpjVWyMaNW2Sf+exZnznT26xs2avMuaCk38E3gxZ8MYOTfdLfHzN/nS9/LFxq9meH7Nq9T7JmySx5Ta84/f1Y98bqck3FMpImTfRedI30eSiS59ZAx0oPpd3vyFA/C25+l7RNgfYn0PdJH4Gc9PMs6+8z/fwdOHhYihYuKGXKlLS+B2XNd8HJ35GhupAPAbcF0pgvo59Qwe1mUF9qEfig31DTbf2LgLurf7xM/n5EkgLggIWHuEKDoZFfTZBRX08IODWZpyh9Nv6WujWkxaONzWB213gWh/yzSs2G1h/6vhu83O05eezhRnGL9QKH2m3ctDVumfeL668rL998+ZHoQDaPt3pBDpop2Q6ZX1yHzcUA78cDvLcJ5fWUiZ+ZAeOK+c0aqO2aWXtEvPbS8363e+f9wfLzL7/J/gMHRaeOS0z7Wj3RVLq80Npv+Yltl9/CvBZqO3+d/Ye5IPSjTJ/5u+gfqsGSfiZee6l9osZOmDFrnjWbwR8LlsrxEyeCVWWt1z/2X+z0tOjFK7vk5ufEtx1ufr98607Ke+0G/u13P8mob74P+D30Ll8HW3yoaUO5r+Ftkt1cVAs1Rfr7EWo7vPPFwnnbrePj7RLoXNPtxWfkiccfjMs6Zeqv0n/AZ+YCz7q4Zf5e1Kh2nXVeK1f26gSrdZDQoSO+kRGff2ddsEuQ4eIC7W32Ysen5ckWibtoHWifOnd8Sp5ueaHHml4wGDDoC+u7oBeq7JJesOzUvqU0vKeeXTa/6wK1RTPb/Y7xW5jPwkidh9w8t0bKJzm+S3p4Au2P7/dJv0f9Ph4h02bMNTMJnfU5sv+91YtEOptM29aP/LeQVwjEmMDa9dsl/q27GNsBmhtbAnpdaMLEX2wb/dSTzZI1UP9u3GR5pcf7on+MhJI0gJs6bbb1r+mD98jrL3cQ/WMpqWnPnv1WEWr29nuD5NNhX9sWWbpUSWv9KXMXdsXKv2zzOlsZ/jsi6zdsFv0XS2ndvxvl+U49gv6x7btPGmg3aNRKWj7RRJ5t/ag1OKJvHu/3erz1QoZe0Fq1+m/vVSG9Xr5irTzSoqO5ePSAdOvSNuAdreT6nETL9yskTK9Mk83dmy7d+8jRo8e8ltq/1N4vr/f8UD78aLi826eb3FSnmv0GF9dG2/cjFs7bbh6fUA7itu27rGz6++H9D4fIwE9HhbKZdee9+WPtZeigPvF6ZmgA2PrZ7lbvmmAFnTU9lXq/84k5f/wjvd7oHFIPp2Bl6vr1plecpgV/LpNuL78T8jl82/ad0qlLT/nhx2ny4XuvSLZsWa1ykvN/kTwPJde5NVye0fZd0v3aanqueZJeLNfzaih/o+m5Sy80anD/du+ukiVzZk8x/EQgpgSSHlXE1O7S2OQUWLR4pdVtNFAbtHu558p9oDyRWq5XZ/UXQJfub4X0S8BfO74e/YM80+5lOXHipL/Vjpbt2bPPyq9/FAUL1DVj+XIJ78Q4qpDMAQX0j4N7H3jacaDuKVDvwA8cPFLubNhC9u074Fkc76f+Ua9/zGqets+/kqhA3bvA4Z9/K2/2/sh7UbK+jrbvV6gY2u5ebw+QZ9u/6ihQ9y7/wMFD0qrN/6ygXY9zrKVoP29H4/HRR2OOHTtu/T4INVD3fC70glCLVp3jem/oxZtGTduEFKh7ytCfEyZOtc4l3suS8nrZijWi4xY0f/T5kAN17/pm/jpPnmrbLdG/X73LSuzrWD0PJXZ/nWwXzec6/T5p77IXu70l3V55x/FnSB8bafPcy044yItAVAkQrEfV4UjZjQk2p/qdd9QNeucxEkL6B3TLNl3li5Hjklz8tBlzrF8mSS1oz959Mnb8ZBkz9qeQiipfLvizjiEVRKZ4Am/06m8dz1C7ocfb2OdNxowZJWvWLD5LL7ydMet36dD5Dfn7nw1+1ydm4Rejxsm6fzclZtOwbhON369QdlDb/XTb7jJsxOhQstvm0Ts82g26Q+c3bfNF48poPm9H6/H5c/EKady8rfwyfU6iDulxM/5Fb3ORaIF5Frxxs7ZxgbvTwjRATkwPHX/1/PX3ehlpHg3Tz3Jik0632qNXv8RunqTtYvU8lKSdDnHjaD/X6ffpgabPWH8ThbhLCbLNnrNAVq4KZ6/DBFWwAIGICRCsR4yWgn0Flixb5bso3vtbzbPfyZEGDPpSfpu9IGxVf2+6+utAQklJy5avlTd69w+pCH3O/2ozoBkpvAJ6seSzL78LS6Ha/a7/B68FvBil0xBenoSBCv01Uv8A0+f6kjtF4/crFBNttwY74Uw/Tpoets9UONtlV1Y0n7ej9fhoD5q1f/1rxxp0nQb6zcxdbO2ZkZQ0dHjSLzYlpX7fbbULunaNdzvF6nnIDadoP9fpuAhJ/T6po/Y4IyEQiwI8sx6LRy1G27xrV+D5vnOZUa2vuzbpoyc7pdFRtvsPGGG7mY4mev+99aWcGeE5R47s1kjseofA7g/F1974QH4cP0wyZMhgW3aglTr4TaipdKkrzXPy6azs2c3zgBoYhuNOsI5GnytXjlCbEXK+PJdF/9zpq9f8Y8Yu+CCkfdK75TqwW4niRa3HPJYsW22Nauu98SsvtbNGiPde5v1arV/o0EradXzde3Hca11ftXJFKa2j2+bKaUZd3mvdhV/453Lbge5+mjxDnnn6YSl19RVxZekLtz4n0fr9iofh541+v4OdF3SzzJkzScUKpaXY5UXM8Vhv7tz8LTq6tF16652Bcl2l8tZnxl++aPt+RON5OzmPj79jFuoyPTdfdlku2bFzj+33Nlh5+hnRwbN2X3xcyi7/j+YcoIPDFSiQ1y5botbpAKvXm1kPLi9a0IwGv0uWr1yb4NznW7A+FqSPdr3a/XnfVRF77+Z5yK1za7iwYvW7pPuvvxcL5M9jPXqoM7QESz9OmmEN4Kgzd5AQiCUBgvVYOlox3Fb9Bb1vv//ndXW3dPqxcAzM5oRIn9Hq1OVNM5po4OdI76xf1xrVXKfH8qS6N1YTHY1cR4XWbtL+/jjXqY5+m7NQbr6pumezJP/UP9DamkHKbqxzgzVVj47YunjJKnNB4L+vsQaOyxdNjldXjRsbWcFdvIUX39x1x83WoD/+1kVqWY9XO4r+86QWT3UO2LNBPxfffjXAk9WVn9rNs/0LPYKOPZDLBM3v9O5mplyqGm96O/08DRn+tfWMso7gfG+D26Tx/XcGbfsdt98k11QYbU3N58ms4zi0McH2PXfeYi4UJRxRXAd7atfhtYB/tOu+6B/G777VzVOk9dONz0msfb88QFa7u/a0PS9o3hc6PCUtWzwYb4pFHfTo3Q8G297B0fPFC6b8yT985ncAwGj6fkTteTsZj4/nc+Lkp07v+VybR6XB3bdanxf9DOjjBa+9GdpAWZ66bqlbU9q2eUQqli9tLdJgvfur78p0Myp2oKTHUKca1PNQuJIG6c3MgKqtn3rImsrUU6725tEeAR1ffNP2/DnGzKrwrPG4LHfkL9y6fR5y49zq8U7qz+Q+1yW2/Rps62dPf6+qtyYN1vUmyeSffw1YrH7v9NES/buOhEAsCdANPpaOVgy3Vf+osHvWLTnuJumdcbs5yJs3aSD93n/VmsfaH72uf6lrW3+rrGX6/Hq4Uv3bb5QZP38ljzx0n9VdWu+qaG8EvXBQq0blcFVDOUZAH2EI9qy3Tq00fsxgy1//cPVOetFJB0rU9Tq90BteFya88/m+1mPqmY5O74K9/koHmT5lpOjnzF+grttXub6iNXK0b1ne78P5HLx3ucFex9L3y3tfdFo+nb83UNLj3atHZ2ndqnm8QF3z6yMp3bs+Kx2ffzLQ5tZy/XzpHa1oT9F43o6149Pw7noycewQq3eW3gnUpD2uGje6S95/+6WQPgJ6R75Pz64y6OOecYG6bqhBy6CPekrN6tfblmP3ebbd0M9KrfPrL/pZ5ye9mOid9Ltx2621Zfjgt21HfddBWId/NsZ704i9jtXzUMRAvAqOte+SNr12rSoycfxQa2pbT6Cuy/VvyI/69pBbb66pbwOmcH4XAlbCCgTCLBD/r8wwF05xCHgE7LpSah7vO9eebSL9U6/uB0pXlCgq/+vyTKDVccv1D658+fLEvfd+oXc77C5QeOe1e613U/q+87JkycK0I3ZO4Vr31ejvbYsqXCi/mdO+vxQpXMA239VXlbB6ZTg5bjov+1fmD+Hpk0dZc3SH8hhFWfN4hl60CZS2bt0RaFVEl8fK98sXYfS3E30XxXv/1JNN5cEH7oq3zPfNM08/ErQ3hZ2Pb3nJ9T4az9uxdHx0KtL33u4eMHCtd0utoOeR7NmzyfAh70ij++r7/RjoRb7HHm7kd51n4fYduzwvk/RTH/X57ptPzCNr5W3LqVL5GnPBspltHrs7oLYbOlxp9z2Lpt/zDncrLNlj6bukO6wXrocO7GPbI+ORh+63tdm+M/CFWNsNWYlAMgoQrCcjfmqqeueuPba763awrl2mZsyaF7BNr77UPqQ5OTNmzCBNG9/ttxy9K/Xv+k1+14W6UANDvbvvuSMT6nbkS5yAfi5+mWbfI6L9c08EHCgucbXG30rvluvnykm69eZaAbPrAFVHjhwNuD4SK2Ll++W77zvNs8S/zv7Dd3Hce/0ePhrkj0FP5icef9Dz0u/PyVNniT7KEs0p2s7bsXR86t9WR17s9LTt4bXuRNerY5tHH2GpbJ4Lt0s31qlme04KV7Be0/TiKlQwv11T4tbd37B+vMeD4lZcfKGDzIXjYrZvud7vY/U85L0PkXodS98lNbjdfE/0ESHfnmy+PjWqXRewJ5rm5c66rxjvY0GAYD0WjlIKaKM+y2mX/D33bZc/qetm/TrfPJN61m8x2cwgbdWqVvK7zt/CK6+43N9ia5kOBJaU1K5tC6trbVLKYNvQBX4zgZo+4xko6UBtDe+pF2i1q8v187tly3ar236wkXK3bnN39OVY+X75HrDf5i6wfVb9zvo3BexJ41vWVSWLW102fZd73us5cd78xZ63Ufkz2s7bsXR88uS5LKRjmj+vfb5QHhHTR2/s8m3fHp476yHt0MVM+ihPzRrXB9xEx/PYncTfjwELv7giVs9DwfYrHOtj6buk+5s3yPfEY6I9TewGkNvBnXUPFT9jSOC/kaliqNE0NfYE8uSxH0jG7WDC7k6DTqEV7I6S9xHwjMTuvczzes+e4COUevL6/ix5ZXG5r2H4BgXyLZ/3CQXsPheaW7ubBruyn7DU8CzRu0SLzHyz1r8lK2WFGXlZ/+ANJW3Zuj3BiPChbJfYPHaO0fL98rdvwYIapxdqdFAvu2kho/0Px6g7bwcJOmPx+OQJ08jUl5lndgONwXL02HF/H/eIL7v2mnK2n3/9vR/oMbJwNC5Wz0Ph2PdgZaTkc50OXKiD/PpLx5Lpu+CvLSxDIFQBgvVQpciXJIF8Qa6Kbt3m7nO1dn8k67RddW5pkqT99WysAVZiU7Ubrk22wDCxbY717bZvt3+e7corirm6ixs3bZXPvvhOZpjBEDdv3pbouo8cOZbobROzYSx8v/ztV7CLdEUKF/S3WcBllxcpFHCdroj2LpnRdt5OicdHZ5UIR7o01yXhKCasZQS7EKEXF66tVC6sdXoXFqvnIe99iNTrlPhd8lhdckn4pxSBCYgAAEAASURBVJz1lM1PBJJDgGA9OdRTYZ3BujBtc7mbrlt/JB8+fCQVHu3Y3eUdO+27ixYrVtiVndPpZYaZ0ZKnmUEKdTqkWEux+v0K1u5CBeOPfh3suAR7vtcumAhWthvrY+28HYvHJ22a8DyNmDZtGjc+Eo7qCH6xJ7KP5wT7PjvaGZvMsfh7PphNLH6XPIfIrvebdpMnIRBrAgTrsXbEYrS9OXNktwbA0Slb/CW3u8HvdOm5pYxmih5S7AjY/QGj0yfZPRcajr3UgeCe79RDZv02PxzFJVsZsfr9smu3nsOcjOyv+Hnz5hZ9nvjsWf8XXILd3Uq2A3ix4lg6b6fG45Pcn49g9esxsUt79yW+55lduZ51dt9nT55w/IzF3/N2NnyXwvGpoAwEwicQnku64WsPJaVgAbu7NBrE7woyYnws0mTNliUWm02b/QlE+IK8Dhb3QLO2jgJ1nWe2YvnStlO3+duVlLLMze/XeTmfUtgc7UesnLdT6/FxdDBdzqwzUdilYMG83bbRtM7N85Ab+813yQ1l6kAgdAGC9dCtyJlEgaJB5qX+eoz9/MZJrD7e5pEc1Ma7oiKF7Ofi9s7L6+QXsPtcHD9+QiJ1J0hHdm/1zP/kn3UbbBH0Lq2OZfBK93byw9ghsnj+jzJ29EB5uVs72+3cXmnnGM62hPv7lT9/3oDNO3z4qDgdnEjnKQ90V10rKmBTX8CGuLwims7bHB+XD34Sq7Mb4E2LDtZNPonVR3TwOu+2hfs85F12pF7zXYqULOUiEH4BusGH35QSAwjcftuN1jRTAVZbA2k9aeYm1qnTIp3y588TsAoNNL4Y9n7A9U5WFAlygcJJWeSNvECwIHPjxq2iI82GO434/Fv5+58NAYvV5+yaNL5b2rZ+RAoWcPbcdMBCI7giVr9fOt2UXdLgw8kggzqXtF2KhWA9ms7bHB+7T1P0rQs24rjdFFvh2JtYPQ+FY9+DlcF3KZgQ6xGIHgGC9eg5Fim+JXfVrytv9OofcB7rg4cOyxejxkvrVs0jbmH3R/KBAwelcKH81jP2EW8IFUSVQAGbizja0HX/bpTrri0f1jafP39ePh74RcAyNVB/87VOVrAeMFOUrYjV75ddu5V446ZtjoL1TUFG8A/2B3M0HNZYOW+n1uMTDZ+RQG3YbB7tsUt2j1jYbRfqOrvvc2r/PW9no76p8VwX6ueKfAi4LUA3eLfFU3F9OkVNnVpVbAWGfTZajp84YZsnHCsL2txB07mr/zCjcaeGdObMmdSwmyHvY7A/YEaYadTCPTr7VjN90SGbWQO6vNA62QN1p5+TWP1+BRsBedyEKSF/ljTjd+Mm2+aPhV4S0XTe5vjYfpyiauXuPftkxqzfA7ZJL0LqRfFIplg4Dzk9t4bLi+9SuCQpB4HICxCsR96YGrwE7rnrVq93CV/u23dA3nlvcMIVISw5ffq0vPpGX7ml/kMSbH7zOrVusJ3D/JPBI8MelIWwCxHJkiNHtoDlRvvUUQEbHqEVtc3FJLtpX9b+9a/88NO0sNa+9u9/A5anf9De3/D2gOvDuSKcn5NY/X7VqX2DGb09XUDWn3/5VUKduWL1mn/k9/mLApalswtUN+MPxEKKmvM2xycWPi5WG/XRHr3wHShdb3oo5c6dK9DqsCyPlvNQOM+tYYExhXCuC5ck5SAQeQGC9cgbU4OXwK231Az6zO/nI8fK+x8O9doq+MudO/dIs0efl5FfjTfdt7bK0227SaBp4rQ0fZatZo3rAxas81wPGPRlwPWxtKKQzd0Lvaur3bBJFwR0XuxqVSvZcnzYf7jtZ8t3Y72IZJf+Xb854Gq9qxnKH7Rr1q4LWEaoK8L5OYnV75dOzXfzTdUDkulgcSM+HxNwvfeKwUO/8n6b4PWdd9wk2bMHvpCWYINkXBAt522OTzJ+CBxUrY+0jfx6gu0Wd995s+36cKyMlvNQOM+t4XDRMvguhUuSchCIvADBeuSNqcFLQO8m9X7zRa8l/l8OGPSFtGrTVezmvfZsOW/+YmnQqJUsWbrKs0iWLlstL3Z7yzYQfeC+O+Ly+3vRf8AI041vnr9VfpedPHlKfpo8w/GI0X4LC+PCIoUKBixNeyBMnzk34PrUuOL+e+vb7rY+h9zk4eck2OBhOm1Rl+5vyXU33CM6LVuglD174AEV9+8/aNtLRLvk9/t4hDzb/tVAxYe8PNyfk1j9fj34wN22ZsPNHcOhw7+xzdPn3YHyw4/2PTAebGRfj20FLq+MpvM2x8flg+9V3bdjfzIXsb8QuwuQOgXrw493kCNHjnptGf+lzmpR//ab4i/08y69TS+XveZ3VygpGs5D4T63hrLfoeThuxSKEnkQSH4BgvXkPwaprgV656rpg/cE3W8NlOvd9Yh06tLTBJS/W4G7TnGlU2jp3chvx02SZo+0k4dbdPA7pZYGzh/0Gxawnnq31Ba70Wj1LppeMOj0Yk/bgEmfsR82YrTUva2ZtOv4ugwJ8od8wAZFaEXhICPSv/XOQKs3gm/1bowd4FtnNLy//bY6cumll9g2ZeWqv+Texk/LzF/nJRgw8cCBQ9Zn8/a7HrOeWVZHfTwjULq65BWBVlnLX+jay293Uv2j+PGWL1jBejieow/35yRWv191alWVokUL2R6T3u98Iu9+MDhBQKLHvmv3PvLpsK9tty9T6kq5/rrwDlRoW2EYVkbLeZvjE4aDmcgitLea9nq7s+ETMuu3+WZawrNxJenvywV/LpP7m7YRfQTELt18Uw3rzq5dHl1nNzuHPmISynkvGs5D4T63BnMLdT3fpVClyIdA8gowGnzy+qfa2rt3aSu/z1vkN0j0RtHAfMIPU61/3stDfa13AW6qc4PfEbwzZswg7/bpLi1adbb9pT9h4lSZPmuu1KpRRa4qWVxKFC9qBWjr1m+Sdes2ysJFy0XvgHqSBusPNWsYtLu/J3+kf5Yvd7VtFes3bLZ6Jtx2a20pWqSgaMAxf8ES2bBxiyz540fJkCGD7fYpbaXeRezzZhd5yjxKYZd0fIWWrbtKpkwZpWyZq+SQ6fqpSS8k+T5aoH/YTv55ltQ30xf6pquvKuG7KN772XMWSN3bm8mDje6yjo9+J/5cvEImTZlle4crXiEhvAn35yRWv19616/vOy9bvSfsBn8a+OkoGTz0ayl19RWS3Uw3uc+cA/415wTfY+9LnzlzJnnv7Zd8F8fE+2g4b3N8kv+jor8znny6i3XuK1qkkNWbTAfJtLub7mm1PvrxavfnPW9tf+oAcXph1F/S31MNTY+6cmWvlmfMlJaXB7jAFg3noXCfW/15JGYZ36XEqLENAu4LEKy7b06NRiBLlszS991XrEBZuwtHKlUzAziVNnexAqWa1a+XNk89ZDt1lm57+PBRExzNNP8ClfTf8mPHjkv/AZ/Lay+F9gfJf1tG5lWtGpUtA7vnmo8ePSb+RrpevmKt3wsdkWlp9JR6c90a8uhD94uOnxAs6eMPi5esDJZNephpC2vXrCLZTGDnnXTwIZ27W6eFC5R0TIb+Az4LtDosyyPxOYnV79c1FctIl05PS88+H9va6p29YHcRfQt41ZwXgl2g8d0mWt5Hy3mb4xMdnwg99/2zboOjxnQ1s1uEOmVhwYL5bMtebcbq0H/Vq18XMFjXApL7PBSJc6stjIOVfJccYJEVgWQSoBt8MsFTrUiF8qVk/JhBtsF0Upzq3lhNhg7sI1mzZrEtpl3bFqKjgIczfT36h6C9BsJZX7CynnqyWbAsftdrr4HUmrp2biOVrikbtt3XbutDzeMS/tLrL7cXHfk9uVMkPiex+v1q8VhjubN+3bAekiaN75bG998Z1jLdLixaztscH7ePfNLr04ugoTwC56lJu7CHkv76a33QbMl9HorEuTXoToeYge9SiFBkQyCZBAjWkwmeai8IFDHdrsd89bHcdcfNYSPRoOehZvfKJ/3ftLrpBStYu4IN+aSPtG7VPGwBU86c2UW7SUdLuuuOunJFiaKOm5Oag3XtPjlyRF9pbLqfhyMVu7yw3HpzTb9FaQ+QZiGM4+B3Y7NQnz0MtWtpoDJ0eSQ+J7H8/frwvVfk+Wdb2E7nZ+fpWafTwXV78Rnp+foLnkUx/TMaztsKyPGJnY+RDtw54MMejhpco9p1IfVC0Sk1g6XkPg9F4twabJ+drOe75ESLvAi4K0Cw7q43tfkR0GeE9RdF7zc6S8kri/vJEfqiMqVLyphRH4veqUyfPvSnPPQX+QsdnpJPP+kd0lRZgVqUL+9l1h/ls375Wq6tVC5QNteXa7AweuTHUst0w3aSFi1aEfQZXCflxVpefR5dP5c6g4F+ThOT9LOld1O//+5T69n2QGV0Md1Db69XJ9Bqv8v1+U9t37DBb0sN0xU0qSlSn5NY/X7phb/nnnnM6qETyhR6/vx1kKwvR3wgTzz+oL/VMbssGs7bHB93Pz76XXj8kQccXbxKmzattDXPlL/dq6uj38mePev4fMug2/31d/A761pecp6HInVu9Tgl9SffpaQKsj0CkRMgWI+cLSU7FNA7mJN/GCGjPvvQ6n4aarCtd0BvqVtTPjCDQo0fMzhJXZdvqlNNfps2Wt4zA89VrXJNyHtQvFgR6xn1GT9/Zf1RHmpgp3OdupV0zu5hg/rIs20eDakHgf6RVbRoQTlx8qTfJrrZdr8NCLAwEu3SYHv2zDHycrfnQr6gpIF0swcbyNSfvrSCfd9n1X2br+s/Nnee9J/dLAW6nQ5S1vDuejL5+xFxd/51gCX9YzSpKdyfE+/2uP398q47Ka/1MRm9AKcXRnQwwVCSXqzT88hMc06ocn3FUDaJyTzRcN5OruMTjnNNnjyBfwdoAHVZ7lxJ/lzkyZM7yWVoAfo74aX/PWv1htOB3eyS/v7WadMm//CZdGj3pF1W23XaG+mL4e/bDtiq02g6mb0kuc5D4T63huPz54ufXN8lbUe49seuHLt1vha8RyBaBNKYkWvPR0tjaAcC3gI62uvfZvCarVt3yBbzT3+eO3/OTN12UvLnu8ya1qWImZZMR2nXQboikTZu2io6yJr+MbBt+y45fOiInDHT1WQxwZJO76U9AbQLc+FC+SNRfcTK1EHw/v5ng/z1z3rRuxIrzD5qsKjBef68eaRYscJS/YbrRP+4ICUUWLZijfxj/LZuM58L809Po0eOHpXLLsstBfPntS706MA9ejclMUmPj37u9Njov1OnT8mZ02etgZlKXllM6t1SS/RiQKRTpD8nsfr90hGq16z9VzZv2Wb+bTd3/i4c5yKFC4qekzSg11HiU2OKhvM2xyfxn7wqNRvGm93Eu6SnWzaXzh2filukg5ZOmzFXNm3eKnv27Jdcl+SU4sWLiF68rlr5GsmfP09c3qS+0BlXdBYMrXO9mXEjTdo01sWD/Kbnyg3mwnoNM1isXkxITEqO81Ckz62JcfC3Dd8lfyosQ8A9gbXrtwvBunve1IQAAggggAACCEStgF2w/tjDjazeRVHbeBqGAAIIpDABDdYTdxkyhUGwOwgggAACCCCAAAKBBc6aqQpJCCCAAALuChCsu+tNbQgggAACCCCAAAIIIIAAAggEFSBYD0pEBgQQQAABBBBAAAEEEEAAAQTcFSBYd9eb2hBAAAEEEEAAAQQQQAABBBAIKkCwHpSIDAgggAACCCCAAAIIIIAAAgi4K0Cw7q43tSGAAAIIIIAAAggggAACCCAQVIBgPSgRGRBAAAEEEEAAAQQQQAABBBBwV4Bg3V1vakMAAQQQQAABBBBAAAEEEEAgqADBelAiMiCAAAIIIIAAAggggAACCCDgrkB6d6ujNgQQQAABBBBAAIFoFHik+X2ycdNWv02rWL6U3+UsRAABBBCInECa8yZFrnhKRgABBBBAAAEEEEAAAQQQQAABJwJr128XusE7ESMvAggggAACCCCAAAIIIIAAAi4IEKy7gEwVCCCAAAIIIIAAAggggAACCDgRIFh3okVeBBBAAAEEEEAAAQQQQAABBFwQIFh3AZkqEEAAAQQQQAABBBBAAAEEEHAiQLDuRIu8CCCAAAIIIIAAAggggAACCLggQLDuAjJVIIAAAggggAACCCCAAAIIIOBEgGDdiRZ5EUAAAQQQQAABBBBAAAEEEHBBgGDdBWSqQAABBBBAAAEEEEAAAQQQQMCJAMG6Ey3yIoAAAggggAACCCCAAAIIIOCCAMG6C8hUgQACCCCAAAIIIIAAAggggIATAYJ1J1rkRQABBBBAAAEEEEAAAQQQQMAFAYJ1F5CpAgEEEEAAAQQQQAABBBBAAAEnAgTrTrTIiwACCCCAAAIIIIAAAggggIALAgTrLiBTBQIIIIAAAggggAACCCCAAAJOBAjWnWiRFwEEEEAAAQQQQAABBBBAAAEXBAjWXUCmCgQQQAABBBBAAAEEEEAAAQScCBCsO9EiLwIIIIAAAggggAACCCCAAAIuCBCsu4BMFQgggAACCCCAAAIIIIAAAgg4ESBYd6JFXgQQQAABBBBAAAEEEEAAAQRcECBYdwGZKhBAAAEEEEAAAQQQQAABBBBwIkCw7kSLvAgggAACCCCAAAIIIIAAAgi4IECw7gIyVSCAAAIIIIAAAggggAACCCDgRIBg3YkWeRFAAAEEEEAAAQQQQAABBBBwQYBg3QVkqkAAAQQQQAABBBBAAAEEEEDAiQDBuhMt8iKAAAIIIIAAAggggAACCCDgggDBugvIVIEAAggggAACCCCAAAIIIICAEwGCdSda5EUAAQQQQAABBBBAAAEEEEDABQGCdReQqQIBBBBAAAEEEEAAAQQQQAABJwIE6060yIsAAggggAACCCCAAAIIIICACwIE6y4gUwUCCCCAAAIIIIAAAggggAACTgQI1p1okRcBBBBAAAEEEEAAAQQQQAABFwQI1l1ApgoEEEAAAQQQQAABBBBAAAEEnAgQrDvRIi8CCCCAAAIIIIAAAggggAACLggQrLuATBUIIIAAAggggAACCCCAAAIIOBEgWHeiRV4EEEAAAQQQQAABBBBAAAEEXBAgWHcBmSoQQAABBBBAAAEEEEAAAQQQcCJAsO5Ei7wIIIAAAggggAACCCCAAAIIuCBAsO4CMlUggAACCCCAAAIIIIAAAggg4ESAYN2JFnkRQAABBBBAAAEEEEAAAQQQcEGAYN0FZKpAAAEEEEAAAQQQQAABBBBAwIkAwboTLfIigAACCCCAAAIIIIAAAggg4IIAwboLyFSBAAIIIIAAAggggAACCCCAgBMBgnUnWuRFAAEEEEAAAQQQQAABBBBAwAUBgnUXkKkCAQQQQAABBBBAAAEEEEAAAScCBOtOtMiLAAIIIIAAAggggAACCCCAgAsCBOsuIFMFAggggAACCCCAAAIIIIAAAk4ECNadaJEXAQQQQAABBBBAAAEEEEAAARcECNZdQKYKBBBAAAEEEEAAAQQQQAABBJwIEKw70SIvAggggAACCCCAAAIIIIAAAi4IEKy7gEwVCCCAAAIIIIAAAggggAACCDgRIFh3okVeBBBAAAEEEEAAAQQQQAABBFwQIFh3AZkqEEAAAQQQQAABBBBAAAEEEHAiQLDuRIu8CCCAAAIIIIAAAggggAACCLggQLDuAjJVIIAAAggggAACCCCAAAIIIOBEgGDdiRZ5EUAAAQQQQAABBBBAAAEEEHBBgGDdBWSqQAABBBBAAAEEEEAAAQQQQMCJAMG6Ey3yIoAAAgggkIoENm/dKSPHTJaFi1enor1mVxFAAAEEEIgOAYL16DgOtAIBBBBAAIGoE9iwabsMHjFO5sxfGnVto0EIIIAAAgikdAGC9ZR+hNk/BBBAAIFUIdDr/eEy6tspybKvvy9YLq/0GiTbd+5JlvqpFAEEEEAAgZQoQLCeEo8q+4QAAgggkKoEzp0/L1Onz5flq/5Jlv1e89cGmTVnkRw+cixZ6qdSBBBAAAEEUqIAwXpKPKrsEwIIIIBAQIETJ07Kpi075dy5cwHzeFYcOHhYdu/Z73kb93PHzr1y8NCRuPf+Xuw/4H9b77ynTp222nL2bPC2nDlzVjZu3i4nzTa+6YgJkjVgD5ZCafex4ydk2/bdct6UlyZNmmBFWusPHT4aNJ+2X5+BD6WdQQsjAwIIIIAAAqlAIH0q2Ed2EQEEEEAgFQt8PfZnGTFqonTv9IRM+GmWLFq6RjQ4zpwpozRvfLs81uzuOB1P3o/feVGGj5xoPautQeuPo/tKtqyZ5bsfZsg480+DTk0lihWSl154QkpeUTSujKkz5suESb/KylXrrMD00lw55aHG9aVRg7qSNu2Fa+Q7d++Tvp98JX+agds0+M6YMYM80OBmafnovZIu3YU8nrZ82LuTjJs4U2bO+VOOHz9plfHUY/dKswdut+r8+NMxMumXudbrufOXSf0H2lmv3+jWWqpcV9Z6HUq7N23ZIR8O/FqWLv9bTp85I5fkzC7XXVPa2j7Q/3bt3i9tOr0lelFD09Pte0umTBmkVMli8uFbnaxlmueDT0bJ4mVrrfbnzJFNqlUuLx3aNpesWTJbefgfAggggAACCCQUSPeaSQkXswQBBBBAAIGUIbBk+V8yf+FKmf7rQtE72XfWqyGlryouf6/bLAtMsJzTBKVlS5WwdtaTd/Gyv2TN3xukdvVKUvX6slLzhmvku++nS79B31j57r37JsltgvDlK/+RabMWSsM761gBtwamHbt9YALwU/LgffWketUKsmXbLnP3fIept6YVaGtg2+F/78uK1f9KxXJXSb2bbrDyzF+4wrqTfW3FUvHaMv23hdbFgdrVr5WsWbPIjl175U9zweHmOlWsgHqXufN/6tQZK0++vJdKjaoVpfjlhUTLuSz3JSG1e9/+Q/L8/96Tv/7ZJKWvLi71b6kuadKmkdnzllhtKWN8NMD2TRrU63Pquk9Hj52w6i51VTG5sngRq36r3K7vyco1/8oN15eXenVvkGPmgsPcP5bJCnMx4+Ybq0j6dOl8i+U9AggggAACqV5g74Ejwp31VP8xAAABBBBIHQLVqpSXVzq3lGzZslg7rHeNX3rzE/nmu5/lfhN8e3f51jvnfXt3lEoVrrbyakDaf/BoyXVJDvlmWE/JnDmTtVzvWPczd6PH/zhLHn7wDpky/XfrrvSD994ad+e7ccNb5fiJE5I+/YWg9JOh31ld31u3uD8uT4uH7pFGj74oo8f9YpWTIcN/v57z580tb732rOhPTd3fGGCC6KWmh8BqubxIfrn79lpydcnLrV4Aeoe/a/vHrHz6v1Db/cnQb0W7yN9U6zp5/X9Px23/lRmwbuDwsXHvfV+oh9b3vx4fi16oePyhu+XqKy+Py6bl6sWKe++6STo808xa/kiTO6TLqx/JH4tWyhjdX/OehAACCCCAAAIJBXhmPaEJSxBAAAEEUqBA7WqV4gJ13b2q15ezAmjtkr53/8F4e9zgjtpxgbquWLbiH+sZbr2D7gnUdXn1i3eb163fom/lyhJFrJ8/TZ1r3U3WN9qtPXu2rNZy/d/SFX9LliyZpMEddeKWaZ4q15Y1d51PJBhRvdE9deMCdd2gfNmS1nZ79sZvc1xhXi9Cbfdyc5dbU/s2zb22FilSOH+8907fLLs44F39W6vHbaqPAtSrW9V671kft5IXCCCAAAIIIBAn8N+l+7hFvEAAAQQQQCDlC2Qyz4lrd+21/2yUXbv2SZ7cueJ22vvusC5csfpCMDvW3EmfMn1eXD7Pi917D1gvq15XTu64tYb1DPkznfpIGdOlvLG5y36L6e6tae++g1Ywrnfxn3juDWuZ53/aZVyTDmh3eZECnsUJfhbId+EO+5mzZxOs810QSru1C7vegdc795fmyuFbRKLf677q3Xp99l27xnunKsZJDVaZ7vFOBrLzLoPXCCCAAAIIpHQBgvWUfoTZPwQQQACBgAKegdFymEHP7JInMNag8yqvweQ82xQqmNd6qV3du3Z4TO66raZ8+/00+e33JdLj7SHy69zFpnv5U9bAdpoxo+nmXrfW9Z7N4/0sWOBCWfEWJvJNKO0+bkbH13Tq9JlE1uJ/M88I92qS1mdUee1JoOPMax4dwz60Mef918NSBBBAAAEEUqoAwXpKPbLsFwIIIICArYAO+qZd4LWLepFC+Wzzlit9hfz08xzr7nvrJxrZ5tWVFcqVtP7pFHEvvtJPZs7+U9Zv3GaNHp83z6Wyx9yJb3jXjVIwf56gZTnK4DN7Wyjt1oBZu6bvP3BINmzabganK+ioSu/Mepfck3SwO91X7Smgg/lddeV/I+YvWLzKGim/bOkSCQJ5z/b8RAABBBBAILUL8Mx6av8EsP8IIIBAKhHYbkZR906/zPzDelumVPF4g8t55/G8rmiCb00adOv86d5JR0T3JA3IdUA1T9IB4DRw17TTdLXXVKHslVbXb52OzTfpXOSJSQXyXWYFvRs2bYu3eSjt1rvcpS92U59tegJ4ks5D/7sZtT2UVOhib4CNJtj3ThUvPl/vsdZ1GtBPn7XAyuZpn/c2vEYAAQQQQACBCwLcWeeTgAACCCCQKgS+/GaSrF67wcwdXko2bt4hP5tnz3Nkzyrtnm4adP/1GfKWjzaUIZ9PkCfNs+b3311Xcl+aU/7+d7MpZ74M7vs/KWDuknczo6LvMc9q6zRtehFg/YZtMssE+Doo3TXlr7LqeebJB6x2fDN2qhXA61zox8y0Z9N/XWBNuabd6J0mnbv8yiuKWHewe78/wnpd3vQGKGv+BWt3YdOrQEej72x6AAz5YoL1/Lre8Z8zf6msWrs+pKao6bcTppm56X+QfeYO/blz56W5mQdeeyGsMM+l65zxOohfSdPGRUvWyPw/V8Y9zx9SBWRCAAEEEEAgFQoQrKfCg84uI4AAAqlRQOcf13nE/1yy2tp97Zb93FNNrOnPQvF4pMmdZvT49PL9pF/l08/HW5vos9g1q11j5iRPa436/lLnJ0WnK9M843+caeXRwPfVrq2sEeB1gXYN/6B3B3m3/5fWnWu9W68pz2W5xHvUdGuhn/+luzgvud4R905NzLzuvT8YIZOn/S4yTaxp4TRYD9ZuLUNHxu/+whPSd8AomThltlWsBvE6jdurvQdZ3eS96/J9fV3F0taFAR0wTqem07Y1vPNG0a7wfXt1kD4ffi4zf/tTps6Yb1240Pnru5gp37JmyexbFO8RQAABBBBA4KJAGtMd7b8HzGBBAAEEEEAghQl8OXqSfPrZeOnc7hFr4De9q54ta2YraE7sruqz7no3vLAZWC6jGVXeN504eUq2mLnac196iXUH3ne95/1pM6jbxs3bJZcZhd17NHrPeqc/j5o2ab1ZTBBctHC+BN37g7Vbu75rN36d593p8/TnzJ8T27fvlqNm+rlCBfLEm65O9+OEGchui1lfrGgByWAuepAQQAABBBBAILDA2vXbhd+WgX1YgwACCCCQkgRMMKnThSVlADUPh05zZpcyZ8pounz/N6BaoLwaFIeSL9D2vsv1IoTvNGneeYK1Wweas5s2zrss39fay0DvxgdK+ihAyYvz0AfKw3IEEEAAAQQQ+E8gfh+6/5bzCgEEEEAAAQQQQAABBBBAAAEEkkmAYD2Z4KkWAQQQQAABBBBAAAEEEEAAgUACPLMeSIblCCCAAAIpQuD48ZNyzDxHnS1bFtHu6SQEEEAAAQQQQCDaBXhmPdqPEO1DAAEEEEiyQJYsmeJGYk9yYRSAAAIIIIAAAgi4JEA3eJegqQYBBBBAAAEEEEAAAQQQQACBUAUI1kOVIh8CCCCAAAIIIIAAAggggAACLgkQrLsETTUIIIAAAggggAACCCCAAAIIhCpAsB6qFPkQQAABBBBAAAEEEEAAAQQQcEmAYN0laKpBAAEEEEAAAQQQQAABBBBAIFQBgvVQpciHAAIIIIAAAggggAACCCCAgEsC6V2qh2oQQAABBKJQ4Pw506jz8RuWJl389ynlndN9PX34vKTPlkbScFk7pXwEwrIfTj9HYamUQhBAAAEEUqUAwXqqPOzsNAIIIHBBYF7HA7Jlyol4HA3n55OMOVNehDrz0X2y589TcfuaNkMaabQsf9x7zwvNs6LvEdltfmbOk1ZKPJBVyrfL7lnNz1QukOA7k0ak8aoCqVyF3UcAAQQQiIQAwXokVCkTAQQQCLPAmePn5cRuvQ3+X8p0aRrJkCNwUK35dTvvlK1IOu4Ue4P4eb307cOyb9lpa40arv7kiBSpl0lylcngJ3dkF3HcI+tL6QgggAACCESzAMF6NB8d2oYAAghcFNg195TMeXZ/PI+KL+SQUk9mi7fM8+bg2jMyreleOXsifrBepeclUvz+LJ5s/PQROH3kfFyg7r1q+6yTyRKsc9y9jwKvEUAAAQQQSF0CgW/JpC4H9hYBBBBIMQKnD5+Tue32JwjU81yfUYo1JFD/P3vnAR9Hcf3xJ7nJliX3Aja9GRubjsH0llADCQFCTwVCgISEmpBAKAFSaAFCIAUI4R8gJCH00KvpNmCK6WCwcZdlyZKL7P/8Vl5pb2/vbk93J62k7/t8pG2zU74zu7dv5s2bbBXdq3+ZDRyTPoI+dJve2W5LxDXqPRHVQCYgAAEIQAACRSOAsl40lEQEAQhAIAEE3ED6C2cssrpPm1Iy03d4ue1w5UDrqs7jUgpb4MHYkyut78hmL3vlzv5srX0rbFjSlXXqvcBa53YIQAACEIBA8ghgBp+8OiFHEIAABNpM4K3r6kwm20GRwrnDVYM8Z2nB8+xHExi1Z4WtuXuF1byz3CrX7GG9Bya/X5t6j65LzkIAAhCAAAQ6MwGU9c5ce+QdAhCAQIDAF08tNSltYdnip9U2ZIt00+5wOI5bCWi5tkFjOwcz6r213tiDAAQgAAEIdCUCKOtdqTYpCwQg0G0J1M9o8szfvTWgAxTWPbivbXBEv8CZwnflobz2vRW2yP1pWzdjhfUZVG7VG/W0ARv3shHbu/ndbjmrKJn36jJrCnior9qgp/VbbXIeDL/KWfHPeT7VQqDPkPLI+eTB++a+tMxmP7vUFn/SZGUuD/LgPnh8Lxu2XW8rj6l717yzwpbOT51GMHz7PhmnEBTCI5j3tuwXWu9tzfuSWU22+MMVKVmu3qiXabpFWMI8tYLB4AnplSFniClL6/Uus2HbZvYVIE/9Mx5osMUfNVnD7CZvZYR+zhJi2DauDe7YJ5yNjMcrXTFmPdFoC6ctt/qZbgWF+pVWtV5PGzSulw3ZvJcpzraI14ZfcEsFrmp18igrDcUbJW2ti6i4OAcBCEAAAl2DAMp616hHSgEBCHRjAlJynju1xpbVpi7tppHhrc6vLhqZJV802fQb6+2juxqsaWmrAhJOYLhT1re7bGCk4vbyz2pt8cetSl61U9a/fO/QcBRe/E99N9X7vczTJ10zMC2sTtQ55fzFs2ts/tTmJdf8QDMeaF5DfuhWvW15XSofP0x4+/b1dbHWni8Gj3Da+RwXUu+F5n2OU0JfOmdRSnY3PbG/bfbD9PXoXzijxmrfb63z3tXl9pXJw9OWEJw92a14cFJqne9282CvoyWY0Iolq2zqr2rtk/822srl6e3wbRdY7Wq7Xw/Iah2hjq3pf663d2+ud50z4bbR3FEkHw8bHVNp407tbz37ZuiBCmYusP/aZbX23t+WBM6YVbgOp/0eGWY9KlrjKrQuUhLgAAIQgAAEuhQBlPUuVZ0UBgIQ6I4EXjmv1ptfHSy7RvB2uHqg9ejTqhQEr+e7P+XCWvvwjiWmUchcMuf5ZfbwV+fZPvcNzTnfe3l9urLlxZ/hdFTaWhP96RMW2rKasMLVGloj+sWUUvHIJ49trfdi5H24s1QISxTjpQtWWu0HqY1GnUryBxCeZjA/VEeaijBgTOpnSv3nTfbMiQtTlP9wPnSsNJ84ZoHtfMMg0yoIYVG+Jp9WY3NfzN4uNDr+7k31tvCt5aaOg7jy8X8a0hT1cmcp4D2TAUW9GHURN0+EgwAEIACBzkcg3V6t85WBHEMAAhDotgTev22JG2FsSCm/lJztfzvAKke1zXw3JbLVB4vcyGgcRd2/V8qQRi1LLcsXO6uCHzqrgiyKeiny0NE8Cqn3YuRdpuH9105tX+o0CbcRTUuwiI6XuTIPD8m8KalWEQM26WUahfdl5TJX1yenjtL716K2GoF/0Y3+h61ApIBPdm0ml6IejHODw+NPJVnwxnJ79fza4O3e/jYXVpssPIJSjLoIxsc+BCAAAQh0LQKtv4Jdq1yUBgIQgECXJzBvyjJ77ZJ0pUDztPOZsxsH1ISfVKUEG7BxT2ce3M+2uWiAbf3Lahu0Wfo83PduXWJa+7uU8sYVi63BmeeHpXrDnjb2B/1t/GlVNnKn+POXw/FkOu5IHoXWe7HyPmJSKleZ5de4EeigyFw+SsLnpYhLyQ3K8Impiu20q+rSLEh69iuzCadX2R63DbGd/pA+iq45/R/entqZ9ea1dTb35fR8yUR9o2MrbatfVHtb3+x9/cP62Vr7VQSzlnG/0ZnTa0pKuINg0xMqbZ2v9E27r1h1kRYxJyAAAQhAoEsQSLUv6xJFohAQgAAEugeBmY+mOmDzS73wzeUmk+TwKJ5/vS1bOQSTwlL3cZOnBK+5R6qiJkd2D+43z2Sm7IuUNzmhK2Y+/Li1VfyfOHPjsKyxWx/b4Qo3BWC1ufGY4yvt80caTfPlw/P6w/fGPe5IHoXWe7HyLt8EH/wjdU62OhKCzuMyjV7LkZxGuDUnXLLwTWe54RT2oASVdTlf++D21LR69S+zPe8cYlXrtn7KjNy5jz1+9PwU3wWq+42ObR4ZV5t533UihUWrJWh5w6CDvA2P6mcf3bnExp6cPg8/fL+OZVWgEftw59GovSvcXP7Uzi7//mLVhR8fWwhAAAIQ6FoEGFnvWvVJaSAAAQh4BKZctNjCnuELRbP97wbaXncNsbCirng1Hzfq/JKA8l5o+uH7Zz621KTEBUUK3HaXDWhR1P1ro/aq8LzV+8fF2CaNh8oUt96LkXcp65pyEZT5r7aOjstpW3i+uh92ed0qp6C3hg3Pd5cSP3Sb1pH1zx5sdF7aU+t6whlVKYq64tZ9Y45PVa4Vt++IboaLJ2ztoRH0SdekKuqKS2b+451FSVy/D1Mvrk3xZq84NC9/onN0l2l1BIUpRl0oHgQCEIAABLoegdbu6K5XNkoEAQhAoNsSqHl7uTcquH4ec23zhaXlu+a7ecYaTV3sHHqFPbErvuBIe77x5wofVPb8sCpvcJ6zf749th3NQ2Vsa723Je+9B7il9NyUi2A9BJVub756APwau/SxWU+1WoPIFN4fhVcbCoqUXHW8+DL/tVbF3j8ni43wKLauVQxN7UHQCL7M07VE4IKIeDTqLhP4QuRDNwIftjKoGFZuO17XauERN/621EXcuAkHAQhAAAKdiwDKeueqL3ILAQhAIJKAlB45+ArKG1fW2eh9KkxKVbFEjtw+cHOA5Rl+ycxWk/dM8WsEtVTS4NbZDsvgiLnz4TDFPO5oHoXUezHyPmKH3inKeuO8lVb3aZM3Kj0n5GldHSlhZX3M9yq96giOyOvEsJC3+Sil/KED58WuSjk8lLKuZdLCMnz71Ckd4es5j10Tn3Lh4rRg8pXQd0SqE760QKtPFKMuMsXNeQhAAAIQ6LwEivcF13kZkHMIQAACnZrAhkf38xxsyelbUKQAyClXseS9W+rt3t3n2rQrF8dS1IuVbqZ4ls5LV7z6rhFPOcoUZz7nO5pHIfVerLwP3yFd0Z2/epQ8OF+9r1OUR7qR9aBJuZZq0zzvxR+vsKULUztegvPVVSeNER0z+dSVH7ZxTmo6Ol85uvA245vZ++lo++m9jRmnAQTDFasugnGyDwEIQAACXYMAynrXqEdKAQEIdFMCGoHc4uxqb67uFudUp1HQCHjNO6nrXKcFinHirevqbOoliz2nbuHg/dfpYWvvX2HrHxp/eatwHG05Lu/Vaibt37+qqXQj+X4a2nY0j0LqvZh5H7pVL89fQZCNvLqH11cf4iw/yl1f0sCxrR1K8jew0IXVX1AULjhfXdfKWm8LBo29XzG4+XMnKp6VK0rTZqTAv/zzRZFL1/kZL2Zd+HGyhQAEIACBrkOgwJ+/rgOCkkAAAhDobAT6uVFkeT33PWrL4deae/axoLdwzdedclGt7X7r4DYXT2bNb1+fvmb66C9X2CbfrmyZd6y5y5q7G5SydH06eNlWOYWmrdIvYh35qJHTtsaf6b5S8siUZvB8IfVe7LzL474U9jnPt845X+iWbwvOXVfeh27d7CxumNvKz4EvWkJNFiBBGTS+l/nLpvnn+w7X6HfrfTq//eUDTUu3xZGKYc2j5329bWo89a59Bz3Kx4kvbhiVVXPZNzgivSOr2HURN0+EgwAEIACBzkMAZb3z1BU5hQAEIJBCQApAn9Ujhv6Fzc+sti+emtfi/VrntUzWp/c1eqPffrh8tnMmL02JT/fKBHvLn6WP5OeK1+9Y8MMtlaImfT2kc62MMUIeZb4sp2aap19KKSaPtuSzkHovRd5HOFP4oLK+yFlyzHs5VSEetl0vr6iyCHjnT60dP/Ocsh4e2R4+Md20vu+IdEPAHm4FgjV2TQ+bjWlUPHo2ZKJfqIzYsY9tfmaVPXKIe/4CxixvXL7YWykhPH+9FHVRaBm4HwIQgAAEkkUg/dcvWfkjNxCAAAQgkIFAeNksBdNyU/6a0sHbXv/N4rRlzoLXs+1HLb+17lf7pt0i0+dcElzHWmE18l/zTqpip/W2XzzTmQ/nkChl/eO7GyzKqZ3yFuWkLEcSkZeLySMygRwnC6n3UuRdFh1BkXm7lkjzpVdVuQ3YuFlZlwf3YIeNVhAIT9MIz1dXPFKEw/L6b/Nv0yMmpcfz6b0Ntmh6QLsOJKT2GTUfPRDE2x04pqdNumqgK2dP2/CYZqd5fhi1xygHdKWoCz9NthCAAAQg0DUIoKx3jXqkFBCAAARaCGx6Yv+0pagaZjtT9j+kO5sLKk5+BA2zUpXusvLQsLcLOPuZVrNn3ffxfxrsuVNr/CgybuVoLCzyWt/U2GwOX/dJkz17co3NerJ1ia9weP942La908ygtRb3MycstGW1rWWQMvjoYfOLtoxcMXn4ZSnGNk69lyLvg8a5ZdacQh4UtTdfhm7dq2U99p6VZabwvqiegp085W60fMgWrdf9cFr2Lby8mhzTTf5hjTVEOI2rfX+FvXJ+rWn+fFBGupH4sDXKKtdUnvz2Ags6xNM9Wlruwf3n2rMn5W7XO10/yFQ2ybgfuOcvtHzc54822ucPt3ZgKFwp6kLxIhCAAAQg0HUIYAbfdeqSkkAAAhDwCGh96s1+VNXs3CrA5N2blth6X+/njb77p5vn8PpHzdsXzqqxDdwyW/482+qN0n8q3ry2zuY68/oezslb3YwVtujdDCOToSnpAyLi+sKtvX3PLnOth7Nez8frd59B5Z45/js3tJpVqwSaL33/nnNt4JhenpfxqBHM1BLnd1RMHvmlnD10nHovRd7V4aPR8M8fSVVG/dyqUyUoOg4vM+hflyM6zYMPi9IY65TgVy+oTbn0xdNL7cH95trovStMjg41il3j5szP1hx61/aktAf9Nch53aYnVHrOEoMRqcPgyW8t8EbG+63Zw7tPc8ol6kCa8UCjrbVvhukVLrtBE3cp7RPOqLIXz0q1DpHvCC0T16uquXylqItgmdiHAAQgAIHOTyC1K7zzl4cSQAACEICAI7Du1/rawE1TRyhlzjv1V6nKTv9100e6ZRL84R0NLRyHu3nGGvEMikzVpWRrxDCToh4M7+/LfD5KGVu+eGVeirofnxzcSUkNi5Q2OS8rtqKudIrJI5zvQo9z1Xup8j5iUqpCHixHmrIeWkM9JaxT+jOJOo9GOaU8LLKmkGWHlimc/ud6mz25WVFXOPlrmPl4qpXGRs5MPWqOukbYZYUx87Gl3lrxwXSmXlIbyxzev2edA/vakC1Tnz9ZAGj+ui+lqgs/frYQgAAEIND5CaCsd/46pAQQgAAE0ghoXvMWP61KOy/z8qCJuZZci/KoXfvhCm8+uSKoXKuHZ9qbFlnohObrVkZ4aA8G6z2w3DZyzulyiZaBG3dy/1zBrPeActv5xsEWngufdqPT5we7UdtiSDF5FCM/wThy1Xup8h6et+7nyTN7H5vKPTxv3Q+rbdR89eD1ib8Z4KxD0v0lBMME99W2VywJmXe4tqBVFDKOlAcj0L4L7zmyy7W0QfA+d89WP3dLKoa+sj64fUmLp/xS1UUwG+xDAAIQgEDnJhD6GenchSH3EIAABLoTgT5Dsr/Ch23TO9IzenB5Nc01nvgbtwTW6vm2Pj+NnC+Z2TrveMz3Km2rX1SnhVN4KcpjT+pve/1ziI3aK3XkMzx3V+HH/6TKJpxeleJoTOclUr43P6vKtr6gOsVcX9cylVdznPe6a6jnhCxqDn71hj1t5z8Osh2uHKhoWiQ8B9q/ED4vNj36OO0rIMXkEYg21m4mDv7Nueq9FHmvWq+nRfkjiFLMZQkxKKTAK++yuBiyeapi75fJ36oetrlwgO14zSBnUu5G4VOrxQ/mzUvXHP79Hx0WuQqClHgt/bbdZQMyd+K4uDU6vuftQ7w0ZUIvCbeP8HFzKLemvLNsWf+wUMeU6zd4/9bW5Q1LURd++mwhAAEIQKDzEyhb5aTzF4MSQAACEIBAIQSWLlxpWiddJsUyIZendSl9YeVX1xZNX+6ZrOvXY7BbEzvKK3ucvGjEUyb3DXObvNFPzfsd6pSjKDP5OPEpTNNSN2fZmTI3zmky5U/reudSbuPGHRWumDyi4i/luc6cd5+LPPzXftRkDbOarKfrBOhdXW7qnInqJPLvidpqfnqdc1i3bNFKK+tZZpq3Lv8KUVYnUfcXeq4r1EWhDLgfAhCAAARSCUz/aJahrKcy4QgCEIAABCAAAQhAAAIQgAAEINChBKSsZ7eh7NDskTgEIAABCEAAAhCAAAQgAAEIQKB7EkBZ7571TqkhAAEIQAACEIAABCAAAQhAIMEEUNYTXDlkDQIQgAAEIAABCEAAAhCAAAS6JwGU9e5Z75QaAhCAAAQgAAEIQAACEIAABBJMAGU9wZVD1iAAAQhAAAIQgAAEIAABCECgexJAWe+e9U6pIQABCEAAAhCAAAQgAAEIQCDBBFDWE1w5ZA0CEIAABCAAAQhAAAIQgAAEuicBlPXuWe+UGgIQgAAEIAABCEAAAhCAAAQSTABlPcGVQ9YgAAEIQAACEIAABCAAAQhAoHsSQFnvnvVOqSEAAQhAAAIQgAAEIAABCEAgwQRQ1hNcOWQNAhCAAAQgAAEIQAACEIAABLonAZT17lnvlBoCEIAABCAAAQhAAAIQgAAEEkwAZT3BlUPWIAABCEAAAhCAAAQgAAEIQKB7EkBZ7571TqkhAAEIQAACEIAABCAAAQhAIMEEUNYTXDlkDQIQgAAEIAABCEAAAhCAAAS6JwGU9e5Z75QaAhCAAAQgAAEIQAACEIAABBJMAGU9wZVD1iAAAQhAAAIQgAAEIAABCECgexJAWe+e9U6pIQABCEAAAhCAAAQgAAEIQCDBBFDWE1w5ZA0CEIAABCAAAQhAAAIQgAAEuicBlPXuWe+UGgIQgAAEIAABCEAAAhCAAAQSTABlPcGVQ9YgAAEIQAACEIAABCAAAQhAoHsSQFnvnvVOqSEAAQhAAAIQgAAEIAABCEAgwQRQ1hNcOWQNAhCAAAQgAAEIQAACEIAABLonAZT17lnvlBoCEIAABCAAAQhAAAIQgAAEEkwAZT3BlUPWIAABCEAAAhCAAAQgAAEIQKB7EkBZ7571TqkhAAEIQAACEIAABCAAAQhAIMEEUNYTXDlkDQIQgAAEIAABCEAAAhCAAAS6JwGU9e5Z75QaAhCAAAQgAAEIQAACEIAABBJMAGU9wZVD1iAAAQhAAAIQgAAEIAABCECgexJAWe+e9U6pIQABCEAAAhCAAAQgAAEIQCDBBFDWE1w5ZA0CEIAABCAAAQhAAAIQgAAEuicBlPXuWe+UGgIQgAAEIAABCEAAAhCAAAQSTABlPcGVQ9YgAAEIQAACEIAABCAAAQhAoHsSQFnvnvVOqSEAAQhAAAIQgAAEIAABCEAgwQRQ1hNcOWQNAhCAAAQgAAEIQAACEIAABLonAZT17lnvlBoCEIAABCAAAQhAAAIQgAAEEkwAZT3BlUPWIAABCEAAAhCAAAQgAAEIQKB7EkBZ7571TqkhAAEIQAACEIAABCAAAQhAIMEEUNYTXDlkDQIQgAAEIAABCEAAAhCAAAS6JwGU9e5Z75QaAhCAAAQgAAEIQAACEIAABBJMAGU9wZVD1iAAAQhAAAIQgAAEIAABCECgexJAWe+e9U6pIQABCEAAAhCAAAQgAAEIQCDBBFDWE1w5ZA0CEIAABCAAAQhAAAIQgAAEuicBlPXuWe+UGgIQgAAEIAABCEAAAhCAAAQSTKBngvNG1iDQ6QgsW7bcysrKrFcvHq24lZcvs/r6Bqus7Bs3+g4LN+3tD+zBRybbwppaW3v0SDvhW1/LKy//d9f/rE/vXva1A3fP675sgTsLu2xl6MhrhdTpux98ai+9+pZN3GYz23C90R1ZjJKlXYo2q8x2lnbbGdqH3rd3/OcRe/f9T623e78cvP+uttmmG8RuE1F1HHUudoQFBMz3t6OApLgVAhCAQIcRYGS9w9CTcFcjULu43r52zJn29ePOtvoljV2teCUpT77M/nTL3bbfYT+yW+94oCT5KVakc+cttFPP+q3d8+DT9qJT0F6a8lbeUf/ZlfXvdzyY932Zbugs7DLlv6PPF1qnL77ypt1w07/tnekfdXRRSpZ+sdusMtpZ2m1naR+/v+EOu/Hm/9jTk6fa40+/bItq6/JqD1F1HHUur0jbEDjf3442JMEtEIAABBJBgOG/RFQDmegKBBoal3ojQGXlZbZ06TKr7FfRFYpV0jJkYjb5pTfsgYefs+9/5xBbY8TQljwsWLjI2583v6blXBJ3nn95mjU1rbRDvrKHnfy9Q117WB6ZzUzljAxc4MnOwq7AYpbs9rh1WrIMdPGIf3X5X23dtde0I7/+5ZSSdpZ2G7d9tOcznwLSHaxatcqee+F1q6joY7f84TwbNLDaevbsEQ7WKY4z/XZ0isyTSQhAAAJ5EEBZzwMWQSGQjcCIYYPt73+6yJnBmw0eVJ0tKNdWE8jE7J13P7Ynn33Vjj58X6est+I67aQj7cB9d7EN10+2GfGrr73jZXrXHbey8vJy69u3T2shAnuZyhkIUrTdzsKuaAUuckRx67TIyXaL6FY6JfLhx16w7bcb78qbqqx3lnYbt3205zMfbjwzPp9t8xbU2JYTNrERw4eEL3eq40y/HZ2qEGQWAhCAQAwCmMHHgEQQCMQlsObIoSkjwVH3zV+wyObMXRh1Keu5mkWLTaaWYdG8vU8/m+2N5IavBY/1Qaxwjc4CIJNoxFrmhblEaX70yUxbXLckV1DverYyRzHLlAf5Ath043WtV8/ofsYVK5pMH6QqaxxR+E9mzLKlrjz5SK50Gp1lhaSqf7+s0WYqZ8tNruPHl2wM/TDZ2kIudoojUxvz49fWb0dKqxjix5etXcYJ88Xs+TlNehfWRD9Dfjn8dKLKFrdO/bgK3fp5ycYlVzsM52HmF/Mi2/pnM+fYkobcU3eUF71DVq5cGY461nGmOqpz7xGVN0pytdt8GcR5jqLykevdGLd95H7mmx96WeZ8+tkXkfUVzF+2Zz4YTvtx8pirnOE44xyXIk6lG/XbEc5PnPoWw3x+z4JpqD5nzZ4XPJW2X6ryR72v/fdG1DvMz1g+bca/hy0EINBxBKK/eDsuP6QMgU5N4MDgrw4rAABAAElEQVRv/NiGDB5gN113Xks5dG4HN2K05y7b2rV/+qenHOrieuusaZeed7KNHBE9wvGPf/3PbrrtXrv2N2faX/9+rz37wmueGeN9d1zpmdjPnrvArvzD/9krU972PujkLOjrzuz6u8cebD16tPbDSUFROI386MNCI70aWTn9lKO9jx3l5a7/PmZ33/+Ul7dyZxqw0YZr21GH7mMaGQ5KXf0Su/h3f7WXXnnLlq9YYQrbp6J3S5ALzjnBttt6nOVT5iAzdWJ8/yeXekqjIj3hR5dYnz69bJMN17GrLv2J+UzOOOUY23PXbVvS1X1X/OE2m/L6dGtoWGrVVZW2vXPkddoPjrR+fVunI/j3X3XJT+zf9z5hTzz7ihdeTI4/7mA7ImSC25LA6p1c6UiJOfSb53hO5XTLd065yMv/1ZedbhtvsHZLdLnK6QdUp8QLzqT+uj//0z7+dJZ3OqrdxGkLftmD7PxzmdqYnw9tFyystT/f+l979vmprnyLvTa2zRab2snHH+Y50FNH0jEnnuc6U9azK351WsutYiI/A+uutYZdf8U5LefjtMs4Ye6653H7t/tTJ41EfM49/dvO+mKtlrQefvwFu/uBp+zNtz7wlEKZ/6p9H/KV3b3nIVvZRq85PGOd3vvQM/a/x563i889ybbeYkxLejf/3332f3c95PLxHdtp+81bzsfZiVPmXO3QT8d/Dnfafgv37rnTpCzrPaF30dmnHWf3/+9Z7x2j9iPHmF89YDf74Ynf8G9ved5+9pNvu/fDk947REpkRZ/eduShX7bjjjigJWy2nWx1dO2Nd9oDjzzn3S4T7X2+fqq3f+FPT7Rttxrbkodgu1WAfBnk+/71MuH+5Xo3FvuZX758hV165c325DOveh0omd5NcZ55vwza3v6vh+2Wf9zvnXrquSke5+22GmcX/PQE71yucnqB8vyXK079nhzm3pd6Hv9+44Utseu37sLf/NnGjVnffnfRj1rO3+t8gFzj2rHa6L57TfJ+Zwr5vY37e9aSgcCOpmnddc9j9sGHn3nvlAHV/e24Iw+wr7lnSM+SJFf5Feby626L/Q7J9r7W1Lts72elFafNTH3jXffb+Lg3hWvCuI10GwIBCHQwgdYv+g7OCMlDoCsQkKK4eHHqaLPO6ePo7POvsf7Oi/kB++zstv28nvwbb/lPxmJrxEj3nn/pjfb8y2/YLpO2tEMP3tNT1NWjfvq5V3rzD8e6D5pjDt/P9LFw2z8fch9k97XEKedBp/30cnvimVdsDTfqf+w39rPddtrKpjjF/eNPZ3rh7vj3I3b1H293o+T1zQrMQXt4Izq/vOxGe+b511ri0s6Pf9qc5qSJEzxlf8JmG3l5HDSgyg7eb1cbParZZj2fMgeZ9e7d0/tA96cR7LDteJffrW3zzTb28uEzaQiMAkrRUhn1ob/VhDH27aO/4s19/Z9T0MQ8OGru33/az65wZZtqu07ayvRBog/uPzrnXxo1zCSx0nEfaVIw9AEp2dFxUv6DHQY6n6ucCiPRiM1ZrgyV/TK3m7htwS97kJ1/LqqNNeeg9f9Nt91j+ljWB/RpJx1h++29o73i2tEnM77wAmlgVHWpj8ag+OdrA1YYcdplnDD6GL76+n94I+qHf21v23mHLewT16nxw7MvN32IS6TUXXblLfa5Gz0+9oj9PT8IAwf0t0eefNHVe/NobtayZalTKVYqs9pPUPzzQdbB65n245Q5VjtcnYDy9uSzU+wXv/qj65gbZnvsso2XVynHPzz7d/brq/9mGzjP9DtO3NykXvzLdXrIY70vfvs496I/eO8rrUzgr07wl1vvccrK437QjNtcdbTO2mt4z6AiGD5skPe86JkZ4OpI4uchyDJfBm15/yrtWO/GLO1DcfgS95lXx+ozzvmb3veZ3k1xn3k/bW3XXGOoe482K18jnAm8GI8ds54XJFY5g5HF2I8Tp34H9Zshyw79+fKi6wxW25XiqK0vL099xzses9G63ildK+T3Nu7vmZ++v1XH9mVX3WIzZ821vfeY6P3+aqrTI+43R34BJHHKr3D+uyLOO8R/FqLe11nfYS6duG3mr3+/x30vvGq33fmQsodAAAIJIMDIegIqgSx0fQJLG5fZid8+xKRQSL7qlsvRqOvLblQ8l2jE8MpLfmxbjG9WWBX+D3++y1MsT3TLgfmjwd866kA75NgzvY+Eow/b11s+7g9/ucv7yJYSc+HPTmzp8f/ecV/1RtWlwGjETUuEadRT8wAlu+64tZ18xq+90Y37br/Cc0Kkj6np739i67gRUn80Zu/dtrODjjrDKUYNXvm8m1f/a0uZBzql/+wfHWfnXHCtp2R986gDUkakg/H7+39wo87K28H77+YpkTp/jJvrftZ51zhP7G/ana4zQnPfg6JyXnr+yS3l/dmF13kdE6++9rYbJQ5Mkg/cFDedYP7VcbD+uqMCsTTvxi2nLBdytZu4bSEtE4ETUW0scNn7AL3/f895nQ5qRxrtk3zPWSOokyhfydUuFV+uMOrIkGdrsbz9Lxd7TrN0nxRIKfD/ue9J03Pw0GOTPSuQww7eq+VZOfSgvayhsdFr1/q4zlW2OHWqtAuVXGVW/HHboZ+XZa7z5BRn/SBnhxKfz5tvf2g/P+M7LRYqst7Q6KueGXU4BWX7bTezX5zx3ZYlE7fafIxJgb/dLS8YHEkM3qP9uHW0sbPk0WiqrCHEOpfky6At76J83o1x2kfcZ17vi1zvprY88zvvsKU3T12cN3G8fc75lDNXvfjX84lTo/vT3/vEs9qQFYvklalve8+1FMwpb0y3SdtN8M5PdfvqCJX1TDaJU9/5/p756ck65Qo3Gi7HfL+98Ieuw2N975IsTWRerndjPuX3481nG35fx3mHxW0z6rh7x9XHts5CDoEABJJBgJH1ZNQDuejiBAYPGtCiqKuo+iDTaKtG0tRbnk2+su/OKYq6wr427T3PadlXnLM1X2T6vu2WYz3TSX8OncJJzjj1mBZFXcea6yd5w60FLtlCDodWK+o6Hj92Ay+M5qi+9+EMnfKUfm390Rjty6uwyiLzeq2FHJRCyhyMJ9f+62+97wXZZ68dWoLqg2nv3bfzjv3rLRfdziFuhDBY3s3Gbuhdnje/2dt8MKy/78eTTzr+vW3dxmEYty1ky0NUGwuGl1mn6lnzmjXy4s9vbouirnhztcs4YV6f9r7XiXDQfru0KOq6bwc3/UHywUefeVuNHEvud2arb77zobevZ0WjepJil82LtI3/4nDJtx2qDfmKurK12abNysX6641qUdSbzzevtT0/4hnY2ZnRVzqrIF801UXKisxq569eocG/FtzGraPgPXH228LA7yhV/HHev/m8G+PkOW6YOO+mYjzzfn5KUc584txu6+aOoVdfm+5lSW1Kyug3XMe23uN+h7bmlGuKyNZu6k0uifPeVHySuL9nfppqe1KOD3QWcr6irmv6PVeHjCSf8ns35Pkv/L6O8w6L22YO++pe9uA/r/J+I/PMFsEhAIESEWBkvURgiRYC2QjoI2TY0EHeHPEmZ0Lb0zIvnxOc66w45TBHyrh+oL99Sus8P12TeahE84eljMhMT0ufZVKqprk5vJKJqxUc72D1v+223syNTj5hCiOnbptusq535fmXmpclk8Kj9OTdeO3RI1M+5oPx+Pv5lNm/J9dWLDTSofJtstE6KcG3dSM2YvSWU9D0caX9TDJyeLNFwYqm6I6TYqWTKf2458MMFy2oi9UWVD/ZJNzGosJqdPbnv7rem/f6z7sfM3VafOOQL6V0ekTdFz6nNpOrXcYJM211R5NMtx9y88bDMnf18n4audP8Vpl+n/STy7y2fKgbZQ/6PChW2cJ5yOc4TpmL0Q6DSyEG8+f7zpAvilwiS5wN1h3tWdrMmbPAhg4eGHlL3DqKvDnDyWIwCD9HUe/ffN6NGbJalNPhd5PKH+f9n+uZ9zNXinLmE+fYTdb3pnZp1FwiHyySHV0H0WNPvdyirMskXiI/GflKVH239ffsjTebO4d9U/yovORT/qj7c52Lel9ne4fl22ay/VbmyhvXIQCB4hNAWS8+U2KEQEkJyMGTpLfzjL67m3cYJWu4+an+R3e/LOu9q6NA0itirV1//d2mlc0KrD7INZL/X+eo61jnSEymslpeTYqweuM7QnwWyqtMxoOizgSdURjNIky9GgyZe7+90smdk9QQfr5ytYXUu9p2NH7chnbrDRfYPQ8+Y3c7E3Mpyf9zy23JZFeWGHElTruME8bvWFEnzUYBZ3J+PtZcY5i3q7YhZ2r7f2lH++d/H7Wn3XzgC379J8+PxC/POd4LU6yy+Wm3ZRunzH59l7q9x8m/TJQlVc6ZYyaJW0eZ7o86314M8nk3RuWzVOf88hfrmS9FOfOJU21Z0yr0XGq0+2VnAj90yEBvOpKcNv6fm2qhzmc5D5VsvWWrI8dCGLf196z1Oe2TMfl8yp8xkjwvZHuH+VZkxWozeWaN4BCAQIEEUNYLBMjtEGhvAnLCpFF5LQdzkJv7nmmkTPmSozbNn6tf0uiNXoTzutmmG3geoTVaHjSpV7gXX5nmBVcYX6SYy5HOCDcSrbmPGl3QCGvYa7wfvtCt0ssmPgt9zL33wQzbaIO1WoK/NOUtz0uvzBzDinxLoJg7pU4nVzkzZdPPV5y2kCmOfM7LWuMIN5ouk+KbnDm8vJ7/8+5HPGVdnSOSOa4usok+HHO1yzhh5OhO3sz10a15/blEH7P6kxPBM39xtXOi9IqnHPjzX7OVLVPcPZyFjCRXmTPdHzwfp8x+fZe6vQfzFbWvJcVkrixm/jzjqHD51pHXqxYVUeBcezHI990YyGKs3aQ886UoZ75xygpKyvobzsRcSrnvM0Em71LW5chSPhbWdc4IM1lxxIIeCtSW37Oxm6xn8gQ//b1PnUPLLUMxNh/mU/5ivkMyvcN+6VZpifvNEFkgTkIAAh1KgDnrHYqfxCHQNgIaydSHhpYfC0twDvy4MRt4a+tKsQqKt966czw1fvVcbX0MLaxpNqFXuHc/+NRTarTMk5ZNk2he+n1uqaov7T7RLr/4NLvzpkvtkvN+UBJFXZ6rJfLsnUsmrC7DI0+82BJUbB578iXveIJT0IohpUgnn3JmKkPctpDp/rjn1Tnjr4Wtzo99957k3fqFM4OWDBpY5c0xlSI5b0GNd07/rrnxjpZ9fydXu1S4XGH8epXSrbmsQfFHv3ROo3VBT9NyICilXTJ7dd5zlc0LHPFPI4ASTbXwRelpSbe2SK4yK85StMNceZ01Z35KEP9ZkylxNpPZuHU00nknV5vyV6hISSzioD0Y5PNujMhixlNJe+ZLUc584/TnrWsZRE0H2XrzZlN3rTbSy1mQPfTo8947ZRvnk6VY0tbfM3VASfTbqw4rX+TN3feTkU/5i/UOyfUOi/s7oWllcjQZLJtfRrYQgEDHEOjZMcmSKgQgUAiBk77zdXt7+sfNP6pO4dBIxBI3ev7YUy95y5bJ7Fdy0ncV7iO74z+P2Gez5nhLm2lUTPN3DzlwD28Zq28ffaBpGaYTTrvUmQpP8hze6UNEH8+KRx9LEq35Xe5GTzWPsKys3NYaNdz7UNd1eYiXAlToCLaXkPu31eabuBHbRz1nZgtcJ4KW2DoywxroGlWd5pQlrUErZ1cbrj/aXnVL/Lzwypst85P9eAvZliKdfMqZKe9x20Km++Oc10iS1n5Wx80eu27jOVN68JHJ3q0TnW8DieaFamkojYx9/8eX2u47b2Nvubb3rvMsrDnOQYnTLuOE+e6xB9mfbrnbraxwofNKvrs3Yi+HiDLPv+HKc2yk89fwU7eywDw3z1dLzUm5/OjjmW4N61c8p3TKb5yyBfMe3N/SOWaUwz2N8C+qrXcOpvp7I/ZRCuzw1Q4ctRziDs67tb+8XzC+OGUuRTsM5iFq/9bbH/DeN2qvWqpPSlVV/3526gmta7LrvmHO6kcf+09PnuKNOmredK46GuU8gFc7U/oN3HMr65hLLr/J29/MKUVBB17BfLUHA3XqxH03BvOWaz9pz3y+5QzXscobPpdvnLIOk4XGG6t9qMj8XaL3hhTfV11nssQ/7x0U+K+tv2dyWHnUofvY3+980I7/4a9MDi779OltTzz9itcpqPXi8yl/Pu+QTEWO8w6L+zuhpQMnv/SGZ+Vw0bnfz5Qk5yEAgXYkgLLejrBJqusTKC9Pnxkddc4noY/6tii4Mmm74pLT7Le/v9Umv/i6pyAoTvXSB72Vy+v77y7+kV1+7d/tJbd2rdYil0hJ8cMdd8QB1qO8h939wJOe0q7r+tg49YTDbc9dttWhJzJ/l1MujXLI8VxYdM+1vz3L+/DOp8xRYbVeuj7UNWKpJWdkYn2QW8c9SmQWe+WvTvPWvdUH08NurVt5qddydWe5ZaDCa5xHxdGjR7ODP9+UOypMPumIZxzJVM5K52cgiosfZ7DdxG0L/r1t2e7u1uee+cVcbzk01YdEnTSaOnGcW7vcl5OdEzqtba+1zTU6s5ZbQ/kKt+zgNW6JtUXOMsOXOO0yTphjDt/PeSXv6flRuPGW/3jR63nacXu3brjrPFB9nuuWJ9NSX/K14LdbKQfnnf09b0pH3LJF1ameI607rvn7UlClXOi52n6b8d7yg355tZWSpudTH8KaorHPnq2rF/jh4pQ5n3aYrQ355rd+2v6x/yz457XV0lnvvv+pt6SWjjXd5JTjD/feEzr2Ze/dJtrf/nGfs6a4s8VEOFcd+fce/tW97ZIrbrIHH3WdQI+at8xeJmW9WAyCz5Gfj+A27rtR90S1j2Bc/n6mZ96/Ht769RF8NxX7mc+nnFF1HHUunzhVZq0wIAsY/Y74o806v82Wm3rKuua2bzl+E51qkaj2HXXOvyFY3/n8nvn3+9vjv/lVbzUEdXprKpBE7+xj3bvQd+Yat/z5vEP89MPbOO+wuG3G70Qc7JbIQyAAgWQQKHPmotknhSYjn+QCAhDIQGD58hWeV/mBzgw523y+Rmf2PsPN111j5JCWZavCUcpLt5QffQyHRUrGOb+81lPO9nPOupa6+OTs6HN3zx//+i9nNv+FNxIvz9vFEJlcz3Jx17vlwqTEaD5eLtFSc5+5e9ZZa6RnCZArfFuvFzOdtpQzU77jtoVM98c5L0/UjY3LPEVcH9BhUZv4bOZsq3CjTSOceXMuidMu44SR2aasS0Y5x3KavhEWxfGZWxJKyzppznyU5Cpb1D06J2drc+fVeHNqfUuUqLBi8/5HM1x7HuaNTEeF8c/FKXMx26GfbnB76x0P2I03/8db+lEO+jSqLqVEH/6ZRNMgFtct8ZZHC4fJVUfyraE66uuWwfItd8JxhI9LzcBPL9u70Q8Td5vkZz5OOaPqOOqczyNOnH7Y9toW6/ds5hfzPGu00c7SLFPHe5zyx32H5OIT5x2W7XdCbfNT95zrN1SdGwgEINCxBKZ/NMtQ1ju2DkgdAp2GgDxoP+rmgWuueliZv+Gmf3tmgRede2LLiFqnKRgZhQAEIgm0KOunHG0HuHWlEQh0FQL8nnWVmqQcEOjaBKSs42Cua9cxpYNA0QgMcSOSEjkM+/Djzz1nY3JUp/nwml8+cECVbb/t+KKlR0QQgAAEIACBUhDg96wUVIkTAhAoBQHmrJeCKnFCoAsSOOqwfewd5yzsqeemeOurywTa9zw/YdxGdu7p3yqp6XkXREqRIAABCECgAwjwe9YB0EkSAhBoEwHM4NuEjZsg0H0J1NUvsWlvfejNS17DzSXfYN3R3rrrzG/rvm2CkndNAg0NS22J8xlRWdnX80HQNUtJqbozAX7PunPtU3YIJJ8Ac9aTX0fkEAIQgAAEIAABCEAAAhCAAAS6GQHmrHezCqe4EIAABCAAAQhAAAIQgAAEINA5COBgrnPUE7mEAAQgAAEIQAACEIAABCAAgW5EAGW9G1U2RYUABCAAAQhAAAIQgAAEIACBzkEAZb1z1BO5hAAEIAABCEAAAhCAAAQgAIFuRABlvRtVNkWFAAQgAAEIQAACEIAABCAAgc5BAGW9c9QTuYQABCAAAQhAAAIQgAAEIACBbkSgZzcqK0WFQKcnsGqlK8Kq1GKU9Ug95ggCxSKwfPEq61lZZmV06xYLaaLi4X2SqOogM12QQHd6xrpTWbtgU6VICSaAsp7gyiFrEAgTeP7HNfbZQ40ppw96Ybj1rkabSoHCQUEE5r2yzKZdWWdz3bZiaLmt9/V+ttmp/QuKk5uTR+CJYxeY6tqX8l5ldsjrI/xDthCAQIEEutNvdlpZy8wOfWtkgQS5HQIQQFmnDXRpAisaVlnjXA1HR0uZ+zGpGF5uPfq4HaRTEchVt9kK03tAmfUeQAdHJkav/XqxLXh9uXdZz8/bf6iz0Xv3sYGb9sp0C+chkEZg6cKVJuuMoPQbWW7lvXnfBpl0xv2o928vZ4XTZ0j292rjvJW2Yklrm5DVTuVozMM6YxsgzxCAQPsQQFlvH86k0kEE5jy3zJ49eWHW1PWx0HdED6tat4f1X7enDZ7Qy9Y+oK+Vt8PT0bR0lS2vbf1wKe9jjJJnra3Wi3HqtjV06t7Yk/rbuFO6z0hxPu1sed2qFkU9SG3Wk0tR1oNA2M9J4K3r6uz9W5ekhNvrn0Ns0Lju2+mTz7OYAi5hB1Hv374je9i+Dwy1HhWZO2OmXFxrnz3Yah2mTtODnh9e8tJ1Fe4lB0UCEIBA4gi0gzqSuDKTIQikENA8qyWzmry/2ZOX2Qf/Z/bm1XW29fnVNnIXpz2XUD65u8FeOa+2JYWRO/exnW8Y1HLMDgSKQSCfdtarf5kNHNPLat5pHln30x+6TW9/ly0EINBGAvk8i21MosNua/iiyd69qd42PTF5HaFdmXuHVTgJQwAC7UIgu71Su2SBRCCQPAJS3p/9wUL7/NHWEYBS5LJhdmYT/VKkR5zdk0C+7WzsyZWmUTKJLEzW2rfChqGsd8/GQ6mLSiDfZ7GoibdDZO/8qd6Wzk/e71pX594OVUsSEIBABxFgZL2DwJNsxxHo6+aoVwztYauc9fnyxStNc+iaGltN0f2crVxh3qj3yB37ZDXr88O3Zdswu6ktt3FPFgK5vOPLT8GATbrXqy/fdjZqzwpbc/cKb3S9cs0e1nsg/bpZmhyXIBCbQL7PYuyIExJwRf0qe/PaOtvqF9UJyVFzNro690TBJjMQgEBRCXSvL9aioiOyzkpgo2MrbZPvVKZkf9F7K+zD25fY+39PnV+pEYKP/9NgG3yjX0r4Yh00ZHF+V6w0ulM8E06vSqvb7lT+TGVtSzuTL4dBY7vv3OJMLDkPgUIItOVZLCS9jrj3wzuW2EZH97Oq9ZPzidkduHdEXZMmBCBQegLJeZOWvqykAIGMBAZs1NO2PLfaevYrs3durE8Jt3Ba89xdLXGUMgJfXmYjdsg+j3fO88tsVVPrqP3gCQq/yhrmOC/JzrFc3cdu+D4gSmv2s0sDZ8w5vOttvaoyO+wp79F8bdH0FTbDOe6p/2yFyVNv9Xo9PYdga+zex3r2zXx/MLFli1bajPsbbfFHK2zJzJXOa7NZPzeyKodQo/bqY1raKZPUvLPCmT+2WgoM2LiXVQxrHpFd9O7qvM1oe94ypVvo+Xmvunp1vHyp2qCn9VttAu6f03aVK9qc51PrRp6PNb87KKXmIIuPWU80mtpKvaujFfUrrcrVtepoyOa9vPpSfmQ10tZ2Fi6D4hu+fR/LZrVQSNtR/OE0i9V+xOvzh12b/nCF1X3aZMsdr2qnRKgjYqD76792YZ6o9azVus4+dfhpW+faeJ9B5Vbt3ikqw4jt3UOU+bEpWbnFVDL3pWXeO2XxJ00mqxJ59B88vpcN2663e56bw3T0//Z6BtUWFr653Oa9vMxzotjTeS8Xi0GbuT/3/KiDKihJe+drZYYZDzS493OTaaS4V1W597wP28a1M2cBlk0yPl/u1afpXrOfXWZL3Jxz+axYY9cK52S1Ilt0Wa/pXfn6bxfbjtcVz/9KW94vhbwDgwUshHswHn9fv9krl62y+VNdW3S/PwvfXOFWJynz2qHXHtVJmuWd4cejbVu4BO8P7xc7vnD8OvZ+S19wS0bKvHG1yHqrOzue9DmwhUAUAZT1KCqc67YENjyyX5qyvmRmswKqjw/9uAZlz9uHeN7jg+f8/Tr3cfzktxb4h9524+MqbeXyVfb+bakj+H4gLXX01HdTvddnS0P3rXSdAc//eJH7iEudXz/TmhVLmXzveO0gqxyVWSlRJ4SW6/r4Xw0mr7lR0mdwuW16QqXJMiFK3r6+LmUN+C3OqbL1DulnL/+8sLxFpVXMcy//rNYWBzpNqp2y/uV7h6YlIS7hupG5+KRrBqaELRUHOUKc/ud6e/fmqDmhzXUtZXqjYyptnFsTXeukt7WdhcugAh70wvDIlQqK0XYUfzjNYrQfKSGvu3YtJT0oMx9t7XQZMam3bfHTalO95yNSbKa7jr2P7sr8zCi+4U5Z3+6ygabpN1FSinIrHb1/Xjy7Ju2d5b8nhm7V25bXJWNucamfwfE/qbLBTiF/5bxFaW3h4383eNWyxm59bPvfDjQp8L4k5Z2vpc6m/qrWPvlvo/f74efP377tdtR+t/v1gIzWMOF2JjP10ftU2HMn13gKox+XtlJOC1HWFcfMx5fa3BeXeZ1COm6rFPJ+KeQdqPwWg3tUuee7ZTFfPT+9LepdIhm1V4VXl9k62QvhEpWnYscXlYZ/7rXLau29v6V+A1W4ju/9HhlWsimHftpsIdAZCUR/PXTGkpBnCBSBgJZwC8vSmmbldd2v9Q1fsk/vbf5xTbvgTsx8LFV5VpgRO2UfiY+KJ9e5Rw+dn6aoB+/RiPtT315gUvaipP7zJnv08PnOC/6SjIq67lu6YKVNvWSxPXdqTaqFQVSk7pw+1h75emF5yxB1SU8vd3MuIyXD6ciwgZPF4CD26vh54/LFWZ03acRC3pifOTG1wyeQnaLulqrtKJOFctP9k11bDSvqYQCz3fKO/ztonn16X/rzGg7rH0+5sNYe2Huu1xmSqXPLDyvrmoe/Os+W1WR4AP2Aq7eFllvRLHDKwKPfmJ+mqAeT0oieLF6SKMV+Bt/8fZ33/GRrC7OeWGqPHTnfU1R9Jkl45/vPmBQ5dfRmktoPVtgTxywwWQPEEbHwwrt2EBZZnOQrWq6t/zqpv5/qAHaGZG0Wv+zF/m2KkyE/7WJzV9pPfWdB1vfS54802uNHLrDGDI76/LwVi0ux48vGV9MKw4p6ee8y2+HqgSjq2cBxrVsTQFnv1tVP4cME6lePogfP+6bca+/f1zOTD16TybgUpCj5PDB6p+samR6xQ3ZTxah4cp3L9gHq36swMx9PV0akaGhkJZ+PdpkUT/2V+wjLIVJSgiPWmYJnylum8J3tfKEc1L4m/7DGG6WKW/YNDi+Nj4Vg+qVsO0qnEG5i9tI5izJ2UAXLof0e7mNx4Jj4I+uL3l9hMqmOK+pskVVEHCmk3Ip/+WL3TLv2ErdzIE6eOnsYmRzHEb0H5RzNl45+5yvfej/XuvYWRzQS/KJr97k6kBSXOvWk4EdJW8yRNTIbtrrSlINP7sncoR2Vtn+u1O8XP52obSm5e+nFaI5aOvOtQFv081lsLsWOz89n1HbBG7IoaF2q1g+zzYXVJksfBAIQiCYQ/+sk+n7OQqBLEXj3r+kf1L75uOaz6+PtwztbzbfU8615zOH5gjJnnz81dcRi9JcrvDm/GxzRz/vQ13w63yTVh6i50uG13aXkxxFZBWgeqq1c5c1dD3cifPLvRpPZdlCmXVGXtp62rqs8Mg/WXG7lMfxRJwYjd+ntmesF48u035a8ZYqrM59vCwcpD3PdHNuwyGxwLdceq9bt4TpFmuwjVyeaP73+Yf1srf0q3HzpniVpZ34+2qvtKL18uWmetuZeBkV+KcZ8r9KtBNDLm1f+yd2N3lx2hdn6l/mZwU9wZtWyRvFFrIdP7O3FLR8VH97Z4PkU8K9r+96tS2zM8ZXePOPg+Wz7+ZZbcb1xxWLTetdhqd6wp+kdpI4J8fnimdapAOGwXfVY00Rk7j7E+QHRO/qT/zZ4FkPB8sosfuxJ/b1pCx39zp92Vfr7WXlS/qTcqI1rqbTgaHr9jCbnLLXBKc7xO+zERe/83tVlXset5k23RdbYtY9N/1MP09KnvsgU3Wt3fVqnF/jXsm2L8X5p629te3CP1RbdtLSx3+/f4vtFvIrBJci92PEF4w7u61vJs8oLTbPT1Lp1vpJutRi8l30IdHcCKOvdvQVQfo+AFOfpf0n3Bq+LmnPqy/qHpSrrOv/pvY1pyvqsJ5emjbivvX+zoqyPZikHGgELK+tySqVreYn7Btrsh1XefHL/vhE7NXgji/6xtvWfp46iaBQm2PHgh934W5W2+ZlV/qFt5ObZP3vSQu8Dv+Wk23n3piW5lfU25i2YTj77+siKGo0IxnHQ88Od47z8PhyD97dpv40cNFr1vlPywjJki162w1WDUuZBb3hUP09hH3tyfy940dtZIBPt0naUXhu5yUFiWDZ1H71aL14i5VodV94otgu79oH5fSwOntDL6xCpc50kY3/Q39bcI9ViZt2D+9qD+81zz1yr0qK6lBO6WCNIbSy30vjEmZmGRQrqDle0mpmq00Cmtporvqw2tVMjfG9XOe7rOkK3/92AFP7rH97XnjxugeeI0S+nRlU/uK3eNvtR8zuwo9756nj7wK1QEhQ5f9vzziGug671023kzn3s8aNTpzyobuMq65rrLp8mYRP2YLpx98Vuk+9WmqaJ+CLF/b1bXEeV6yiLK8V6v7TlHdge3OO2RY16v//31rZYLC5+PRQ7Pj/e8FZWSLIOC3cijtq7wvt2CYfnGAIQSCUQb8gu9R6OINCpCciM+9ULar2/539S481TvHf3uZ6Dq3DB9FEkZy++yGuwvCkHRR9G+lENStCBlc5rxDzWR3owkpj7O1w5MEVR123rOOWjd3Xq490wO/WjXB0F+rEOisq7+Rmtirqu6QNxu0sHpHkC12hOlFIUjK+teQvGkc++5nTqYyvbXz7xFStsWznIu786koIip0OTrklV1HVdXs3lSKtHniNYwbjj7rdH21Fe2sotyhpl9nPpHWjqiNPoW1tk+98NtL3uGpKmqCsudQaFFXidXxJQ3nWcSdpa7pmPLfXafjBe7/m9bEDafFC919Q52F1kj78PTnsH632nzsiw1Lzd2tnTUe/8z9yzrzXLgzLBvZuDirquaYR2zPHNHXR+WPkjyDa/3Q+n52SXvwwuiqKuOJXf9Q/tm7bCwjs31HmWDArT081tzyXt9X6Jykd7cG9rWyw2l2LHF8VT56ZeXJti/aFzWo1jonOIGNfrve5BINBdCaR+zXdXCpS7WxGY/9pyz5manLNozvn8KcvTPooERF6Bt3MfueHlfDTSEpTldavcUlqtJqVS3MPLr8ksuVQ/SsGRfz9f+oDTkmtBkdln0Mmc5o+FRaOzUflUXMFOC/++qDj8a9q2NW/BOLrCfls5LHBtNSwaMZMJfEdKVL0Xu+2ofG3lNmJS+jJzH/2zwe7fq7lTLpPjpkKYagRR75Mp7sNUDh2VXliCI+3ha8HjtpZbc4TDsr7zXxDuuAuH6Q7HPV2nY5SsfUDq+1xhwvXUEe98/U6FRR2+Gp0M/1UMTX0faApUnDYuE+RMqxSE045zrM5fLe85/sepHb76jfQtnmTGn0va6/0SlY/24N7WtlhsLsWOL4qnrPc++EeqhYj8AO14XaulT9R9nIMABFoJdJ9u9dYysweBnAQ0T12Kusxdw6KPOy0HpdFbXz69p9Gbl6djmdYGr+ncWqtN4LXfXtJ7YPaPorBJmvIVVV4/v7r22UOpTurCo/V+2FzbXHnLdX9br2st17LV69K3NY5i3peLg5YHC4vWO+9o6ci2o7Ln4taryq0VvUsfz6N8kJV4elMlrqt3/icqbONvag57238G5cTtAzc/+MM7lpi/xGMwvfC+lJZCJFe5G9ySW2HRkmVIZgJSVuXJXFMIfAnXZUe886OesYcOnOdnMedWTg1l0ZVNij1X2Lcw0xz1IVv28jrC/fQ/dCb9m3y7MmVpPP9aeBtV9vb6bYpKu9jcw+X1j6PaYrDjKCpvhXApdnx+OVq27pGacmG6M9qRO/Xx/JC0hGMHAhDISqDtXylZo+UiBDohAafbyjRL81o3PLpfRnNimZVqpNxfE1UlnfX0Um8OupQELb0UFJktKt72lrBFQDh9raUblmyjLHJ2FZbGuenKZDhM1HGuvEXdE+ecPj41ZzKTVDizT1kdJEVycWick15HlaM7vgAd2XZUd7m4Kcz2lw80TXORaXhYZCKsJYT0JwVC0wfixBmM571b6p0zt7oUJS94vRT7ufK4dF7689h3jY5vL6VgUcw4ew8ot4bGVnbeNBo3SuyPAnfEOz/qGStmmb24Ugfkixr95mdW22NHzG+JU/OW5Qwv22+MHziq7NnuK+ZvU1Tafr7aYxtui+pEksWC2mJU3grhUuz4ovhETceQn59NvlNp8peAQAACuQnwpORmRIguRkDL0vjOd8qcgt6zf7m3rFr/tXp42zjFlcftoLIuxzpyKrf2ARXpJvAdMKoepwxlEU9/tuWoVq1oHXny4y/rmX303g/XXls5DpPX764i0XWUXg/tXd7ofGXORUe0HY2WTrp6kDflZfpf6lM8VAdzqmtaPnCSW+c3agpIMKy//9Z1daa1u6NEjro0mt2zX3mkA8eoe4p1TibIYZF3+g6TDkw6nzKHVw5Qh57aT1Da+50f9YwF85NrXx2THSlygjl6nwrTHHBf9Js5Jktnqh8uquzt9dsUlbafrzjbQrlna4tReSuES7Hji8NHYaTAv/zzRbbH34fEfufGjZtwEOiKBLrOV21XrB3KVBICGjkv1PxPpmcyn100vdURkRzN6Xz9Z60jNCrA2pqvnkBpHo1InRcpM+FMI7dh01AVqe+Ijv0gLAXWVe5DIinSd5hGRVPrqN4plmEnU+2d387SdqR0yUpGTuTkTOl95+VbPirComdX6xqHnUeGw+lYiv3b16cv8SjTX43S+2apmj8eXm1BnYOllH5u+k5YoqwzwmFKdSw/GWGJY9nSns+glKOgCbzyK8drYSuG9n7n9x2e/uzLWsQf7Q9zDR9XeO+O8Nn2PR5/WpXJ2ao/uqpObS2Xl0s68v3Skdyj2qL8k/htsdhcih1frnoNXtd7WHPZ2+rgMxgX+xDo6gRQ1rt6DVO+khHQSEtwiZovnCl82OP7wDG9rGr9+I9Z2Dt7yTLvIu43Ml3RlqO8Ydu0LlUXTF+WA2HJNScyHD6Jx2HlYambh2zS10OK1coOGKGM6gz59L5Gt8Z9YfPWC21nna3tqI5l9aI/rWLw6i9rvWXUgu1R7TuOsj5ncqvy4d+vDoEtf5bnkov+zUXcRnW0aU11jXCWSha8vty0RFaUEpnWUeCeqf5rp78PO/IZjJomkem91p7v/Khnv4dbZUBrmXcW0QoVGx7Zz969ubVzK9yZHVWW9ni/ZHoHdiT3qLaoZd58KTaXYsfn5zO8HbFjH2852EcOmWdBS4A3Ll/srZrR3GkQvotjCEDAJ5D+te5fYQsBCGQlsM6BFSmmkvrxn3ZlqjMVKQeZRB+34Y/UhdOWpy0Dl+n+Qs/LyUtYPrqzIdIzvhScsJdcmdwOnxit2IfjTfJxeM6fPClrlDUoGhF68cxFwVPtsi+v5mH59N6GFIuO4HXl3R/F8s+Xop11hrZT+8GKSI/YQ7fubTvfMMjH07Kd92pqnbdcCO0o3rCs+9V0j+Jy8NXeEqWsf3x3g0U5tlP+ohxMxc2znIlpCcxHD59vk0+rMbW9oCju+VOXBU+ZphpFKfXt8gxGGMwoz9P/3KpI+pmNat+61p7vfCk4YXn9t6mOTcPXk3i86fcr816NIIp/Ib9N+bwD24V7Hm1RjjJ9KTaXYsfn5zO4HTimp026aqBpitqGx6T6k9F7KcoBXfB+9iEAAbccLBAgAIG2EehVVe45owveneIF3o0ieUu2BQME9qWoh3uU9QEc1bseuK1ouyOcsh4eQVpWu9Ke+u4C09aXmreX23M/rPEPW7aj9urjvHJ3/ldIcOTCL9wbV7Y6Dqv7pMmePbnG80ngX2+v7Ug3ihZeM1zL7z3plgab+2KqIjTnhWX24P5z7dmTUuuqFO0s6W1HUzYeO2KBPbjPXHvvb0vSFMnGea3t26/LKCXSvxbclpWHTC7cxdnPpNaFHNc9d2pqPQTjKNX+sG17pynDWvv6mRMWpj7T76ywRw+bn7ZEWdx8aSqAlHQtfyn54qml9uLZNbb4w+aODDmuevHsRSmjaAonS6MoaY9n8OnvLbTg0nZ6Vz93ykKL6nzJtHpHe77zpaSFl2hc/PEKm+zexQ0Rjidr319hr5xfa1HLcUUxb69zcpi26YmpSlqutIv9fsnnHdge3J8+3rXFt1o7B7O2xcA0umJzKXZ8UfW60/WDWlYAGPeD/hZeZvDzRxvt84db/RpExcE5CHR3Aun2aN2dCOWHQB4E1j+0n3387+g5eEO37G39cnhirlqvZ9qST8//uMbeu9mZzztPqfOnLrdd/jQoZzx5ZLklqObBjTulv730s9QRY6V5/17zvFEwOaCpeXtF2mhtjz5l7gOsf0tcnXknyiGdlI97dpnrLCfcesURXvPbq7zljr/WQp56SarFhkZFn/zWAm+0ot+aPUwf6lKgJOpc0Pxs+WbwpdjtLMltR6Olz59e41ZnaFbIp/6q1ins9SZFttpNSVn80QrTdI+wxLUSqY5wYPjmtXU211mf9HDWJnUzVtiid9NH35XeqogRtXA+CjnuM6jcm6P/zg2po8XzXl1m9+8511OWNY88SkHNJ91F7y5Ps+6Qh2f9yXP6ctdB4E0lCUU6ZKtoZb09nkEpseqg0Aif2oiWnQx2SvpZHbVnRVYv1e35zh/rlBtZLwRF060e3G+ujd67wuTMUKOTNU7xm+2WDBVzvQt2v3Vw8JYO39/wqH7OX8SSNH8umTJWivdLPu/AUnPX1JFHD1Vb7OXa4qqMbVHvcOXbl2JzKXZ8fj5btq5fMzgg0bOyzCacUWUvnpX6zTHlolrTkqRaTQeBAATSCXT+YbH0MnEGAu1GQGvJar5mlGQanQmG3eAb6eazui6T84//1eCNVM17OXXULnh/ofvrfq1vpLM9KTrq+ddHRdisWmlu8dMq76O30PSTcL9MmMOen5UvMehIRd1ns5EzHYyao64R9ho3QipLDF9R9++ZekltSr2Vop0lte184sy+w07k6mc0ec+TzIjlkbpxfurIukZ75CAujgzfrreVu7nDQdE0CXXwaJQok6IeDF/KfTm5k8IcFil1c927pFBFXfGO2qsipTMomJZnch/RKaGOyw0O7xcM2rLfXs+g/8wsem9FpKLeu7rctjo/u++B9nzny/nWKKeUh0XWErLemHZVnWfGP3tys6KucJqyFF4+NHx/ex/reRn/46q8ki32+yWfd2B7cG9ui67TK0NbVMfbluemt8Vicyl2fLkqeZ0D+5qeoaDIUkTz1xEIQCCaAMp6NBfOQiA2ATkdCovM7taK8fG/5h4VNsgt85RN4s6lzRZHtmvbXFQd2yOrPrq2dh+zUWXOlkaSr8mUfyPnICyXaERt3MkdYE3g9K4drhiYUTlKy7cL7zmhCrgeL1U7S2LbGe1Go8Z+v39kB0waK3dCbXp7xzc83SAqrM5VunnXMufMJRrBrYzwzp7rvkKvy+x45xsH517P2rUT33N9W9Lc5sIBtuburfNps8UhJViMozrFdF97PIMaRcwmMjnf5S+D0sx0o+6Jev+V6p0/8TcDbL2vR3fqRuVN0zkyOU+LCt9e59ZyTg7zbW/FfL/k+w4sFXc53YtaYjFYD/LhsOtfB2d8JxWTi9ItdnzBsqTtu/fOVj+vbvFw71//4PYlJgsgBAIQSCeQ4+cr/QbOQKCzE+jjPsqKKaP3Tv9glUltnHT0Abn73wbb2q63OZN43slXXwzPYZRZmUzSCxF9OGz1i2qbdM3ANG/2frz6EJVH6T3/MdjWzzA6Voq8+enH3cZhHhXX+J9U2YTTq9Ic/imslJ/Nz6qyrS+odp6sWz3z6lpUeqXgoA9wLdu03WUDMn/wumagEYs9bx9iUqRkQu9LqdpZsdqO8lksbj37ltm4U/vbPg8MNY0aBc0wfR7e1vFae/8K29eFy7QCQkr4wMGY71V6z4yev7DoQ3vsSf1tr38O8Uagg9fD8zV1rVjlDqajNa73umuoyVmWnt2wyBpo5z8Osh2udGvLByScl8CltF2VfcdrB3le8GWOHSVqd2vu2cd2v22wDdk8e6dkMZ/BqLzsdstgb7nN8DXx0VKee94xxAaNy55H/972fOfr/a7necdrBjlTYefQM73JedlSZ5OmJu3/6DCvXft59bfhui3Gb4cft7+Nat/+NeV78zPTR9ez3VPM90u+78BScd/inGrbw/2ORk39UFtc92DXFt07XEvDZpJiclEaxYov3MbCx355tOpGWoeXs8Z5/9ZmHxh+OLYQgEAzgbJVToABAQi0nYDMEV86J3UO1ra/GmBRHqKzpeLNJXUmcZpTK9ePWu9VH9XtPTonk2rlock5YFrRuMpzQqcPiyjFNFt5OuM1jUgtmr7CGuY2eaNTUvSGOgU404hgR5VRdVTnnE1pXd6ynmWmeeuqozhO0krZzpLadpY6s3dN65D5sMxPNTqujhd1xBQiMvleNH25N11Cv6SDx/eyKI/shaRR6L1yWqnpEo1zmrw588OcN/yiP8uu7DXuuVnyeZM1uSkBWrdcnRbyuxF2YpmrPMV4Bif/qMY+eyjVadVXXx7hObpaIi/1bo3nZW6JRr1bpThUDMuvHXTkO19e9ms/arKGWU3W0013kNWCfieyKb25mHeW68V6v7TlHVgK7g2zm9uiOjL07vbaopuSk68Ui4ufbrHj8+NlCwEI5E9g+kezDGU9f27cAYEWAvqwfHDfuSneeTXCodGNpCl4LZlmBwIQgEAXJhClrB/0wvC8lxCLQsQ7P4oK5yAAAQhAoBQEpKzn34VXipwQJwQ6IQGNWE25sDZFUVcx5PkWRb0TVihZhgAEIJCFAO/8LHC4BAEIQAACJSGQeVJMSZIjUgh0bgL1n7n1m4+c75m6ylRM5rVBkaMkKesIBCAAAQh0fgK88zt/HVICCEAAAp2ZAMp6Z6498t7uBOStVMt5ZVrSa9uLBhQ8D7bdC0WCEIAABCAQSYB3fiQWTkIAAhCAQDsRQFlvJ9Ak0zUIZFxGzTmI2fSE/p7n465RUkoBAQhAAAK882kDEIAABCDQkQRQ1juSPml3OgK17ztP7UFxSnr1+j1ti59W24hJblkdBAIQgAAEOpSAvLsHl6zrVVluPSvcy7oNwju/DdC4BQIQgAAEikYAb/BFQ0lE3YHASqer176/3JYuXGW9q8q8JXNwJtcdap4yQgAC3ZEA7/zuWOuUGQIQgEAyCLB0WzLqgVxAAAIQgAAEIAABCEAAAhCAAARaCLB0WwsKdiAAAQhAAAIQgAAEIAABCEAAAskhwDrryakLcgIBCEAAAhCAAAQgAAEIQAACEPAIoKzTECAAAQhAAAIQgAAEIAABCEAAAgkjgLKesAohOxCAAAQgAAEIQAACEIAABCAAAZR12gAEIAABCEAAAhCAAAQgAAEIQCBhBFDWE1YhZAcCEIAABCAAAQhAAAIQgAAEIICyThuAAAQgAAEIQAACEIAABCAAAQgkjADKesIqhOxAAAIQgAAEIAABCEAAAhCAAARQ1mkDEIAABCAAAQhAAAIQgAAEIACBhBFAWU9YhZAdCEAAAhCAAAQgAAEIQAACEIAAyjptAAIQgAAEIAABCEAAAhCAAAQgkDACKOsJqxCyAwEIQAACEIAABCAAAQhAAAIQQFmnDUAAAhCAAAQgAAEIQAACEIAABBJGAGU9YRVCdiAAAQhAAAIQgAAEIAABCEAAAijrtAEIQAACEIAABCAAAQhAAAIQgEDCCKCsJ6xCyA4EIAABCEAAAhCAAAQgAAEIQABlnTYAAQhAAAIQgAAEIAABCEAAAhBIGAGU9YRVCNmBAAQgAAEIQAACEIAABCAAAQigrNMGIAABCEAAAhCAAAQgAAEIQAACCSOAsp6wCiE7EIAABCAAAQhAAAIQgAAEIAABlHXaAAQgAAEIQAACEIAABCAAAQhAIGEEUNYTViFkBwIQgAAEIAABCEAAAhCAAAQggLJOG4AABCAAAQhAAAIQgAAEIAABCCSMAMp6wiqE7EAAAhCAAAQgAAEIQAACEIAABFDWaQMQgAAEIAABCEAAAhCAAAQgAIGEEUBZT1iFkB0IQAACEIAABCAAAQhAAAIQgADKOm0AAhCAAAQgAAEIQAACEIAABCCQMAIo6wmrELIDAQhAAAIQgAAEIAABCEAAAhBAWacNQAACEIAABCAAAQhAAAIQgAAEEkYAZT1hFUJ2IAABCEAAAhCAAAQgAAEIQAACKOu0AQhAAAIQgAAEIAABCEAAAhCAQMIIoKwnrELIDgQgAAEIQAACEIAABCAAAQhAAGWdNgABCEAAAhCAAAQgAAEIQAACEEgYAZT1hFUI2YEABCAAAQhAAAIQgAAEIAABCKCs0wYgAAEIQAACEIAABCAAAQhAAAIJI4CynrAKITsQgAAEIAABCEAAAhCAAAQgAAGUddoABCAAAQhAAAIQgAAEIAABCEAgYQRQ1hNWIWQHAhCAAAQgAAEIQAACEIAABCCAsk4bgAAEIAABCEAAAhCAAAQgAAEIJIwAynrCKoTsQAACEIAABCAAAQhAAAIQgAAEUNZpAxCAAAQgAAEIQAACEIAABCAAgYQRQFlPWIWQHQhAAAIQgAAEIAABCEAAAhCAAMo6bQACEIAABCAAAQhAAAIQgAAEIJAwAijrCasQsgMBCEAAAhCAAAQgAAEIQAACEEBZpw1AAAIQgAAEIAABCEAAAhCAAAQSRgBlPWEVQnYgAAEIQAACEIAABCAAAQhAAAIo67QBCEAAAhCAAAQgAAEIQAACEIBAwgigrCesQsgOBCAAAQhAAAIQgAAEIAABCEAAZZ02AAEIQAACEIAABCAAAQhAAAIQSBgBlPWEVQjZgQAEIAABCEAAAhCAAAQgAAEIoKzTBiAAAQhAAAIQgAAEIAABCEAAAgkjgLKesAohOxCAAAQgAAEIQAACEIAABCAAAZR12gAEIAABCEAAAhCAAAQgAAEIQCBhBFDWE1YhZAcCEIAABCAAAQhAAAIQgAAEIICyThuAAAQgAAEIQAACEIAABCAAAQgkjADKesIqhOxAAAIQgAAEIAABCEAAAhCAAARQ1mkDEIAABCAAAQhAAAIQgAAEIACBhBFAWU9YhZAdCEAAAhCAAAQgAAEIQAACEIAAyjptAAIQgAAEIAABCEAAAhCAAAQgkDACKOsJqxCyAwEIQAACEIAABCAAAQhAAAIQQFmnDUAAAhCAAAQgAAEIQAACEIAABBJGAGU9YRVCdiAAAQhAAAIQgAAEIAABCEAAAijrtAEIQAACEIAABCAAAQhAAAIQgEDCCKCsJ6xCyA4EIAABCEAAAhCAAAQgAAEIQABlnTYAAQhAAAIQgAAEIAABCEAAAhBIGAGU9YRVCNmBAAQgAAEIQAACEIAABCAAAQigrNMGIAABCEAAAhCAAAQgAAEIQAACCSOAsp6wCiE7EIAABCAAAQhAAAIQgAAEIAABlHXaAAQgAAEIQAACEIAABCAAAQhAIGEEUNYTViFkBwIQgAAEIAABCEAAAhCAAAQgR0vm9QAAQABJREFUgLJOG4AABCAAAQhAAAIQgAAEIAABCCSMAMp6wiqE7EAAAhCAAAQgAAEIQAACEIAABFDWaQMQgAAEIAABCEAAAhCAAAQgAIGEEUBZT1iFkB0IQAACEIAABCAAAQhAAAIQgADKOm0AAhCAAAQgAAEIQAACEIAABCCQMAIo6wmrELIDAQhAAAIQgAAEIAABCEAAAhBAWacNQAACEIAABCAAAQhAAAIQgAAEEkYAZT1hFUJ2IAABCEAAAhCAAAQgAAEIQAACKOu0AQhAAAIQgAAEIAABCEAAAhCAQMIIoKwnrELIDgQgAAEIQAACEIAABCAAAQhAAGWdNgABCEAAAhCAAAQgAAEIQAACEEgYAZT1hFUI2YEABCAAAQhAAAIQgAAEIAABCKCs0wYgAAEIQAACEIAABCAAAQhAAAIJI4CynrAKITsQgAAEIAABCEAAAhCAAAQgAAGUddoABCAAAQhAAAIQgAAEIAABCEAgYQRQ1hNWIWQHAhCAAAQgAAEIQAACEIAABCCAsk4bgAAEIAABCEAAAhCAAAQgAAEIJIwAynrCKoTsQAACEIAABCAAAQhAAAIQgAAEUNZpAxCAAAQgAAEIQAACEIAABCAAgYQRQFlPWIWQHQhAAAIQgAAEIAABCEAAAhCAAMo6bQACEIAABCAAAQhAAAIQgAAEIJAwAijrCasQsgMBCEAAAhCAAAQgAAEIQAACEEBZpw1AAAIQgAAEIAABCEAAAhCAAAQSRgBlPWEVQnYgAAEIQAACEIAABCAAAQhAAAIo67QBCEAAAhCAAAQgAAEIQAACEIBAwgigrCesQsgOBCAAAQhAAAIQgAAEIAABCEAAZZ02AAEIQAACEIAABCAAAQhAAAIQSBgBlPWEVQjZgQAEIAABCEAAAhCAAAQgAAEIoKzTBiAAAQhAAAIQgAAEIAABCEAAAgkjgLKesAohOxCAAAQgAAEIQAACEIAABCAAAZR12gAEIAABCEAAAhCAAAQgAAEIQCBhBFDWE1YhZAcCEIAABCAAAQhAAAIQgAAEIICyThuAAAQgAAEIQAACEIAABCAAAQgkjADKesIqhOxAAAIQgAAEIAABCEAAAhCAAARQ1mkDEIAABCAAAQhAAAIQgAAEIACBhBFAWU9YhZAdCEAAAhCAAAQgAAEIQAACEIAAyjptAAIQgAAEIAABCEAAAhCAAAQgkDACKOsJqxCyAwEIQAACEIAABCAAAQhAAAIQQFmnDUAAAhCAAAQgAAEIQAACEIAABBJGAGU9YRVCdiAAAQhAAAIQgAAEOobAnDnz7BcXXG7fPfEsmztvQcdkglQhAAEIrCbQExIQgAAEIAABCEAAAhDozgSWL19uf7n5Trv62pts6dJlHoq7/vWAnXj8Ud0ZC2WHAAQ6mADKegdXAMlDAAIQgAAEIAABCHQcgVenTLMzzrnEPvn085ZM7Pvl3ey4Yw5pOWYHAhCAQEcQQFnvCOqkCQEIQAACEIAABCDQoQQ0gv67K/9kf73lTlu1apWXl7XXWtMuvuB022HiVh2aNxKHAAQgIAIo67QDCEAAAhCAAAQgAIFuReCjj2fY9085197/4BOv3D169LDvO5P3H5x4jPXq1avTsFAnQ01Nrc2ZO9/muj9t58xp3s76Yo7NdnPwGxuXmcz8+/atsAEDqmzQoAE2eNBA9zfAOx44oNrbrr/e2rbW6DWsrKys05SfjEKgqxNAWe/qNUz5IAABCEAAAhCAAARaCDz86DP24zMutIbGpd659dZdy66+/DzbdMyGLWGSuiNrgFec2f5zz79iL7/yur311nu2pKGxJbvl5c2+o6XE+9YCLRcjdhRef01NTV74ysp+ttUW42zidlva1luOs/GbjbGKij4Rd3IKAhBoDwJl7kFutvtpj9RIAwIQgAAEIAABCEAAAh1AQJ+8V13zV7vmD7e0pH74oQfYz885JdEK6ZIlDfb4k5Pt3vsfsyeffsGWLVvekv9sO7169fTK1beiwlPEm1audCPsK2y5u3/psmUtynyPHuUmy4IVK1bYypXNakHPnj2cAr/StN1xh23swP33tD12m2RVVZXZkuQaBCBQRALTP5plKOtFBEpUEIAABCAAAQhAAALJI9DQ2Gg/OfNi+98jT3uZkyJ7yYVn2sFf+VLyMrs6R/MXLLQ//eV2u+Xv/2rxUO9nVqbqa6wx3LaYMNZGjxppw4cPsRHDh9rwYfob7I6HWp8+vf3gaVuNpMtEftasuSZz+ZmzZtvHH39mr06dZh+5ra5LgddWUl5e5hT3nnbYIfvb975zhI1ac0RanJyAAASKSwBlvbg8iQ0CEIAABCAAAQhAIGEEFiyosW8df4a96UzGJUOHDrY/X3+pjRu7ccJy2pwddSxISf/9dTe7ke6VLXnUfPJddp7oOb/bfrstbODA6pZrxdzRyP20N6c7xf1Ne+qZF+3Fl15rMZNXOlLijzriIDv1pG+WLA/FLA9xQaCzEkBZ76w1R74hAAEIQAACEIAABHIS+OzzL+yo437kRo6/cGbfZmM22cD+euNvbJhT2JMoTz/zkp31s0s9R3HKn0bHjz36a96ItubWd4TU1dV7Jvj/d8c9rsPjXS8LGtmXSfxvLjnH9tx9x47IFmlCoMsTQFnv8lVMASEAAQhAAAIQgEDHEZAX8oMPPcGqq/rbDddd0q5znj/48FM78thTbcHCRR6ASTtsbdf//iLPK3rHEYlOWSPoV/7+L3bdH29tCfCdbx5mJznv9AOqq1rOdfTOSy+/ZudfdJW9+95HLXPeTz/te3bi947q6KyRPgS6HAEp680uI7tc0SgQBCAAAQhAAAIQgEBHE5g/v8amv/uhveQ8l995133tlp0PPvzEDjvqB56irlHgvffayTN91/JlSRPNCz/Neaf3FfV11h5l9/3nL3bOmSclSlEXt2232dzu+def7Kcub71XL3H32ytutBv/8o+kYSU/EOgSBFDWu0Q1UggIQAACEIAABCCQPAIjRw6zfv36ehmTSXp7yGefzXIj6j+02to6zzHal/bcyX5/+fmeg7T2SD+fNOSh/syfXmr3PfC4d9tENxf97n/eYJtsvH4+0bRrWC319q3jDrV/3/lHz5GdEr/st9eblsRDIACB4hJAWS8uT2KDAAQgAAEIQAACEAgQ2GSj9byjN6a9Ezhbml15UD/SzVFfWLPIyt2I+i47TbQrf/cLzylaaVIsLNZbb/uP3X3Pw14k224zwf56w2+sf//OsTyaOhTuvO1aGzJ4oJf/08++uGWufWFUOsfdjY1LTdMCtEUgUCoCKOulIku8EIAABCAAAQhAAAI2frMxHoXpgXnOpcDS0NBo3/zuGfbF7Lku+jKbOHFLu+7qCxI5oq7yz5u/0C773fUeCnmov/6ai613717ecT7/ZEb/9vQPTOVvb9ESbsq3pL6+wX5z+Q3tnYUOS+9Hp19gRzgLjrPOvazD8kDCXZ8AynrXr2NKCAEIQAACEIAABDqMwKZjNvDSXrKkwXlln1OSfMhBm+Z9a368RMuy/fHai63X6nnVJUm0wEj/Flg//byfndrm+emnnHa+HfjV79he+x5tNYtqC8xV/rdvucW4lvXqZSUwe/a8/CPpZHfMmDHTHn38ueZca5kBBAIlIoCyXiKwRAsBCEAAAhCAAAQgoOXSNmzB8M7091v2i7mjNckfe2Ky56F8zTWGO3PyX3trlU/a9RDTcmhJlHvvf8zL79Ahg+zLe+/SpixqRP1/jzzt3Tt7zjybMWNWm+Ip9KZvHft1Lwp1mtx7/6OFRpf4+++46/6WPB71jYNb9tmBQLEJoKwXmyjxQQACEIAABCAAAQi0ENhow3Wdo7fmT8633i6+sv7EU8/bNX+4xaQo9nPe3m/6029t1hdz7Kpr/upMzRfYI48lz/GZ8jrDOcKT7DhpmxY+LdBi7kxzfgB69OjhhR7ilP7Nxm0c887iBpMlw4jhQ71I1WnSlaWpaaXd/s97vY6WUaNGOg/5E7pycSlbBxNAWe/gCiB5CEAAAhCAAAQg0JUJVFT0sdGjR3pFfPOtd4ta1JmzZtuPTr/QU5y0RNvVV5xv664z2h7835OeAiwL5T332LGoaRYjsuXLV3idC4rLV3LbGq/Krbnup//ou6b9jpItNh/rJT2tyHXcUeXJlO7kF161BQtqPNZHHHpghzLPlEfOdx0CKOtdpy4pCQQgAAEIQAACEEgkgc3Hb+rl641p04uWPzlWO+VH59mSJUs8xfz7xx9lu+480Yv/v/c+4inDVVWVtuMO2xQtzWJFJOXadyZXyDzztdcaZStWrHCdFWZz5y0oVvbaFI86HdRZUF+/xBoa29/ZXZsy3Yab1LYkWnbvwAP2akMM3AKB+ARQ1uOzIiQEIAABCEAAAhCAQBsIyExaMsfNq65dXNeGGNJvufram+2NNzVSX2abT9jUfnjyt7xAcjInE3MpjrvstJ0zE0/e567yNmbjZsd7zzz7cnrhYp7ZcMN1vJBS2BcsWBTzrtIHW9q4rPSJdEAK4vzQw095KY8ft4nJGz4CgVISSN7bq5SlJW4IQAACEIAABCAAgXYnMHbTjbw05Tf7nXc+KDj9V6dMs+v++LeWeeq/v/z8lrnbDzz0xGoT+FV21DcOKjitUkVwwH57eFHLlP/Jp19oUzJDBg+yQQMHeKO8i2rb3xN8MNMa2ddosyzxKyv7Bi91mf0XXnrNWXI0eB1BX2FUvcvUa5ILgrKe5NohbxCAAAQgAAEIQKALEBg7ptUj/Jtvv1dQibSeuOapSzRCfenFZ9nIkcNa4vzPf//XbALfv9K22nJ8y/mk7RzytX2tr3OIJ3nwoSfbnL3111/bu3fRouJYLLQ1I9PebJ7ioA6EJC+Z19by6b7Hnmherk2dEnsl0BdCIWXj3mQSQFlPZr2QKwhAAAIQgAAEINBlCAwcWG3Dhg72ylOok7nfXH6DaZmy8vIy22+f3WyfL+3awunDj2bYZ59/0TzyeeDeiTSB9zM7oLrKrr3qAtttl4l2ZAEWAMNXc62rr/ejbvetmPtTD7qyd/RHHn3Gsx5Ya/SattZaa7Y7ZxLsfgR6dr8iU2IIQAACEIAABCAAgfYmMGH8GHv08edsytQ325y07v3bbf/2FKZqp+z+8uenpcT1pFvGTaKRz6/sn3znX5pTr79CZNCgAd7t9fUNhURT0L2yZvB9A3xpr7atGV9QBtrhZk1X+HzmbK8jaM89JrVDiiQBATNG1mkFEIAABCAAAQhAAAIlJzBhtUd4jcA2Ni7NOz15fz/73MucOzn3AetG1c8791TTiH1QHnuyeY3vyn59zV9KLHi9K+5XV/f3iiUv7B0hSvcvN99pWn+8sl8/23vPnToiGyVP84UXp3qKuhKaNHGrkqdHAhAQAZR12gEEIAABCEAAAhCAQMkJbDau2SP8ypUrTR7b8xWNqH/8yeeaqG5bbbGZHXTA3ilRLFu23F559Q3v3M47btsy0psSqAse9K+s9EpV75aw6wi5/Oo/W11dvefU73vf+YZVVPTpiGyUPM2XXduSxYZk662T6wuh5CBIoF0JoKy3K24SgwAEIAABCEAAAt2TgL98m0rvOyOLS2LhwkV2+VV/dqO3TdLV7aJf/iTt1qmvvWVS2CV77N59zJT7rfa83tCQv7VCGsQ8Tzzhph3ccuu/PId+8knwzWO/nmcMnSf4i84TvGRtN1f9/9k7D/ioii6KX3oNhAQCoYXee++9SwcFEQUEsYG986lYUGxgLwiCgCDSEQTpvfdeQk3oBAi9BPjumc1bXpbNJiAlmz3XX9jd9+bNm/nPJr4z984d5BugkcD9IECxfj8o8x4kQAIkQAIkQAIk4OMEMgdmkkD9gW02+6PHH8jA735TIX5FkidPJk90bicF8ueR7Tt2y0j1tiO5GWzFqvXOCiuWL+V8n9jfWBnlL1++v3ubb9Ws/r1f7mu8zcjK/9VnfSRNakd2+8TGHMs29h/QqA61CuW806t+OvKMnDx5OrENTaLvD8V6oh9idpAESIAESIAESIAEEgaB0tHr1teu3xzvBiHD+59//S1RUdckbZo08sJzXc21n335s/T9+Bv5/qfh5vPyFevMKyYE3GXqxpZvSBKW2CxVypSmS1FRV51h2ve6j1i/3fHxF0zuAQj1N159WqpULnuvb/vA6t8Vus9ED6CvxaOXczywxtzmjY8ePSEf6O9JlZptpVKN1rJx8/bbrIHFHyQBivUHSZ/3JgESIAESIAESIAEfIlCmdFHT2337wyW+nuAvBw4yoe/JkiWTV1/qIX5+jjXa2O6sXZum0rZ1YyNSN0Xv821NCNixzp2/TKrUaiO1G3SUVasd4cz28978PlUqh1jHcur4Mr3T/mLN9lBNJvdE91flwoWLJtnf453ayFNPdrzTKo23d/eeA3d8/X+5cPee/dL3o6+lau220qBpZ1m1ZqPb6naF7jXJ5dD/wgXzCSZ+8J0ykR2aMPF+GlhFnDwVr1timUKdhh3NDgpRUVGmD5kyxkzKGK+KWOiBEeDWbQ8MPW9MAiRAAiRAAiRAAr5FoGTxIqbDyByOMPbSpRziPTYK2JN95uxFRqxnD84qHR5ubry5H3/6vW6jdUQ+6vuq5MyRTcLCDjnEIzyfxQo6q4Oo6q8e+D9GT3IeS3WPE6BB0IXu3i9Llq2WhYtWmv3H8+cPkXq1q0r7tk1NIjZnY+7CmxTJbz7OX7l69Z4leENUwpvv9NflBhucXuann3pMXnmx+x33ApMLzdt0l2PHI0wYfasWMZMG3nHF8bhw+r/z5dU3+8nVq1FmsudEklPSuevLsmDWn5ItW5YYNezZF+b8jMmiJi26aptPKIcb8kG/b+W7gR9Ik0b3fsu6DRu3SbuOz0rKlClk3r+jJWvWzM52uXszZepsuaoiHYbIh9df7uk26sTdtTyWMAjc/O1OGO1hK0iABEiABEiABEiABBIpgZIlChtvLHJqI8lcXGL9q68HO8Xt6688rWvWk8svg0fL2An/GMEILznE+s5oz6dqdSlcKJ+hh7D4V9/qJwgDhmXyzyhffd5HSpVwTBiYg27+gYDEnuG41+3a4iWr5NMvfjLZ7pMmTWraiDr2qtibPWexmVC420nYkuk6fssu6eREBj/HVm7Wsf/6Cg/64KFj5OdfR+lSBBV+OhkBsdjvg9clKCjQrFvH+vUj0ZxL6GQJEvzVr1tdChbI4/H2Y8f/I8dPnFTeyWTGzAWGW5tWjeO8zmOl8Tg5eswUee/DgUakI7Qd6/6v6TKLKE1guHT5Go3WaBKjllANg8ckDDLdf6QTRYePHNPzN4xYR8FX3vhI8uUdJIUK5o1x3d3+MOKPCcY7jkSKw0aMk/Tp08ljj7YS/1i85e++3VuyZ8+q0SQb9fckWEJCctztJrG+e0yAYfD3GDCrJwESIAESIAESIAEScBDAvuhZszq8lhs3eV47i7W1CxevNCIpJHcOadakjpw5e05F4x8mKzyEU51aVUzFWNcOg6cT2bo/+vQ76dztZadQb1CvusycNlxq1ahkytn/gQhDpu/X3/pESldsJsXLNpIipRqY9b0IkV63fotpg/0ad++Rrb5bzzdiCHUk1WvWpK5zwmG4iq27beizZRdUrN8tO3bshGCypFqddvLtD8NMgj8I1MKF88uwX7+Uv8ZPlS4aDg+RfUAjG5AAED9rldeXA3+VFm3VY651xGbjJ87QnANfG7bI8j9LJzMGDRktLdv1MJn/kRDNncG73OihJ6R0haYadbHQWQRRFDNmLtTt/cKdx9y92b49VN79YIC5L4T6R++/IpPGDhJEJdy4cV1O6s4DdkNEwbwFy8whJJpbHR0qny5dWvn8k7fM8at67StvfOycnLFfb73H9nYItS9Sqr4M/2Oiddh8p/+ZMU+OHDnuPObuzcFDR2XS37Oc38Vff/tTBuq2ea3aPSUTJ/9rfidcr8uQIb3s3LFH1q7bLON0gmvd+q2uRfg5gRO4/SnDBN4hNo8ESIAESIAESIAESCDhEihXtoRAnEDUebJvvhvqFLkvv/Ckef/XuGkatnxVkqsnFuukM2XKaKqAkLHs6V595PBheD7FeEL7vvuStNe17e7s7Nnz8tyL78qy5WtvOY3M2SM1fB4/j3ZoaUTdLYWiD/w+YryZRICYhVWpVEZ6P9dFKlYobT6Pnzhd3n73C11jH9Nja07+x38gdC37r2vWT0Sckrnzlsq/sxbK4qWrVABet6qW4GxB8torT5lwfoRiWxMkSPpXtUo5E2YNj/tkFZRY4pA9OEhSpEjhvN56A9Har/8PJjrCOmZ/RVj6j7+M0AiKUWZJQ41qFSUgIKNs277beL2tscU1Q4ePk0YNHOHnSDYI0ZpMIxpWL5siENOudvHSJena83XnYYxTx0daGAH8cLtmsmXrLmnRrL7z/PnzF+RJnYCxc4DAv379ugl9r1Gtgsyeu8RMNOzYucdEIPTs/qjzeusNeDzTu4+Ehx8xhyZpO594rI153/ul92WZRoH4aUTEysWTTFSHdZ31imUCHTv3sj7GeMV3//W3P5X3dWIJ/amgOyEgAgLedOwNj0kMGNpdtkyxGNfyQ8InQLGe8MeILSQBEiABEiABEiCBREOgjK5Th1jHVlgQT+62+9qm3s8Fi1aYteq5c+XQ9cC1Tf9H/TnZZIVHiDoSm1mGUHd4yGGWmCtdsoh8/eV7sa7RhejvpsIN+7PDIJZwH4TqI5QcybkgxCAusT4+Njt+/KT0++wHI+AQzv3dwL4qIGvGKI5EeK1bNjLh3jFO3IUPdrFuf++paojNQzqhgQRryHSOKId1mqH/sBvvLpYVPKNr0xHZgP598tmPTqGO5H59//eSpE2bxniIP1EO8OIWUe/75HG/xhCeGJ9JU2bKp5//KKdOnzHi0Rozq62NG9YyXnqMP/qCdsUWgQHx2bBeDXMpxv/vabPNGKBvGDfX9e/wXHd/5k05ccKRnA3bAP78fT9zPer69KM3rGaYV0x8oDzyD9gN9QdlCZTqVcubwx/1fUUnNlabJQ6IKMiXN7cgkgMWeeas/PTLSBmmkwoIsbcMoeswiPilOlEEDpEaSbB23SbnBI9VFmPUpftruswgpucdkSUPt20m43QiCB5/LFdA0jv8uLNq2t7YwuXdleexhEGAYj1hjANbQQIkQAIkQAIkQAI+QaCkimgYRA88me72rf7h5xHRwvaGvPB8V+NVD929zwg5CKsGuiba8qpDpMyasygGO2SN79m9UwyxGKOAfhil65Ytod68WT1dg/2a8cbCiwpRuWzFWtNGhDo3t3lbrXrgscS64R9VjKEvMIiusmWKW0VivMJjDA88PPUo8/knb3tsn/1ihP9DZCJMG/VAyGIrO/ws0nXyliGh2BZdP34m8qwKxXNGLJ5RwXhaxTG85ng9q3UhXN5qs3Wt/RVLFVq3aGD6XbRIAecp9G/MuKnmczntw2f93jKie96C5fLW/z6TCL0HDCIU69gx8YG2IlT+ex3T3Sp8cV+MIda7HzsWYZhpqgGpXKmsfP/1B+bzkqVrDH+EvCMfAfqcQ9deYw180iRJZZpO9qBeq/5X3vxYQ/CvmnsjV8ACnWixxDq80hDLWIIAUQvD/SF03XnfcR7lnnr2LQ1534SPMQwJ/R5p/5CpAycCAzKZqIvXdBkF+vaMRnZg+UMajTg4dBiTPElMW1EW9wVDRFxgourl1z8yn3EupUYhQGhb0RhImvir5goYOx7RJI4kcdb1KN//4zd1fOrJSxp1Mn3GfPNdxo4IuC6drmXPo0tHcK91OhmF10c1goDmfQQo1r1vzNhiEiABEiABEiABEvBaAsWLFlTxjVDiG7JRxZirWMf655kahn1dBUY2FY0QJDAkjINHHYK1qXp5YRDMD2k28RQpkjsFDY4PGfqXTP1nrkmqhTXsSLKFMO7s2YPMa2CAv3pi56ComQiAUEeSMax5HvDNr07PMcQRhDLCuy2D+Bs5apIg2dc5DZOGELIsqZZv/XBP+fHbj8TaQg4hyWM0fP+b74eabcpQFqHL777TO16eTkwaPNnzTe2fQ4xa97K/WiIOieDgMU6i/zlahSRo1w1re3nwt0ybrJyDpFzZ4lK+XEmppiHtBfLnsU7HeAULhIbDdu7aK199M1jWrdsiKzXRn50DziNqAR72DSoWL9pEMtrX69knNFw9mXz/03C5rOvcVcXKB++9ZMQs+lKzRkXzg3pcDevoUQYGTz8EL/Z9twz9/VvH/qhOBEDQI+dAEu0vJjYsg+DOkT2b9THGK5LHPf38OzrZEGqOV6pYRnMa3Kwf2dXr1qka4xpMDOzZe0B+GvSH4YCJERHHxAXamDGDnxTSCAVr20C0q/vTb5qoBqsirJkfMuwvc98zZ89qAsadJqTf8sjjdwHedfS9lE54Wb8XqBuh/Phxtd4v9zUMQKuKTobQvI8Axbr3jRlbTAIkQAIkQAIkQAJeSwAh0whtRyIwrFt/0qUnECxJNRt7UlWbzz7dOdrDLsYLD5EDUQgvLAzJwA4ePGIEqb0aJCfDD9YRuzOIbyvbO3Rf3cadjJiD19kuOvF+wqR/xS99es3ofkCWLlur7dhpJhJwDsIJXtTHHm1t9rKOVI82vMXtOz5ntvJqWL+miv/BEq5ttKxo4QLy1hvPxkuo4xpMDsQm1NF2zBXY22wXpdY9sa48k677DsocIMG6BR62Jsuv4drIXg5vNbKKx8f8tBw83Aihv3Dxotlz3e7RfqbnY7JG10lDlMKLjwkWyzAZ0lk5dX28vdly7J33vlDmUSa6oHrVCpI/X4hV1OMrmGOyASIY+71HqdcZx3LmDBbsIb5tR6iZuFlhE9jJdWIA37u3XntWs8APMCHp+w6Ex7gP2jJ85AQZ+N1vznXej3VsJU92fUTqN3nM3MPi7G5HgZdf6C5FixTUJHmjNLJgj04KZZHaNStLrZqVpJJ60v/X9ytTBzz/Ldv20IR2jnaXKF5YOVyVXbv2mXZhyz+n6fgiguSn7z42Hnscx5hjWUJ8bMfO3aZYFo1iQHJHmvcRoFj3vjFji0mABEiABEiABEjAqwlUqljaiHUrs7bVGQhsbOcFwYl14+1sW2jtVs8lxBK2YINAhkE4zp4+Uuqp2LasW5eH5ZSKeIjm4ycijKCHCLdEJcrhPX4gnBD2jmRyMIg+eH4763p4hHEjSzxe3+zT35y3yqAdaAPE6aOPtJRUqVIaz+ZbfT4za+1Rbvq/C8yPdSHWfr/+Sk9nBnvreFyvLR9qIDmzB6tX9ZhpH9qIH22tufRXzaC+YdM28/77rz9UL3lmEyWQTsUpBCqEuD0yIK77eToPXt8O6GuEI7Zcs7a5q1q5nLzz5vNG/GNZwohRE2WJruM+rZMXldUzXb1aefMKwW5ZWPhhuaZecNSJBH7xtWIamYFJG4wbXsEiQCMlhg/+UpJrhEUvTdiG8HkYwtyxAwD2QK9Vo7J+TiNfDPxFlwKc10mYGZInJJcJpd+wcauJlsDECAx1fvLha/Jwu4fM8gEcw5ijrQM+/180fxyNabhPbPutl9QtA7G3O0LaL0a3O5dOMAz5ub9E6Pev98vvO9fHZ1BvOZZ6NNI1/Fgbj8gRrGmHpUubVuq5ePZjtuLmJ4wRLCR3zpsH+c6rCFCse9VwsbEkQAIkQAIkQAIk4P0EkBEemd0RLozkYFlVYMLGjJ2qXvJrxuuN/ciRRMuyNi0bm+RlruG+CHOH+IewzpIlQPqoaHRnEGjw5mPPc4TaIxQeogxrmSHsc+UKlprVK6n3t5Wup85sBD+2Fps1Z4kK+ytGqGELuRrVK0hjzUCOtcXYj92yLOq1xvp6JMZztUAV9pPHDXJ6813Pe/qMNpYvVyLWIpu3bDdiXYtJw/o1YrQp1ov+w4nSmiBw/qw/Beuj4fHHmnZ74jJMEDzdo5P58XSbE9FCEhMJ8EDH1xrUq2bEPZYiYGIFyfte7NXNJH1DHeP//EnF7yk5o2v2EcFhHyOch1ca2+xB6GNpAvoAxpbXvJj258vP+jj3TMekDAQ6tj5roRMnVvg56rodw5pxhOQjuSImd5AgEZEjCGPHZMP0KcPMnvNYLw8RjzZZhkkERFDgWJ3aVUxUgXXO0+ulS7rEQC1LZsfklqeyPJcwCVCsJ8xxYatIgARIgARIgARIINESKK9i3bK1moW8aeM6RjwN/X2s8aojRN3KmG2Ve7RDC2lQv7oKjwDrkPM1YwZHiO/58xedx1zf+PmlM15UJCWzm6v4t84h/Pibr943odoREadNOHJsHmqsk/5p0Ej5Wrebg6CCzrLvf47Eax/o1mIf9X3Vqv6uvUKUwlKlSnWLML1rN3GpCGLTNdeAS5E4P8LTvCt0n9mHPjau7irBdwMZ6J968lGdJPBzmyQOSd/w486w5R882b/pcguMk5XvAJM3r738lLRt3fQWji2bNxD8/BfDxNO3A94390A2eftEFOrF9wbH3RnahgkffI/sW8u5K2s/lklD3yH0c+XMbj/M915EgGLdiwaLTSUBEiABEiABEiCBxEAgT0hO41HE1lZr1jrE+qw5i03IOtYiw3vpTmy5E+rggX24YUg4h/BoV2+qOXmH/0AcWp7/2Kr4sN+3Jrs8vLMQXbXUU/zhey8bIdm1x+uyafN2+VOjBtpqWH9s2eJjqzuu41g6AEPYuzdZvw9eNRMy8GTfiWEJxJ0YQtnfeeM56aAZ3bHNHL5vxYsV0qR6Ieb9ndR5O9cgEuR2DW38d+rvckgTE2IZQHztn8lDTdQFlinQvJMAxbp3jhtbTQIkQAIkQAIkQAJeSwCCtnKlMjJz9iJnErLf1KsOsQsv9ROd295W3+AFR524/nRkpFuhf1sV3kbhJcvWyB+6/zvujURu333dN0ZYdyvdAg1iHYILIfh3W6wf033eYVjn7E2WQrcqszLmP4h2I6FdfJPaPYj2ud4TSw3syw1cz7v7jKRyt7PEwF0dPPZgCVCsR/NHIopfBo8yM23IJgnr9dJ7JoTJhKVoFsUC+kvdrEld576e0Zfe8rL/UIRs3H5Adu0/av7HUTBPVildJLfkyhYzbCvi9DnZoOVOn7kgRfNnl0J5s5ktGqwK8Ud/b/hx2b5HE3DoLHH+kKxSTMvBZi7eLPsOnTDvsaIlo19ayR7kL1VK59dMktdl5JSl5n6Na5Y0ZfDPZU2kMmLyUsmfO0jqVi5q7ov7ox0FtO4i+YJ1j8fkJsPp4LELnNe5vkmbOqVuwXFF8ubMIg2qxdxLFH2et2KbNKtdWnJmvRl+NOafFaaNTaLbg/6s13vvO6jr1AIzSPECOTSD581MpOjfqTPnpUOzm2uYDh07LdPmrzftr1elmLNZc5Ztld1hx0yfCmo/LEPSkiHjFkrZoiFSsWRec/j8xcuyeWe4hB85qclXUkkZHRdws9vOfUdk594jklzXoZXWa4OzOGbr3dWH6xav2Slbdx+SRtVLSJ4cmT2ODdZWjZi8RC5evnX7FdwPLI6ciJTHW1U3Y2G1a/rCjeZ4lzY1ZPaSLbewQbl1W/fLmi375LEWVSWNjhGNBEiABEiABBIyAWwRBrG+P+ygCYeGl1P1ttnuy122bU99gcfdEuvHVby688p7uv6/nJuve3pbmeVbNK/vFEdYEz1a93L/csCvpno81yEr+N02a2/zwMCYzzN3+z6sjwRI4P4TuJkV4/7fO0Hd8eixE+Z/GNg/0jKEY2GrDcxUbt++W/p99oM0btHFbeIQ65rNu8Jl8F/zjRDNnT1QcmbLJGs275Nfx8w3otsqd/zkGflp9FxZsnaXEct/qLgeOn6Rddq8jvt3lRGba1WEbVMxiDLL1jn2fDym1x86ekqFpL9uJ5JG9qvohaD7YdQc8z+6dGlTmbrPnr/krBP1QPznUBF9KvK8/DJmnixSoQlRPG7GKhmkbUT2VYj/QP/0zp8jxyMl4tQ55+eMej8I/5Ub95hZZOcN9M2mHWESdjhCAm3CG+cPaltxHIZ9UyHeJ87ULKF674Wrd8g3w2dKmApoy9A/tNWy8xcum/4fO3lWyhXPYx02kxhL1+0y/V+zea/zuHmjiTjA5WhEpPl4+Php+WHkbBX8G+TgsVOyRPv+k/LChIFly9aHyu8TF0vogaOyTSdJvh85S1ZscGx7gQ1L7fXhGozLDOWeJlUKCVGhDvM0NuCWKUM6J0twxrWo95RO2uTS78yesONGeJvK9J/IcxcFfQR37N/qysYqd/rsBcPs8pUo6xBfSYAESIAESCDBErA8zAhdH/jtECN44X1+4rHb86qjg1k1IRwMgh17Ud9Pg7cTQhzifMrfs01W71d07+8K1VpJX12nfunyZfNs9cmHr5vtxe5226xM9lmzOBjc7fpZHwmQwIMjQM96HOxr1aioiSB6mlLbduyWp597R15/+1OZO+OPW/akhNCdOm+9JqpIJk+2q2VEMS48oJ7238YvlL/nrpNCebJpNtEksmXXQeOdfqlLY8kS4Gc8oka8quDyVy/57gPHZP22A1KqcC55uEklSaLXLFq1Qz29uZ0tTq0ir0XdMs7P89WjPWvpFuPlrVOpiPEgQ1DXr1oMOlOWr99t2oQ2zFi0Sc6oCOzVuYER/GvVIztexTM8s5XVO9+uUQVnvWh/ehX/9mNzl28VeLQhwnNGRwzgHvBK58mRxaNn97B6yLeEHhS0saF6o9EOiPV/tU09Hq7tvK/1Bh7tUVOXmXJd29Y0fKxz8ORfUi91vlxZzGQI9qxEdIA7QwQDJgpe7NLIiGV4182EiYp2eMRhEPxZM2eUFx5vaJiNmLTYCGcwcTVMuIydsVICVHCbMbIV8DQ2zW1jhkvG66QMrE2DciZaYW7AVlmmY2Xdc5WOIRpTW3nRSIAESIAESCCxEMBWZhDnELnwsMOQuOyhpnVvu4vBwUEmfB7rkbEH+P00JMIbP3G6HD5yXJ/tLsmMmQtjODOwj/ZH779iktvd7XaBneVoCtIoUBoJkEDiIkDP+m2MZ9HC+eW9Pi+YvTix3YirHVLPLTzZVcsUcAp1lIGHvWLJfALPp+Xlhbc0hYZEw7MKy58ryIhDeFhhW1XMpkqZXCDsIO7h7a5VsbAgBD02K6xh7LBIFaXwuCOsHWIdYfGhKmpPnDprBDLKQKgGqPcb5WAI08f97F5mcyKWf4oXcOzXuEPDxS2DCEf/ixfwnDjD8qCXKJTLXJpBPcZoKzzvENOuBk842tWgenETAm8/v2lnmJkYqF6ukFzVyZId6g2PzbDU4OWuTZzMMckQpGHnEZHnnJecPntRsqlYh4E5Qv3BCgzthgkCLClApleEnUOcezL72NjLYbIBEQ8VSuTVCYcg4xGoXbGIYCIAY4YJoJWb9kiJQjmd7bZfz/ckQAIkQAIk4K0EEDpesXwpZ/PxuXmz+m6zezsLxfImZ45s5gw83GG6Ldv9NHjWsV0YtubKmSPYRAggWdnzzzxujk/86+d7ItTRR8eWXo5npyyxZBK/nyx4LxIggbtLgGL9Nnk2qFddsH/kjl3q7XQxrKmGwRvuatYxeKJhEI4Ql3/PWyfwBiOcGqLcWtd+NOKMEdJYxwxBB+9zXIY6YAiLh9WpVFTOXbhkPMMLV203wrSorg2HQfRfU6FpGbKmQrgf0/vGx7JmzmDE4869N8XxDn0PgWvdI7Z6rAmHKJ0NtgzCGYL4pK6ft9tq9XQjDB0CGiLWbii/bfdhKZI32Ky5x2TDJl2P7slQxjIIYXjbgwId4hzHkRMAHDdqOD8mDjAZgbZhHCzDfALC+LHWH95ueOLjMtexQXmM++TZa8UvXWppWuvmwwomTrB+H0sUEOlwQZcAYCzthlB3hPXbf+xLHuxl+Z4ESIAESIAEEiqBNq0aO5sWFRUlj7R7yPn5dt5gjTq2woJY371n/+1celfKIsEdHDrzZ42WbRtmyYy/f5eXX+gu2JMcofn3yo6oN9+yuDLWW+X4SgIk4D0EbioX72nzA28ptooIC78pUq0GYW03DJ5iV8vg5zhmlUEoekn1lsLzDWEIT22jGiVMSDWuPapJxhDK1X/QNLmqok7/0hsv7+OtqjnDvCHYkFTsgiZN26ueZ3hiIRyRUA2WKzjAeKJnLNpo6n+kqYbTmzOOCQWEoiMcvph6wjftCDfe61QpPXuIoy83L8UL5jCh+VhPjjXyEOs5VNhibbUnsxLZIewdofAQmVg+AMO67cyZHNlMcXyKLh2AYfICkyH2ZHAIuccacLQDYrqwinYkegMXuyg3Fbj5Z5VOBEAwW0n7UASiGXVAjE+es9Z4tp9/rEGMq1erp9vytGPsEPGQTMfKbnGNDcpiyQLyBbh65jFpU6tCYXP/sMMnzcQOJkfshnZ/r+vv3dkNE6Ph7gyPkQAJkAAJkEDCItDiofoyeOifJsFcDvWOly9X4o4biMzeW7bulOMnbubAuePKvOTCg7qVl5VYL3u2IC9pNZtJAiQQXwIxFUZ8r/LxcpFnzrndOgHrumHuPJznVHjCIGphSGQGsdy4RkkV7bmMV33Vpr3Ggw6P7iUVoci43r5JRenbu4201vXMezTjueWhRR0Q8VM1O/oCXcuOmeQmKjS7arZwiD3LkPUdEwEIty9p8/hDMFcvX0jXxe+XQX/Ok/CjJ40Q9s+Q1ro0zldkcIdvHiIdEwbhR04Z4R/XhVhT3qp+OSOUh05YJDOXbJYSBR1h9Zlc7p8+bWp5umNdI8anzF0bQ4YimR3suIb3gycELLzl2/fEHf6GjP3TF2w0OQQsLghpHzV1uRH6bRqWNxMfEOULla/dcAyREi3rlTWRCFbSP3uZuMYGofW4DhMNxaKjHezXl9ckepj0wWREHR1DV0urmeyxrt7+U0WXX8AciyZcr+BnEiABEiABEkh4BFKqk2DksIHyxadvy4QxP/2nBn795bvS9fH28n6fF/9TPd50MRIhWxYcfHNHHOsYX0mABLybAD3rtzl+mME8fjxC8oQ4xKX98mzRW3zBK4610HbDdlwwhHMjYRq8ypV0HTu8srCyxUI0Y/w8mb9yuxGBgf5+mjU8rdnSDOexphkJ3RDmjTBpWHoNn36rZ3PzPrZ/sOYahgRqyCRuGbYQa6biHlupXVYxj62+kOTNWsNulfP0annRsbWcNasLAe/O0Ge7ldFEefiByIfwRMK67XuTOSMLUBbe8i6ta6ho1j0i1QM/Wz3RSAAHFlhCgPtirTgmOSzDRIWdkXXc/oq1+6P+XmaS5mEyxKKCSQdMiCDJHbiV1/tMX7DBZNVHBvoQzT0AQ8RC+8YVzaQIwvQxLhDv9ogKT2MDFhNmrTFtb1G3rL1pzvdYloBcB7s0egDZ+10tmfbTNfzemixyLcvPJEACJEACJJCQCSCE3R4Of6dtzZsnl/zv7V53erlXXndAt72Dw8YsZ8zmeObzyo6w0SRAAm4J0LPuFov7g8i42f+Ln4xIa9Wi4S2FcgcHmqRxc1R4wstrGTzb2HscIeYoA485xGZK2/pprFVPrYLZWrOdTQXqHt26zKoH5VFPbJnOrXvF9hrbeikIeAh1eJpP6LZoVnK12OqxH4fIhVcYa+ohkLMEZHCGsCMhHNoMQ5g81obbxaw5of9AqKOPG7aHmT3G7RMKaJcV/l1TowCQEO9f3X8d/CCscR089K92a+L8QSg8BC5YuTMIdey9jv+xddOM/en0/pZFagJAmLUUAP0rqMsVYAhXtwxr2PE/RTBtrmIb7fhHt2+Lr8FTjwkdhNxjvXpsZk0ixHaex0mABEiABEiABHybQGjoPgMgS+ZAk1nft2mw9ySQ+AjQsx7HmO4/cEjmL1wu+/aHy9/T5siGjdvk2Z6dBduNuBrEaAsNjZ6gW6AN0/BueGYhCler5xf7mmN7LysMHt5SrFeHAM0elEnWaTg6RGiBEEcIU7VyBTUj/CEZPmmJVCtbwITMQxQifP1uGLaOW6BJ5+pVKWaS0M1V73Bm3UKuSplbtyjzdD+EcSMEHeIZ689hx1X0Dxm7wOw7Do/0Ft17HmZtj4ZkecN0L/NKJfOKv+45vlyvB5/u7WuZcu7+MZEAtUvLSN1rHmHzF5SVtU7dXt5KEIflAlZSP+s8EsJBqOP+VZXpvoPHzQ/OF1KRD2EOAY4t9upWKWrWoYMLjmFrOHcGbzsiBLDNHvqDjO6eDGywxR7E/jUNp1+l69/thnwD6CuNBEiABEiABEiABOIigOdTGKIKaCRAAomPAMW6y5gmcUkUNv3f+YKfIN0Oo2CBPPLLD/2kft3qLlfd/Ii1xlj7vGTtTiPaccbK9g1RZ1nnltWik5itM4Ie27hVK1tQINJh8MBjnTpCv//QkG2ch7C2BKh9XbpVp6dX1/II04bgHTF5iRGjuTW0u52Gdrvz3Ltea79PiIbXwzuOcHZr7TX2jW+j+7RPV28z9hBH8jWE7lcq5ZjggBhFiP9U3ZINkxmYsMAacdRlmbt7IoM+EvMh7B1iFxMbronkimgZeOeRJM5iZdW5YfsBZ1Z913XmCIeHUEYCv0maof13nUyAYewwVpl0UgHi2p01qVnK5BLAFnO9dR25u7Zb1yHiwEpOhwR2roa1+5ZYR4JB/Liap/pdy/IzCZAACZAACZBA4iRw7tx5OXU6Up/jNBJQn1FpJEACiY9AEhVLyBFGu8sEAHXm4k0mOVkNDeFurGvD7SHe1u2QNRzbq0EMxibC4BHO6JfWeJKt6+7WK7zMmAhAyPndNjBAWD8Er7tJAISqQ+QHRO81f7fv/1/qAxe0P67M9v/lHryWBEiABEiABEiABO6UwKbNO6TNI0+by/v+70Xp3KnNnVbF60iABBIgAUQuU6zfw4HBPAjCtpEIDWIVHmeEvMNjTiMBEiABEiABEiABEiCBOyVw9epV+eHnkYIkcx+8+7L4+aW706p4HQmQQAIkQLF+nwYFmeB3qGBHkjIkcLO22LpPt+dtSIAESIAESIAESIAESIAESIAEvIgAxboXDRabSgIkQAIkQAIkQAIkQAIkQAIk4BsEINZvzV7lG31nL0mABEiABEiABEiABEiABEiABEggwRKgWE+wQ8OGkQAJkAAJkAAJkAAJkAAJkAAJ+CoBinVfHXn2mwRIgARIgARIgARIgARIgARIIMESoFhPsEPDhpEACZAACZAACZAACZAACZAACfgqAYp1Xx159psESIAESIAESIAESIAESIAESCDBEqBYT7BDw4aRAAmQAAmQAAmQAAmQAAmQAAn4KgGKdV8defabBEiABEiABEiABEiABEiABEggwRKgWE+wQ8OGkQAJkAAJkAAJkAAJkAAJkAAJ+CoBinUvGPmjR0/IB/2+kW3bQ72gtZ6bePb8Jdm2+5Bcv3HDFNwSelD+mr5SrkZd83whz5IACZAACZAACZBAIiJw/vwF2bBpm7NHy1aslY8++U6uXbvuPOZLb4YMHSN/jJ50T7p8IOyQhIcfvid1s1ISuJcEkt/Lyr2p7g0bt8kvg0fJO288JzlzBieopp88HSkj/pgolSuWlaJFCty3tu0NPy6zlm6RkOyB0rhGybty3xmLNsr6bQeka9uaUjAkqxyLOCMbth+QZrVLSYrkyW65x6Fjp2X7nkMScfqcZMnkJ1XKFJDUqVKYcqgn8uyFW67BgWrlCrqtz17YU90od/36DVm9ea+EHY6QAP/0Ur54HsmQPo2ziriuX7YuVK5cjXKWx5tCebNJcBb/GMf4gQRIgARIgARIIPEQuHLlqrzyxkdSpVJZ6dypTYyOQZz/8usoefmF7jJShSnE6fg/f5LSpYrKtm2h8vvI8fLGq09LsmQpY1x3Nz8M/X2srFqz0VSZNGkSCQ7OKiWKFZKWzRtIkiRJ7uatbquu6TMXSAa/9PLYo61v67r4FG7/6HOSKmVKWTT3r/gUZxkSSDAEKNajh+LosRMyc/Yi6fXsEwlmcB50Q9Zu2Sf7D56QwyqY61UpFqf4jU97K5bMJ35pU0uubAFxFl+2PlT+mb9BUqdOKSlVyEOcr9m6X158vKEk188Q+QdUSNvt0uWrkixpUiPq7cdd38dVN8r/+c9y2bLroAQFZpBNO8NljfJ4pmNdSa/tj8/1/y7eJIgfSJ7sZgALJiQo1l1Hg59JgARIgARIIPEQSJkyhRw9FiG/qSh2FetT/5krCxatkC/7vyNtWjaStGlSS8ECee5r5zFhAC9+a73/6dNnZNacxQIBP3bCPzJ8yFeSVJ+jEpu9+HxXnQC51SmU2PrJ/iQ+AhTriW9M70qPEIK1VcPV8+XKInvCjsuOPYelRKGcbus2Ae0a1u5pNhZh70l1tjZPjszmx21FLgfDj5w0nuhOLaqaa2cu2SwLV+0QhM6XLpJburSpEeOK4yfPyrcjZkqN8oV09tTzVzuuug8fP22EetWyBaR5nTKya/9RGTZhkazZvE9qVyoicV0fpfwQ2t+oRgmpXbFIjHbyAwmQAAmQAAmQQOIm0LhhLen/xU+yZ2+Y5Muby9nZ+QuWS/Wq5SVt2jRSpnQx8+M8eR/fZPLPKO/3edF5x379v5ehw8eZJZfF1cue2OxeeOsTGyP2J2ESSHxTZ3eR86Aho6Vlu6ekRLnG0rFzbzMLieqxhvzdvgOkaq22UrlGG3ntrU/kmHrmYV2fel2+/WGYeY9/rl+/Li3a9pC/xk1zHjsdeUbe7NNfKtVobX7e/3CgXLp02Xn++ImT8vLrH0m5ys2lVv0OZrbTedLNG9T3Vp/PpFqd9lKtdjtTN2ZKLZv89yx56tm3ZMmyNdKhcy8pVqahadPuPfutIre8QpzCS12jfGETdr5xZ1iMMqOnLZfpCzfKpNlr5ZOf/5YPf5gso6Yuk4uXrjjLoczC1TtMuY9/nCJjZ6yUVZv2yo+j5sjlKzHDw50X2d60bVhBOjWvajzlmAgoWzTEnD0Zed5W6uZbeLIzpk8rdasUvXkwlndx1Q2POqxGOcf/sBCyDw87JgpgcV1vcYAXnkYCJEACJEACJOBbBBo3qGk6PH/BMmfH9x84KHv3hUkjFfIwPJ+1at9TLl+++ezkLKxvsMa6Xcdnnc+V69ZvkV4vvy816j0sxcs2kse7vSKHjxxzXoLnvJ7PvW2eWxs2e9ws74zv+veWzRuaenAPPIdioqFZq25SpFQDqd/kMZk7b6nzPmh3z+ffkUWLV0mTFl2lSs02ckOdMvF5BsY6/fc+GCB1Gj0qpSs2M+0FF8vg1f/xlxHmniXLNdHlBB9LVJTjmXH7jt3m+RVLVy1DG/CcjWdzWGxtw7N634+/sS7jKwl4DQHP7kev6cbdbyjW8nz+1S/yYq9uUlZnPqfNmC+HDjn+IH759a+yeMkqefed3sabPEaFuJUgbVfoXskWlNnZIORRQ2I4/OGDXbx4SZ586g3BOvTez3aRM2fPyW/D/hKETPV5q5fgj9iTPd+Q8IOH5dmenSUgwF8G/zbGWZ/rG5Tv2uM1OXz4uLz6Ug9tj8hXXw/We+6W0cO/kXTp0kpExCmZv3CFrFu/Vbp1edisfR8ybIwM13XwH7z7kmuV5vPGHWFGpBfIHSSF8wbLVhWpWH+dMoXjKwMv9mYNDUdId80KhWRb6CHjiYY4bVmvrKkDZXA8bZqUUk091CHqVYdH+uDRU8orKk7vdzJb+DgqPHHqrKk3KCCDebX/s/9QhElc17ZRhXiF68dVNyYEsD7dP0Na521yBwc6xXpc11+K/h8v1v2f1PX2qKdA7qySKWM6Z318QwIkQAIkQAIkkDgJ5MqVXYoWzi/z1JP+ZNdHTCfnqXDH80P9OtXMZzyfbdm6UxPK3ZpkF893EMSwJ/XZDfaNOoPSqUf+tZeeknPnzsunKqjxDInnxwsXLhpHD9ae//Ttx7Jz1x7Zpsb2yHYAAEAASURBVOIWa9LjY6tWbzDFMmcOlHnzl5l2P9qhhWQODBA4r979cIDUq3uz3RDJa9dtlkfaPSTFixU0z8PxeQbuos+sO3ft1WfcxyRnjmAZNWaKnD170wkzf+Fy88zc7Yn2snjpapkydbZ0aN9cKlcqY56h8UwNJ5VlkWf0WVOPXbh40RwCU3dt27c/3KyHt67jKwl4CwGK9VhGas3azeZM82b1JG+eXFKjekVnSczsZc+eVRrUq2FEdtPGdZzn4nqDP9QbN2+XUb9/I5UqljbF8Ydm7Php5o8t/kjhj873X38gTRrVNueLFy1oZg3d1Y3ym7fslAGf/88kBkEZhFa9+OqH5g8t2g/DjOfIYQOliP6PA4Y2LNf1Su4sSsO3kdStSL7s5n8qxQvmMOvDt2sofKnCN0O5smbOKM92qmc837UqFJZBf82XnfuOxKjyhq7a7tyymuSMXqMOsX4nhjD6pZqwDWu+C4QE3VLFuq37dFIglZS2te+WQrEccFf3uQuXJI2ulbdbWv0Mjzlmqe1i3d31V646/se758AxSaUJ8ZBIL5VOyDzeqprkzZnFXi3fkwAJkAAJkAAJJEIC8KD/8PMI44iB8wQh8BXKl5JMmTJ67O31G9fVo9xPTp48LePH/Czp0zsm+of83D/Guuut+ryI9e8Q63AKoXyF8iWlZo2K5sfTTc7pZMC06XNV+J4VCHU4dcqXKyGNGzoiAtq3bepcu+7vn8E4hnbs3COFC+Uz1V69elWeeaqH9OjWwdNtYpxDW9dv2BrjGbfFQ/VjlMEEx19/fK/PTimlZYuGUr5KC1m+cp0R6zEKevhwJ23zUB1PkcADJcAw+FjwQ+TmUEHevE13E1aOmU/LejzZQWdCd0m9Jp3MH2H8cYyvrV6zyRQdP2m6qRfh8Js2bTezivCyw/udPHlyqRc962oKw10ei2FSAcKxVs1KzhI1a1Qyf8xXr3XcyzqRW2d5LcMf24OHjlofY7xCcCNMHSH8SKRmebThbbdbGhWhSOZmGdajn1KPNDK3W5ZLvdGWULeO3cnrzEWbBF7q5nXLGNFrrwNZ27eoB79Y/uwm8Zz9XHzeu6sb/UL/7XZNJwyw7t51ltrd9TmyZpJenRvKa92byYtPNDLvEZmwYOV2e5V8TwIkQAIkQAIkkEgJYN06QrgXLVltPN8rVm2QRtHh8Z66/NXAwTJn3hJ5tENL8yxqLwtPc6+X3jPLJLHEEmvi4ZkPyZ1D4Dwa8M0Qs3QTiew8hcBHqnf640+/N5npsdTwPY0W/eWHT4yHHJ8363MvlmniObibLvGEQazb7dFHWtg/xvl+1eqNxsnVoF71WMtmyRJohDoKIDN8cLYgjTaN6QiK9WLbidttm+1SviWBBEXgptJKUM168I3JmSOb/DN5qNk+A+t3Wj/8tNk+DS1rpet6pk8ZKo3q15Rff/tTmrbsJrtC9zkbDW9ybIYweFiunNnNH1b8ccUM6CsvdlcRmlLgZccfSVehGGt9utYd2S1Tp0rlLIJ6kC39UvS9nCdsb+wi23bYvN2o4e0QpAc1Czy82as1qRq2S9tlRPxV1+LOz9Y6dHjxLYt9msEqEfcrtk9btGanlCmaWyqUyHvLBfDWX7h4WXIFx51h3vXi2OpGCPy5CzfzCOC6c7pHfPp0qc34WPXEdj3OB2fJ6BT2eI8M+AcO31lkgXU/vpIACZAACZAACXgHgUIF80qekJwa6bjU5A2Cx7dh/ZjJcd31ZNiIcSbxHLLJHzly3BTBc+GLr34gb7/7uRQqmE+++7qvPN2jkzlnPXd9O+B9Gazed3jiX3rtQ+nS41UTWenuHjmyZ5NlCyfIwjljZOAX70rb1k3EP6NjmSHWfbfv+Jyc0JDy11/pKSOHDnRXRYznIauAp2dghOrDrrpsa2td6+41qcuSSJSx+uuuvHUMz9I0EkgMBCjWPYwiQpa6dG6nwnyYVKtSTrDO2zKExr/X5wUj2s+eOycTJ/9rTgUGZBKsi7EsIiKmOCunIUawMrqf5nNPPx7jByE/uXSPd/wxX6PrgCy7pmHpsRlClrCf59Lla51FEC6EZCXlNRTqdg1r75H5vaiGwL/arYnzB+vQkeEcGeJjM3jkIeoDdT/0u2XYLm3SrDVSKE82k9TNXb0RkQ5PfjY3+5ejzbGZp7qzB/mbkPew6LB9hLqHHjgqOG6Zp+sRjXDN5pkH12Mnz0jmTOmty/lKAiRAAiRAAiSQyAnAu45167PnLpYSxQtJdt3TPC57543nZOigL8y2bu9+8JUpjiWYM2YuNM+NLzzfVUqXLOr0QFv1QaDWqVXFCHbkJFq+Yp1ZKmmdj+/rN98PNcsmvxvYV2rXrCyZM2eK16VxPQMj+z2eWRcsWhmv+lwLIY8TzP6cfcLlOdv1Gn4mAW8nwDXrsYwgwtMDMvlL+7bNNLHaVbNfJkJzEPL+1LNv676ZraVq5XKCjJSYIcyS2eHVrVK5rIwcNdHsVRmga5I+/fynGHeoW7uqCel5/6OvBeH01atWMOt3UqdOZUKjWun6HKxv6qvnsec72vBx/+9i1GH/gD/K2bJlkS8HDpKMGfx0llPkiwGDJGvWzOYPtr1sfN5DqCNcG+vU7YYkc/DGb9oR7szKDiH7r4an59MkdEhAh0Rq2DbtduYysX867OiJM5I+d8zM6RDDE2euNnEKhfJmk7W6Lt2y8uphR0g67PSZC+Y1fdqb0QU4gKRzv41bYLZ5Q+I5u8VVN7z4yC6PiYKH6pQ2e7yfV0975dKONf+eri9TLEQGj11gEtRV0fJYs75q4x6TXb9EwZz2ZvA9CZAACZAACZBAIibQSNeA/zJ4lDp1ZspLvbvFq6fYZgwOHKxFh4ccoe81qmkC3RQpBJnTIVaxTzo875bNnL1I/hg9SXo918WEziO5HMx6PrXKxec1t0Z94h47NBHcaU2I7PosG1sdcT8DVzHt+WLAL5IhQ3rJpGvhR2uCuVo6IeApNN66H6JRERY/fsJ0yZ83REJ375PPNBk0jQQSMwGKdZfRTRK9BrtcmRLy7Y/DTJg7iuRUj/fAL9+V5JoNHVkv39VtJ7DdGraYwB+YjtHrdtppGNGGjVvl7f99bjKxv/zCk/LnX1Od4dCZAzPJiKED5FVNHPL+h1+bcHd48F/UWVIY/hB98enbpv5X3+xn/lgjI+befX866zAFo/9BfcOHDDAZQDs+3tscLVqkgDnm6Q+0u7AiXAzPOdbAQ5zbDR5z7LkO77KV+T65ht9jHTu2Z0PYffnieaRJzZve/GQaSg8+nixvriCTYX7S7DXy6pNNYxRdsnanc0HB1Hnrnecwc1yuWB6RZA6xflbD02HpNcGc3ZJrP6xogLb2E/o+rrqRDO6J1jXkj7+XyZBxCw2ThtVLGA8/qorreuwNjzZP1H5hTT2y6NepXFRqVSzs0hJ+JAESIAESIAESSKwESpUoYpwqCGePz3p1OwfkTxo34R/56NPvZO6MUdKze0fN/j5WJkyaIfnzhcjD7Zo5t/dFniV4rTs98aIJE0+TOrWJAIVDx9WSJXU4SlyPW5+f7vGovPnOZ9JC16sjpP4ZDbdHBve4nuniegYO0t2Sfh/yleD5tkt3R4g+nq+bRCdqRv1x3eOFXl3l6+9+k249XzfPzJ/1e9PUZ7U9ttf41B3btTxOAg+SQBJd93FzgfGDbEkCvTf2bYQDF39g7IakHWHhh8wMIcS2qyEZRjb1biNZXGyGhHKRuh96Dl0f7/rHCclC9h84pNtaZDPJOGKrw34cXn+sFUIY0r22b0fMEiSY6/FIHeNRxxpvZGq/E7t0+aqc1zXngf53P0Qc3vFDuva+W1tHdtPbbR9+OZA0z0/Xqt9J/zCxAc9/oIa/W5EAt9sGlicBEiABEiABEiABEMC6b+Q3gofZnWHLt6PHIoyQte9c466sp2OQB9jnPbuubb/deuLzDHzqVKRZsuluMsFTu3AOz8iHdfIDz8g0EkjMBHbsPSwU64l5hO9h3yyx/pSK9YRqKzbsln8WbJBHmlWW4gVihvUn1DazXSRAAiRAAiRAAiRAAiRAAiQAsR6725d8SMDLCSD0vKt61LmvuZcPJJtPAiRAAiRAAiRAAiRAAj5IgJ51Hxz0u9FlbJeG0H17dvS7US/rIAESIAESIAESIAESIAESIAFfJ0DPuq9/A/5D/3PqnuE0EiABEiABEiABEiABEiABEiCBe0PAc6rue3NP1koCJEACJEACJEACJEACJEACJEACJOCBAMW6Bzg8RQIkQAIkQAIkQAIkQAIkQAIkQAIPggDF+oOgznuSAAmQAAmQAAmQAAmQAAmQAAmQgAcCFOse4PAUCZAACZAACZAACZAACZAACZAACTwIAhTrD4I670kCJEACJEACJEACJEACJEACJEACHghQrHuAw1MkQAIkQAIkQAIkQAIkQAIkQAIk8CAIUKw/COq8JwmQAAmQAAmQAAmQAAmQAAmQAAl4IECx7gEOT5EACZAACZAACZAACZBAQiUwZe46WbY+NKE2j+0iARL4jwSS/8freTkJkAAJkAAJkAAJkAAJJFoCu/YflXkrtt3SvxTJk0m3tjVvOX4/D2zbfUgiz/pL1TIF7vptr12/LkPGLTT1JtF//dKlliwBGaRs0dwS4J8+3ve7ceOGhB89JZn1mjSpU8b7ugdZ0Bvb/CB58d73jgA96/eOLWsmARIgARIgARIgARLwcgLnL1yW/QdPSNIkSSRQBaf1ExSYwct7Fkfzb4jp96XLV02fI89dlAUrt8u3I2bJ2i374rj45ukLF6/Iz6Pnyu6wYzcPJvB33tjmBI6UzbtDAvSs3yE4XkYCJEACJEACJEACJOA7BBpWLyEh2QM9dvi6epEh6v+rxVUPPL9J4rhPXHXEdd7qQ75cWaR5nTLm4/5DETJyylL5e956KZw3WNKlTWUVM6/u6rx4+UqMMq4f3F1jLxPXeXtZT+891eN6Lq42e7oPz5HA3SRAsX43abIuEiABEiABEiABEiABnyKgDmhZoGHyG3aEScTpcyroM0utioWlYEhWwyHsyEmZPHuttKhX1in2t2r4+rzlW+WxFtXEP0NaWbVpr2zaGSbVyhY0IfeHNGw8MJOfdGhWSYKz+Jt6INBnL90i67cfEHj7C+bJJhcuxRTCVlvWbTsgpyLPS/as/tKqfnmtI6OcOnNe/piyTBpWLy5L1u6SveHH5dHmVaVY/uzxHi9MVjSpWVImzFwtKzbulnpVigk87otX75Rd+4/IiVPnJKNfGmlSo6SULJxLEKY/a+lmU/+MhZtk/orthk1IjsyxXmM1BtcuXLVDQ+hPmvD7/LmCJOxwhDzVoY4kS5rUcNoaelCef6yBdYlgDf+Fi5el40NVzDFPPFBgx97DsmxdqOwJO27aXbZYiGTNnFHmLNtirre3uZT2h0YC95sAw+DvN3HejwRIgARIgARIgARIINEQmKZe5lkqonNmzWQ80JfUkzxi8hIJ1bXusCtXouTw8dNy7vwlZ58vqsg+dOy0U2yfu3BJdh84Jn9OWy65VRCXL5FXhf9ZWaqi2rKpep/5GoYO8Q7BfOVqlERFXbNOm9fpCzao0NwqubIFGFF+XkPQf5+4SK5quWvXrpt2/PH3MvO5vgpttPl2rYyuWU+aNIkcPXHGXLpBJw827wqXkoVySfO6ZYyQnqyiGd7qDOnTSNbAjKZcruAAKVEwhwmp93QNCoPd6KnLDZ/GKvwh1Fds2C2Y+LhxHRJcdK3+RTmsDO12UidLwNUyTzwwBn9NXymXdXzaNa4gJQrlFEQOxNZmq06+ksD9JEDP+v2kzXuRAAmQAAmQAAmQAAl4JYHfJy42ItVqfJc2NSSLer+Xq4hEqHi7xhXNKQjST3+ZKovW7JQC0d5165q4XlFn3pxZTLGjJyKNgMcHrBuHWIW3/rGW1QSB9lU0qVz/QVNNWavMUvUSwwPcvomjLdlU2A+bsEh27Tsi1hp7rLnv3q6WJNcEeXdi8GpD0MJTD6tRrpCJCEiezOEDTJcmlZl0CFdhnTs4UCroxMNGjToorlxKFMxprsGEA6IIYrtmsbJLnjypdGtXU/z90pprbsgN4wU3H+LxD5h54uGfIZ3hismR0kVyS2lbne7abDvNtyRw3whQrN831LwRCZAACZAACZAACZCAtxKoWDKvBGRM52w+RCQ8sQhPL5LvZih5WhWr8CIjZBve5duxLAF+zuLZNHT9gNYBMx5lfYX3174i3r5uHWXRFoj8P/9ZYa6zPO+nz1xwivVKJfPdsVA3leo/Fy9dlcw6UQGDl33vgeOydus+be9JgXcbdizijBHr5oPLP56uyaUCH/2F0LeEOi6399WlOrcf4+JRtEAOyZ87SDAxsPvAUalUKr+U0zD4O53EcNsIHiSB/0iAYv0/AuTlJEACJEACJEACJEACiZ9AMRV3rgnmoq45wtBTpoj5SI3PCDu3QrZBB0L6diyperAtuxS9Nt1TFQh1hyHpGzz+lsGLnVMnDyyLIy+dVSzWV0wGXL7iyBCPQgjVn6bh94V0DT3C89FPhLB7Mk/XgBmWDsSXFsrZJzCs+8bFA9d01a33tu46aKIjJs9ZKys37pFnO9WzquArCTxwAjH/sjzw5rABJEACJEACJEACJEACJOAdBCzxjkRl8LzDsJYcydty6LrxZBoaDk877Pips+YV/yD5Gyy+wjlT9L7m2P7Mug9EMfZCtwyeaFjqVCmkftVi1mHn6wnb/Z0H9U2UTipY4ej24+7eo29T528w4rhs0RBTZIEmgUNofedW1cx6dYS/2w1edBgEuGWerkH5jIha0O3y7G2zogSsOjApAaF+4uRZTUDnZyZHztryAsTFA/Ugcz+iFfCDfACzlmx2bNPnps3WfflKAveTAMX6/aTNe5EACZAACZAACZAACSQaAunTppaimk19x57DRuxlD/KXVeqdhci0RDXC2dOmTmn2Js+oa70RHo717DBPnnI7pBxaL7KUb9FEbhNnJZfC+YLNGnZkhbfML11qk9l9W+ghGf/vKhWguTSRXJRZ996yfjmrWIzXfxdt0nXdu0z2dPTDnaG9a7fulwgV+5t2hpuM99XKFTSh/igf6J/OZIFHRnVkYp+1ZEuMarIHZTKh8qgjky4jALO4rilXPMQkyhsydoGubS8gh9WbD6+33fLp2v75moX/38WbzBis1wz4R7QcJg5gcfHAOC3fECr1KhczGfkPagZ+GNbj+6VLc0ub7UsUTEH+QwL3gUCyvmr34T68BQmQAAmQAAmQAAmQAAl4HQEIQGwRVrFUPoHYdjVsfXZC12lj+7V1KkgvamKzxjVKqFjPZ4rCr5wqZXKBVxzbrsH726BacdmpSd8qaZ0QlfvUiwyxW7NCIbFC6rGOOkzXgMNLjvXaSDyHjPHIlL5JE7bB+5wmVUrjSUeCNBhC9U+q136rCnasId+i4hoJ34qouIdXfPn63bo/ejbJqV5/GNZ1o05441HGbvDcz1MxjCgAbKOGbekCVAgj1L1G+ULOon7KZMfeI2byYJe2DZzQn+LalmCdZIDXPirqumxRhqs379VogBumjKdr0L5Tus4eifE2a5g61sFD4J/TyYm6lYuqkNYkd8oNZbbtOSTbtG4k0MunWeOR+K6qCnyYJx5JtV17dEwQkr9K24V1/Q2rlzDC312bXfk4AfANCdwjAvidS6K/iPFdEnKPmsFqSYAESIAESIAESIAESMC7CSBM+/TZC2Z/dEfgd8z+YA17pJ6H4P0vBlGJTOnwUMdmCI+P0D3PsYe7Jf7dlYUIGDB0htTWfeGRAf1ODXICwhkJ4aywd9e6sFUaxDY83ygTn2uQ0R3r4zNovdiGDfvDf9C7TYwkcKgX/UD0QmzmiQfqP3PukrNd9jpc22w/x/ckcK8JYHkNw+DvNWXWTwIkQAIkQAIkQAIkkOgJIIu4lSHdXWexfv2/CnXUCwEel2F7NWurttjKXlcP9/BJi+WaTjLEFgIf27Wux+H5t2fKdz2Pz2lUTOPHsvhcA48/fmCxeRftdVp1u7564pEqZQpd8+64h+t1rm12Pc/PJHCvCVCs32vCrJ8ESIAESIAESIAESIAEEhgBeLexnvzhppVMqHwCax6bQwIkoAQYBs+vAQmQAAmQAAmQAAmQAAmQQIImcFyzvmOZQQHdGx1eeRoJJHYCCIOnWE/so8z+kQAJkAAJkAAJkAAJkAAJkAAJeBUBiPWkXtViNpYESIAESIAESIAESIAESIAESIAEfIAAxboPDDK7SAIkQAIkQAIkQAIkQAIkQAIk4F0EKNa9a7zYWhIgARIgARIgARIgARIgARIgAR8gQLHuA4PMLpIACZAACZAACZAACZAACZAACXgXAYp17xovtpYESIAESIAESIAESIAESIAESMAHCFCs+8Ags4skQAIkQAIkQAIkQAIkQAIkQALeRYBi3bvGi60lARIgARIgARIgARIgARIgARLwAQIU6z4wyOwiCZAACZAACZAACZAACZAACZCAdxGgWPeu8WJrSYAESIAESIAESIAESIAESIAEfIAAxboPDDK7SAIkQAIkQAIkQAIkQAIkQAIk4F0EKNa9a7zYWhIgARIgARIgARIgARIgARIgAR8gQLHuA4PMLpIACZAACZAACZAACZAACZAACXgXAYp17xovtpYESIAESIAESIAESIAESIAESMAHCFCs+8Ags4skQAIkQAIkQAIkQAIkQAIkQALeRYBi3bvGi60lARIgARIgARIgARIgARIgARLwAQIU6z4wyOwiCZAACZAACZAACZAACZAACZCAdxGgWPeu8WJrSYAESIAESIAESIAESIAESIAEfIAAxboPDDK7SAIkQAIkQAIkQAIkQAIkQAIk4F0EKNa9a7zYWhIgARIgARIgARIgARIgARIgAR8gQLHuA4PMLpIACZAACZAACZAACZAACZAACXgXAYp17xovtpYESIAESIAESIAESIAESIAESMAHCFCs+8Ags4skQAIkQAIkQAIkQAIkQAIkQALeRYBi3bvGi60lARIgARIgARIgARIgARIgARLwAQIU6z4wyOwiCZAACZAACZAACZAACZAACZCAdxGgWPeu8WJrSYAESIAESIAESIAESIAESIAEfIAAxboPDDK7SAIkQAIkQAIkQAIkQAIkQAIk4F0EKNa9a7zYWhIgARIgARIgARIgARIgARIgAR8gQLHuA4PMLpIACZAACZAACZAACZAACZAACXgXAYp17xovtpYESIAESIAESIAESIAESIAESMAHCFCs+8Ags4skQAIkQAIkQAIkQAIkQAIkQALeRYBi3bvGi60lARIgARIgARIgARIgARIgARLwAQIU6z4wyOwiCZAACZAACZAACZAACZAACZCAdxGgWPeu8WJrSYAESIAESIAESIAESIAESIAEfIAAxboPDDK7SAIkQAIkQAIkQAIkQAIkQAIk4F0EKNa9a7zYWhIgARIgARIgARIgARIgARIgAR8gQLHuA4PMLpIACZAACZAACZAACZAACZAACXgXAYp17xovtpYESIAESIAESIAESIAESIAESMAHCFCs+8Ags4skQAIkQAIkQAIkQAIkQAIkQALeRYBi3bvGi60lARIgARIgARIgARIgARIgARLwAQIU6z4wyOwiCZAACZAACZAACZAACZAACZCAdxGgWPeu8WJrSYAESIAESIAESIAESIAESIAEfIAAxboPDDK7SAIkQAIkQAIkQAIkQAIkQAIk4F0EKNa9a7zYWhIgARIgARIgARIgARIgARIgAR8gQLHuA4PMLpIACZAACZAACZAACZAACZAACXgXAYp17xovtpYESIAESIAESIAESIAESIAESMAHCFCs+8Ags4skQAIkQAIkQAIkQAIkQAIkQALeRYBi3bvGi60lARIgARIgARIgARIgARIgARLwAQIU6z4wyOwiCZAACZAACZAACZAACZAACZCAdxGgWPeu8WJrSYAESIAESIAESIAESIAESIAEfIAAxboPDDK7SAIkQAIkQAIkQAIkQAIkQAIk4F0EKNa9a7zYWhIgARIgARIgARIgARIgARIgAR8gQLHuA4PMLpIACZAACZAACZAACZAACZAACXgXAYp17xovtpYESIAESIAESIAESIAESIAESMAHCFCs+8Ags4skQAIkQAIkQAIkQAIkQAIkQALeRYBi3bvGi60lARIgARIgARIgARIgARIgARLwAQIU6z4wyOwiCZAACZAACZAACZAACZAACZCAdxGgWPeu8WJrSYAESIAESIAESIAESIAESIAEfIAAxboPDDK7SAIkQAIkQAIkQAIkQAIkQAIk4F0EKNa9a7zYWhIgARIgARIgARIgARIgARIgAR8gQLHuA4PMLpIACZAACZAACZAACZAACZAACXgXAYp17xovtpYESIAESIAESIAESIAESIAESMAHCFCs+8Ags4skQAIkQAIkQAIkQAIkQAIkQALeRYBi3bvGi60lARIgARIgARIgARIgARIgARLwAQIU6z4wyOwiCZAACZAACZAACZAACZAACZCAdxGgWPeu8WJrSYAESIAESIAESIAESIAESIAEfIAAxboPDDK7SAIkQAIkQAIkQAIkQAIkQAIk4F0EKNa9a7zYWhIgARIgARIgARIgARIgARIgAR8gQLHuA4PMLpIACZAACZAACZAACZAACZAACXgXAYp17xovtpYESIAESIAESIAESIAESIAESMAHCFCs+8Ags4skQAIkQAIkQAIkQAIkQAIkQALeRYBi3bvGi60lARIgARIgARIgARIgARIgARLwAQIU6z4wyOwiCZAACZAACZAACZAACZAACZCAdxGgWPeu8WJrSYAESIAESIAESIAESIAESIAEfIAAxboPDDK7SAIkQAIkQAIkQAIkQAIkQAIk4F0EKNa9a7zYWhIgARIgARIgARIgARIgARIgAR8gQLHuA4PMLpIACZAACZAACZAACZAACZAACXgXAYp17xovtpYESIAESIAESIAESIAESIAESMAHCFCs+8Ags4skQAIkQAIkQAIkQAIkQAIkQALeRYBi3bvGi60lARIgARIgARIgARIgARIgARLwAQIU6z4wyOwiCZAACZAACZAACZAACZAACZCAdxGgWPeu8WJrSYAESIAESIAESIAESIAESIAEfIAAxboPDDK7SAIkQAIkQAIkQAIkQAIkQAIk4F0EKNa9a7zYWhIgARIgARIgARIgARIgARIgAR8gQLHuA4PMLpIACZAACZAACZAACZAACZAACXgXAYp17xovtpYESIAESIAESIAESIAESIAESMAHCFCs+8Ags4sk8CAI3LhxQ9at3yI7d+19ELeP854XLlyUJcvWSMTJU3GW9YYCh46dlvMXLyeYpl65GiURp8/FaM+Zcxfl/IUH18ZTkedvaVOMBvr4h/sxPmfPX5JNO8LkpI5FQrb7wSIh959tu7sE+H26uzxZGwn4EoFkfdV8qcPsKwmQgIPA8hXr5NDhY5IjR7YYSBYvXS1nz56ToCyBMY57+nD58hXp+HhvSZUqpRQpnF+uXr0qTVt2ldF/TZHQ3fukdYtGni6/5+dWrFwvz73wrtStXVXSp08ny1aslTaPPCNz5y2VDH7p5eP+3zvbfs8bc49u8OVv0yVj+jSSM1vAPbrD7VW7fMNuWblxj5Quktt54dAJiyRN6pQSnMXfeex+vpk8d50KxXApVyzkft72vt9rwszVsnTdLu1nntu6990en627D8nQ8QulcL5gSZsmlWwJPSi/jJknu8OOS7o0KSV39vj/jbmtjtyFwnYWN7S+Q0dPydqt+2X/oROSMkVySZ8utSSx3ee6Tk5iwgwTVP5+aSVJEvtZkatR12Sv9vvSlShJnzaVOX9BJ9dQ50GtGz+YyEiZMrmkTpnCsDp+8qwEBWRw3uVYxBnZvCvc/P4kTZpEjp44I8ciIiWD/t7jM2z7nsOy+8AxZ51W3XhFfafOXJAsAX7OOvEGkycXL18V/wxpzfHL2sY1m/eaPqZOlcIcwyTb3vAT+vubwvTfHNR/wo6cNP3KliWjdUh27T8qe7SvObJmch7bsfewOZZdj9nJbNh+QK5fvyF+yhOGSb59B08IJnvT6t8Ku12+clX2H4zQ8tfN98k6F1cbPHGOjRfGYk/YMQkKzCDJkjn8WlE6hqs27ZVUOj6YbMJ42vuNMV6t5zEeKGM3+/fJfpzvSYAESMATAfw/JbmnAjxHAiSQeAksXrpKxk+cIUsXjHc+WEJkQ9S+9fqzUrxYoXh3Hg8zgQGZJE0axwPXilUbZO++cFmxaKIEBNx/Ydauw7Py/rsvSqkSRUwfUqdOJYGB/pIseTLzeeo/c825EUMHSFRUlIr3dc62x7vTLgVd7+ly+o4+3s06Px/8jzzStJLkyZHZtGXqvPUCgdGyXtk7altcF21ToVam6E2hfu7CJRU8p6VI3uC4Lk0Q5115JYhGRTcirrHLlDGdU2DEt933YnwgtiB2UkT/3m3aGW4mk3p2qBtDsMW3jXe7XGxjbGcBITlyyhLZsfeIiuSM5ndm5uLNUqxADunUvIr52wmR9vvExUbIQ6Shv4+3qi7Zgxx/+1ar8LXG7Pq165InZxbp8XBtidRIkyk6gZQtc0ZTz1EV3kmTJjW/kxDHs5dukdd7NHMK2RmLNso5PV6xVD4ZPW25bFaeENP6a2zaUiAkqxHKYYcjDCpMHmAMLBGeOZOfEfN9nm0hyfQ+MAjzsTNWSeOaJZ1/Gy5eumLa1UW/R5h4gKBGGUxSXFUxXaVsAXmodmlz/Xb9Pd+wPcz5uw6RPnzSYqld0fG3F4XAcJxef0HrhbjNHXxzkmbOsq1SXFmC1UadNMBEEyZHIIwxmfNku1qGJ/qCiR+cu6JtxrnuyhDCP642eOJ8WOs9EM1LqxJE36CdbRqWN2OGSZdKyhuG9mEcX+ra+JZ74jwmEzCemHjA98My+/fJOsZXEiABEogvAYr1+JJiORJIZAQaNawlP/86SrZs3SUlijuE+crVG+XixUvSsH6N2+pt8uTJ5Zcf+jmvCQs/pOLd/4EIdTRi245QuXD+orM9pUsVlaGDvnB+Dgs7JAUKhJjPrm13FrrNN673vM3L3Ra/0zrhlbJ79vD5zNkL5sHcutEZ5ePq/bHO4RUPxXYPmHXOtW7ruP0VD/sHDkVIx4cqOw/Dg4UHbHjWLcM9YO7ug+Nx3Suu86gDZpWL731Q3pWXoyYHF7x3V1dszKxr43q12ulazvV4XGNXt3JR1yrMZ9d67IXcjY/9vOt7T3WhLM5jYqhr25rOSyP1OwhPsTt2zkK38Sa2NsR2HFVb5/Aa2xjbWSA6BEK9mYrT6uUKmtbNX7FNZqmQXqde8XLF86jH+bj56dW5gXqtM6hwX2Q809l1Igzhz3+rgCtZKJe0rF9WTqtne7d6bO3WtlEF44WGV3no+EUyT+vv3bmhLFy9w0Sn1K9aTE6qd2WntqNTy2qya99RI9Qfa1FViuTPLiMnL5VJc9bKq082lRZ1yzir/uD7SVKrYmGpUd7x9x0eawhv/G7m1QkD2O4DR+WaeqqLFcjuvM7+Bpwma91ldeKtdYPysl6vh6BGxExOm+cc15w6c95MIuTPFSRos2Wheg9MCmDiBpEtdrFulcErWFcrW1DqVysmYYdPyuCxC0yfixfMIcvXhxpPf6/HGhimA4f9K/u1P9bko1VPbG3AeXecX1NmloH/N8NnmrGoUCKviVBYpve1xDqihUoWziWB/umtS+L1av8+xesCFiIBEiABGwGKdRsMviUBXyJQsnhhCc4WJPMWLHOK9fn6vmyZ4pIlsyOU+rsff5dxE/7RsPjz8lDTevJen96SIkUKaf/oc9LtifYyaMifcvp0pCyYPcYce7pHJ/HTMPMffh4hp/R4kxZd5dmej8lPg/6Q/h+/IWVKOx7gEJb+8affydjRPwq83pZFnjkrH378rSxSrz88P+3aNJHXXu4pJ0+elvc+GiiLFq+STP4Z5JUXe0jL5g3MZfa2oBw8+VfUw/Fmn/7qLU8jf478Vg6oOH/j7f4yaewvpm3rNmyVrdtCZdnydTJt0m/SoXMvQdutSYpBQ0bLhEn/ysGDR6RK5TLS74PXJGmyZPKj9mvBohVy6lSktGnVWJ5/5nHDo3O3l2+5JzxosbXZ6i/COUePmWIiHHaG7pUqlcrKc093loIF8oq7Ok+cOCm//T5W3njlafFXDq52+PhpGfTXfBMCW0wf4iEwkqpnaOgEh0dqij50I8w2a2BG88CP0NlwDWPFwzxCY+E1gndu7ZZ95uG6RKGc0koFR3L1FGI9/LT5G4xnLmWKZFJGH9Yb1yqlYZ979OH5UoyH8+0a8po9q7+G+zoiLdBOeNqLaptgEDcLV+0wHi143eCBb1W/nDkHr+VZ9cJD8IdqOC3EfYNqxaW8iiLYD3/MloJ5sulD/GE5qmHB2TWkvn2TikYkmQK2f/DgPmXOOhPOmiljeom6dk0yZUhnSuC+yzeEGsGFcOJ0GpoMoROSPfMtvLqp4EQoWmxtRoTCjIUbZf02DenV90U17Dtcw46fVg8yok5+Gj1XmiqrgsoW9qd6RbOqN9US1XiYn7t8q2D80J92jSsaYeOO+XnlArFmHzuLjalc/7EYtlMRCINghMcP4dEI366gLGtXuun5RBlrfFaoIFm3bb/A+43vDuxv/V7AowqxY9VljQ1EGYQNDGNTqVR+gcA5q/fs3Lq6TJq1xnCYqwIUXkyEcsOTWbFkPiMce3ao4/TyTluwQS5rODbu48nQjznKK1wFXYB/Omlco6T5bsXWNtxvxqJNUkqF1hwV2QjLP6KsMbli/U5gjBG+DLNY4P32PYeMd7qaepMtq6kCGEJ6m44bxPo5DZlOruMMoY5XCGHUAdu574h+B5JJc/1uwTMNwYofd4bz+J37Rzngb0PVMgU07HqPGatl63dLUOYMpp9z1RuN76vlva1cOr/xZkfqRIDlRXdXf4hOluE6TD5YYh3v4dW2fi9cr0PoPIR2eR1jfJfxu4r27dPfYbtYR3TBH1OWSSrtQ4dmlWNMFiICIGdwgBHWmOBoVqe02wmbLm1qOKMwIMKzaX/BD2IdYenghjYgciRzQHoz6WAX657aYO+XnTP+zlgTiDOXbJYLF69I64fLm+J1KhWV70bMNL83iJbAUoj2+rt5u2b/Pt3utSxPAiRAAkwwx+8ACfgoAXheGzWoKfMXLncSmLdguTmGA9//NNwIyT5v9ZJvB7wvi5aslLnzl5mye/eGyRvv9JeH2zaVn3/4xHnszJlzUrhQPiPsIZQ/6vuK1K5VWTKqUPpr/DRTDv9MnjpLgoODYgj1aypuH+/2imzfuVu+G9BXvvr8f5JZJw1wvEuP1+T8+Qsy/LevpKtOEvR5/0t9qL/ivK/Vlp++7ycv9X7SHO/W5WFz//Tp0prJBqydh5eodctGkj9fbqlQvqQR4Xj4Q3/QdhgmGgZ++5v0eLKDTib8oGvwC5h17rj/GV3L37/fmzJ08Bcyc/YiGTdxuqRVQep6TywH8NRmcyP9B2OwectO6d7tEZn41y/i55dOPtJJDHd1oh9YXvDXuGmye88Bq4oYr1gvWbJgTiM6sT4YD8mpVJxXL+fwrJUvkUeaaLhrxVJ5JaOGtyL8Fp8hIvGQinWt8LohBBQCDA/WqAe2SMU1RHZXfaCGhw0PuJByWMOJ9dGWlxxlXR9O8RANgQURC8M98ODdWb2EEKzwqEHEwSC4cN/M6r3CQz+8WPDswesFO6biYc3mfVJVPXDN65SRM/oQ/68KfFdDGC28lBDZHR+qomG5hZ11mLLaeLQJorF7+1qGBbyl7nihr57aDCG4bF2o1FEB/KjeC+uC0R983/D9PXoiUgXPVWcTsd4V4gOGekdNXWaiDrq0rqG5E1JofzaZc+6YY1xcx84Utv0Dhqd1ogIGDkPGLTTtgWDEhAlCjxes2u68wj4+yHkArybW48LAHeuXsf44SvvymzLFJEIn9epikgCTAFbfMDaTZq+REiqucP6ifqfAAcKztAplf50oQb4CTCIVCAkyE0UQizC0E/exQsfNQTf/gBfCrP30965bu5rGw4vfYU9tw3cbXljwBAN4yF1/JyzBZmeB2yP8GhNY9kgVTCTmU+8xxBussC7tSKnh76P+Xmp+hxDuXySfY2IKE0EIn8e6anjM7SHX5mLbP/BwY203wqghKDFBAP5L1+4ShNJDPOJ3DhMUCAVHW2HWeu9jJx2/Q+agm3/QB0zi4R6WQQxbot86Zn/FBAYmIBDKDbuhk1x+6dKYiTJ7ufHqbcdkE9psscR5fP/xNwT3xQ++mxgLd2Ytl8A59PvEqXM6seiY2CireSa2hR4yDPGdidBzmLSzW2xtsJfBe1fOOIZxWa4TIo2ql3BOeGSNnhxZpBMz+H0pqqHt9okWfO8xuWX9rN2yH1XFMNfvU4yT/EACJEAC8SBAz3o8ILEICSRWAo01FH7EqInGcw0hum9/uFOsQ4h26thKalZ3eBIaqrCfNWex4BpY505tzI8rm0yZMkqekBy6ljKlVCxfypxGPe9/+LW8+05vfQhNYep5v8+LMS7drqHrW7ftkqkTh5gkdThZrUo5I2a379gt0z77TXLlDJZC6nUeNnycyeRer05VU4e9LacjHd7LIoXyO+9vvxGEOpLKZQ/OKuXLlbCfMu/R76ee7Cjt2zjCI5EwDxaSO4d82f8d8/C5Xj3zefPklCWajK9n90c1GqGYKWPdEwI8rjbjAjw8f6oRBzCwzxOSU7CeHpEMrnWiTKcOLTVJXhXTdnx2NXisqkZ7ANeod3yfJsPC5/y5g0xRCLFC0Q+4SBQVoEIYQgMGUQLDOlwkA8NxJNPCwzxCXiHG8eAJkVlUQ2aLRAtviHcIJYgIGN7D89uganHHAf0XCafgDcP9YJZX98Sps0aMQ/zAU2s9CMNb1kQ90TBMKCB5nhH7+rAPq1elqNPTflkf6uct32YewK11uCgDzzaE+lOP1HGGyu7QvljZ6OE1xrpi2OHjkeqp8zN9xXpVd7w8tXmDetTh3awWHSZ9SR/iMbERH9ug62AzqPiph9B1bRO8qaOnLjdiJTbmrmPn6T4QieCMvlpjdkJFHaIArHXFruODcUC4NDhg4gVRCAj/RRTGcb0W660RGQDPKrzoEE/wWsMqlsyr4+P4fUDEgGUQ+2g3Jl+sCIN8ubIYgQ4Rt1PHH98v3MeTYd0wIjYeaVbJeOQtDzFCvGNrG4QvDJNQEN6wdPodh9l/J/DZzgLfZXjNg6PXnuO8ZZhUQP8QSYF14/Ba4zu8Y+8cM+EDDjAIaLQNUSlB+h2bv3K7SXBoRZKgDCJaMOEAvnhFZAVe0yRLab5XmLwBN3jdYcXy55DJs9fKzxqxEaK/K5YX/5JGJcRlEOaYYEM4/kWd8IR4Rn2xGfqGvwW4X+h+JK5zfAfsSeoQwXJalzhgTfziNTulgvbdYg6eaBfWpfvr3wBMNCGhnd0j7u7es5ZsMdEjxaP7jO9PWk1KuED54XuCv2PwvFvmqQ1Wmdg4Y0JhokaA5NK/j1XKOP7eW9fU0d/LH0fNMR+f61TfOmxe8bcCE4uWYRLA1ezfJ9dz/EwCJEAC8SFAsR4fSixDAomUQPlyJU04NbzrEOvwiufOld2IxfDww/KLrmkfNmKc6T08KoULOxLt4ABEc3ytaaM6Gvb+vcyctch4y+EVr1+vWozLIXDxgIoQcLvB0w4PZacuN8U92rJfxa1lt9MW6xp3rxDJWM9etEjMBzaURZs//ORbE4lQtHABDfM9b7yB7uqJT5ut68ZqxMHgoWM0PDWtBAUFmr5iOUDGjDEzNqM8xD0mGWIzu1iFAETo8n8xPHyHH3F4D+EBR8jomOkrjFiCRx4CDcLebsigDE+fJbxxDgmg/t/e+cB6WVZx/IEMcKHbDZC70IWbG+nAEWgoQjpFu2KEkdNYi4mZi800LavlP1pbxsL+kNZoIkzMQRqEyL9hGqxrgWYJdCnQ0hp6SZRLqfdSaJ3P+Xl+PL+H9/393t+9V7hyz9kuvz/v8z7Pec/zvD/e7znfcx6jwPMZ8EK0HOA8/MTBOu88+JrIZZaFB3xo+ET94z6swRDRUaNwEtUFQJq0SjQbqRapBVgQtRwgINLAW0yLtb54zdOZayDqmAXo4vPz3r/0z72a6zv33rXahLXOfbB33xvKOsiyeV5fWd9DY0ZicATVf8fftqljhahpOj9EMQFFAErA8YiTG5UKbuyHxZIjbULUHKeIST2V/scJZZ71hAMIAAeIt3mw/tLXF8VerK14rdOmmm6mU7W1YOPEtsA2rD+KjqUCOwIAjdNnbfNWjQJ/7fOXBNYdwO++XzYHctj7ydplXc6afr5SvGGRAL5hhZiwdljHRHWhi1v6Acdx3pB+AYi072F/3PS5yTo3pIzghKDAHTT8WkI+OQCcVJUOuee4BiLI1QSGC067v4oDCvAKQyG+vzl3sjjXuD9/IDnfOM8oWIfA7kFgdyDULdi2c5cyHGK2gh58+x/ScGDrMC47XOAQWSQ7SeCsaJp4ujBxngvrhM2yQfSAzWKSp4Mdz7MzDhTWMPnwqU44CWzXAt7HQurAF2ReTfgduGP+I/ZRX+P1VHHAP7gF3AJugYIWcLBe0FDezC1wNFoAUDDp/HOE3v6EAnRo8Qh07MGDGjRyfu2sGV2+dCiiRKqXr1gXhg8/SXPDjx0woKLfk+V7IhzPbGkJYz58MOJNRBtZev9dSl+vOCnjgz1s/a+CmJ3RMOMrrpuc998/vS1c/LHzKlrMu3tRWLtuQ1i9YmEYOnSwUOUXlNMC0jGL6rx121/CN26bG+YItX7apU0ajX/0sWYdN+2zQplOfiBCGgvAsJpAOTYQygM+ucQ8hK+R/OwH12zWKGW6vRJRPopemTAGEcjPSv4ywohEjgEIgBlAF1W58wSqMRTpFBxY+xdER/oAdMRi+bQwBmKgam2oWs11TJGc/LMkKk4EmkhlLGavajqTA0yeMOOMPUgmKHdDbjm+B6jYJtYvn3GIQOX/8symQ4ACx7Nszve15o42CIwGBJALdbv0vk2/B4ym88Nx6hGsl9SCFqEvEy2+XEATYn1dJfTz7tgiEIYG4Pzpluc1On/ppDE6TrV/Bom9LNpv25XV0i2O8Kd9x3ORZYthJzQoUIXybAUZcaBgF7MnjA1YC9C/ifRfNGGkrnGi1wB11ha2RlgrRJopEmhCOkEKBO2YUcqPFaZSLKw7Y9HAgsAWRO5rCb/5RMoBkehhFHiiwjgD+N0hSo5YdJxzAOL8ce2/WPdkmUVCOyrGG6tkotS/wLlALj/rhe37YJ2MlPQcBJYHjjq2gYNZkQpb0y2XVAqYLMbW2CMOJ5wjo0/9oNqRInT8NrEODKzn6RAzALLsjJMHijv95P3GYHsxS92StZ7q7sRPcAu4BXq9BUr/e/R6M7gB3AK91wLQ2n+9cZPmQxtYxxq8f2DJCt2L/E0pzPXMlu1h14u7O22oT18+Jfxu8x/DqjWPlYvDxZ2NGjVCC9vd+cN7wvY/PxtaW18OC6WYGtuvAY6/PefusPPZ53UPdwO08fn2Hoo728htlvzujo79mi9rx4q8XnDe+PDwqkdVT/LU75c0gZelsBtV8smzP/74gVJt/jml8lt/6ZgjZdu7Ijp37N+vYAmqPdH0+362zLpUqn56HaQJXHvD7WHPK6Vod7lxjTcUFQNsEx2D9opTBJBIbjKAgn2ITah4zAM1edhQSy3PnOJfgLdjpFgWD7VEuwDRFEYjVxQB1AKMoDWb/F3GAEgYuIMVQTT2/fIgz4M/0W2oxrFQOI5+yCOlmBUgyejOtCMHlggmVG6AHnRtou9Qzxc8tEEjocOE0kqEf70UjeLBnggfAMvEKKsNAp6otL1Romsmqb0O/PfNqjqTn0xkGH0A7eS4mgB4AGxEqDlGRJDcXhPAUpsAkdUbtiggIccZOyN5Nk/nDlowedyAtlSovA2wo+gc9qGqNjnL5N8i6fzwHXnK2PRhoWe/V/S37fboCwo6etEXkUQKoMWAl/OLCk4WcvDJoQfYZDEn0r5Yj6wbcuMBWswrVOR6dUvnmHsiyxYAbxwtS1Zt0nVEvjXbpv1H1sSFUvgQIXLP/MP+IJ+fnHXut+MGlrbwgjVCPQRYDtQ2ALDnFXRLrzfrM3an6B/RYNJDoHdTewFQXUQo2AY9GycCVeC5b3FULRNGAFR82CbMjeWLozvjYO+lq0vMGkunYTxzLPIekM19t/LxP0g6TKvWMzhbWAEAc/6gyOOg2brjHzSvkD9JxB1HHr8VOD+4//mNahBHHGyCZvmtgIVBDQiYLrFzIk+HigGSD6y5ZeufUicFvy+MZ384MroqWeupq336+W4Bt0Dvs4BH1nvfnPsVuwUqLEBeONuXUczt1A+dUj52283XCU25PXzxxtkCyg5IFen3aXG1YR8oFVuKo1qcxMOSfde3T195X/ngSLT5rI+MDi0CxCeMP6M8jr0h0r7onrnhuhu/GaZMu1r7ozo7+e6L7/1+uF70mDx1po4BVZ7t2KhaH49relw541NaII9icRSJM4kf6NL3pvvsW78kD4Svh698/Q51DJBHTrrAdMkXh4EwamyTAvFxZ44uF3qjr3TMajqbPuT0nztxXJh62TVaoOqKyz5uh/S60j63SwV7ovtXX3mFMh/KjeUNUTG7Br7vIwDZhGNEozZKBIliSBRUGyNUZyjr312wWrcmstz1LbK1EuCJYk8TzxihETKAOdf4c4mmAwx5kCcvGVDHQz/Fnnjgtyi40UYZXyPt8uBt2qAjD/TsIU3uLDm3gxoqo+IHDrylDgCcCIwxXfLorYgWfb7a9nq4a/F6HZNcYfaPRwDBRMwp8EZUjwrsUJLnL31cASv57+952y6nCBglMgpdGftA/TbJslc1nSmqxRZYD67drH3FdHz6PEeijVSLp1o6gMVytjkGKCG6j82h/mJnItuwE/Jsns4dUUHqBFDAjfoC8dwDctirmgr0bIVFhJeIZdOEEk05nR90QoiM7nxhk64NA4HW19I1pb5oh+OGPHDAZ7oGOY5wHSbxGuU79gxnK7RRQnGOC4xZ+/QV5wbzCnWZugycw24B1XSzPir0EJ3Se2KH2JD5OKhtUMYGhRBx+rCOEFgcrEljGkw+93QF8z+R3GbuA9YqRQ25T6Dek06gtG3RmfVMf7HEesXf8x5d+IvtBpDk3sXxwnzieLlE6lWkwjlZfQO0sRsOhZPEAUP/FwoFn73QoaDjYKIQH1F9HDGkASwU3QG3FMtDf85F6D/WjX4vFnsAuqW57jIR0/NZIzhlWqRYXJy3T18wXRCca/OXlGzN569KesFnpowPD0lE/zs/fUT15XfDqPbVdGB9W4X81BY4O3AGINwbsaCbbdnG9XHtsaRjcoxriyXv3orb+Hu3gFvALVDLAn3kB6jyF6jWGX7cLeAW6FUWIFf7lVf3hsahQ+ShrBKA12sItkgbedoILTRX7VzG69+vn1Zhj9u1tZUqbFPErpaQf97e3i554INrNc083t7RoakBJwwZVD7Oz+Xu3XtCY+Oh9E0aZY1ZRGe2nBsoW96RLpBK2ifbxhW5/rQfPkPlZRsmAAPC9UB5VdAtQGXxiuZw86xPKCCH3p6CJ0D7v/7drtt/Ga0X8M4DPWAJAE5/8fZG7IcMuAIExcJ5ROaN5mvHAAz7XnsjzJz2UY3cHie6xo/At/9ouebHsoUUfcTbw9EHAD/OoyeCTjSO3Nf0Yd3aA06IzKeS2itPZzuPcbADDowHVv423CK2tOujWBlbCsa62Xm88h8x+bxEHWMDXDSdAAACt0lEQVS7Z9lc20dzBygk2txfAFQKGGhrQkQWlkLcf9782Dl5r0SLYUkQte+KwCSYJ9tj4VAgms91wKzIEkCwpTuwdvcJS4TvuP5Y6tEtnuNatoB1wp7pVLOngBx2jNcUIJo1EjuWTC/0fU3qG2Qdszb1vjKfrF3+uktg3jCnqU353eBeStNeumvcov1wj2F3cxYUPe9ItKu1no6ETj6mW8At8O6yAEy47vuFf3ddu2vrFnALFLRAf8nXq1bUrEg30LdXrvpVIEf7zjm31DwF+neWZO0tntWO78g/56+zQqQ/zavnwTwPqOeNWURn8uTzJL2OzgJ1+geoWd4tn7meQ+i4AioAtlkCELQolR2PgR/5qey7bQKdnod/otipcF58bnqcaJY5FdJjfE6vxdqkYBjQQT5rnqTt43bpGLV0rgbEcG4ckxTji8fCIZGlZ5bNOS+dO3MKxH2m71PHRrX5Sc9NP3cVtFEUkHSG3zy1Q/O1AeoIucnsd50lpFdMEJYCwvVn2Ytj9ehmc1zEFtQ2wFkFCwKmRF+Z0+tnXKQpHYwLgMwDkehbbX1wfr2Szme952e1z7vncEL1BOluG75T11RkPb1TY3u/bgG3wNFlgZ7x63t02dSvxi3gFkgscOvs70mO81vhx/O+FU4cVrk3btLUPx4hCwBEofUa5bkzanxy0lilydq5gAm2TsuKWlub9JWHccsnT4/xmVz3IsA069zD9d0AcYpgSwBaT5bOzE93XU+rbJdHEbtGoVVPlXVjQqG1a2TNHG4pagty2C8Yf1rYJbsksE7zwO3h1t/H61kWKLqeepbWro1bwC3QEy3gNPieOCuuk1vALeAWcAu4BdwCbgG3gFvALeAWcAv0WgtAg69M9Oq1pvALdwu4BdwCbgG3gFvALeAWcAu4BdwCbgG3QM+xwP8BMWoDdUQcMtIAAAAASUVORK5CYII=)"
      ],
      "metadata": {
        "id": "HDX0sEHZ-_VG"
      }
    },
    {
      "cell_type": "markdown",
      "source": [
        "##Kurs dość trudny i wymaga zaawansowanych umiejętności analizy danych. W trakcie kursu trzeba pracować z dużymi zbiorami danych i wyciągać wnioski, które mogą pomóc w tworzeniu opłacalnych aplikacji. Choć kurs jest wymagający, daje dużo przydatnej wiedzy na temat tego, jakie aplikacje mogą odnieść sukces na rynku. Pomaga zrozumieć, jak analizować dane i podejmować decyzje biznesowe, które mogą poprawić rentowność aplikacji."
      ],
      "metadata": {
        "id": "GY8PHs55_T31"
      }
    }
  ]
}